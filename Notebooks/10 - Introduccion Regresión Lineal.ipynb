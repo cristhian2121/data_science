{
 "cells": [
  {
   "cell_type": "markdown",
   "id": "286d3bc9",
   "metadata": {},
   "source": [
    "# Introducción a la Regresión Lineal"
   ]
  },
  {
   "cell_type": "markdown",
   "id": "9d4d9924",
   "metadata": {},
   "source": [
    "La regresión numérica es uno de los procedimientos que más se ha utilizado para el análisis predictivo. La idea es a partir de una hipótesis de modelo de relación entre las variables de entrada y salida, que a continuación es aplicado a los datos disponibles para generar los parámetros que mejor se ajustan al modelo, y es validado con algún test apropiado que brinde la confianza que a su vez permita aplicar este modelo para predecir valores con datos futuros. "
   ]
  },
  {
   "cell_type": "code",
   "execution_count": 1,
   "id": "d0fbc394",
   "metadata": {
    "scrolled": true
   },
   "outputs": [],
   "source": [
    "# Tratamiento de datos\n",
    "import numpy as np\n",
    "import pandas as pd\n",
    "import math\n",
    "\n",
    "# Gráficos\n",
    "import matplotlib.pyplot as plt\n",
    "import seaborn as sns\n",
    "from matplotlib import style\n",
    "%matplotlib inline\n",
    "\n",
    "# Estilos de las gráfica\n",
    "plt.style.use('bmh') #makes plots look pretty\n",
    "\n",
    "# Preprocesado y modelado\n",
    "# Sklearn\n",
    "from sklearn.model_selection import cross_val_score, ShuffleSplit, train_test_split, GridSearchCV, KFold, ParameterGrid\n",
    "from sklearn.ensemble import RandomForestClassifier, BaggingClassifier, StackingClassifier\n",
    "from sklearn.tree import DecisionTreeClassifier\n",
    "from sklearn.linear_model import LinearRegression, LogisticRegression\n",
    "from sklearn.metrics import mean_absolute_error, mean_squared_error, accuracy_score, precision_score\n",
    "from sklearn.metrics import confusion_matrix, plot_confusion_matrix, f1_score, balanced_accuracy_score\n",
    "from sklearn.metrics import recall_score, roc_curve, auc, roc_auc_score, classification_report\n",
    "from sklearn.metrics import precision_recall_curve, mean_squared_error, r2_score\n",
    "from sklearn.preprocessing import MinMaxScaler, OneHotEncoder\n",
    "from sklearn.neighbors import KNeighborsClassifier\n",
    "\n",
    "# Escalado de datos\n",
    "from sklearn.preprocessing import scale\n",
    "\n",
    "# Configuración ignore warnings\n",
    "import warnings\n",
    "warnings.filterwarnings('ignore')\n",
    "\n",
    "#import pingouin as pg #Correlación con intervalos de confianza\n",
    "from scipy import stats\n",
    "from scipy.stats import pearsonr\n",
    "import scipy\n",
    "import statsmodels.api as sm"
   ]
  },
  {
   "cell_type": "markdown",
   "id": "9922f30d",
   "metadata": {},
   "source": [
    "## Regresión Lineal Simple"
   ]
  },
  {
   "cell_type": "markdown",
   "id": "ecea53f2",
   "metadata": {},
   "source": [
    "La regresión lineal es la forma más simple de regresión, ya que en ella se modelan los datos usando una línea recta. Se caracteriza, por la utilización de dos variables, una aleatoria; *y (llamada variable respuesta - dependiente)*, que es función lineal de otra variable aleatoria; *x (llamada variable independiente)*."
   ]
  },
  {
   "cell_type": "code",
   "execution_count": 2,
   "id": "177c1a9c",
   "metadata": {},
   "outputs": [],
   "source": [
    "equipos = [\"Texas\",\"Boston\",\"Detroit\",\"Kansas\",\"St.\",\"New_S.\",\"New_Y.\",\n",
    "             \"Milwaukee\",\"Colorado\",\"Houston\",\"Baltimore\",\"Los_An.\",\"Chicago\",\n",
    "             \"Cincinnati\",\"Los_P.\",\"Philadelphia\",\"Chicago\",\"Cleveland\",\"Arizona\",\n",
    "             \"Toronto\",\"Minnesota\",\"Florida\",\"Pittsburgh\",\"Oakland\",\"Tampa\",\n",
    "             \"Atlanta\",\"Washington\",\"San.F\",\"San.I\",\"Seattle\"]\n",
    "numero_bateos = [5659,  5710, 5563, 5672, 5532, 5600, 5518, 5447, 5544, 5598,\n",
    "                   5585, 5436, 5549, 5612, 5513, 5579, 5502, 5509, 5421, 5559,\n",
    "                   5487, 5508, 5421, 5452, 5436, 5528, 5441, 5486, 5417, 5421]\n",
    "runs= [855, 875, 787, 730, 762, 718, 867, 721, 735, 615, 708, 644, 654, 735,\n",
    "          667, 713, 654, 704, 731, 743, 619, 625, 610, 645, 707, 641, 624, 570,\n",
    "          593, 556]"
   ]
  },
  {
   "cell_type": "code",
   "execution_count": 3,
   "id": "7aed7f4a",
   "metadata": {},
   "outputs": [
    {
     "data": {
      "text/html": [
       "<div>\n",
       "<style scoped>\n",
       "    .dataframe tbody tr th:only-of-type {\n",
       "        vertical-align: middle;\n",
       "    }\n",
       "\n",
       "    .dataframe tbody tr th {\n",
       "        vertical-align: top;\n",
       "    }\n",
       "\n",
       "    .dataframe thead th {\n",
       "        text-align: right;\n",
       "    }\n",
       "</style>\n",
       "<table border=\"1\" class=\"dataframe\">\n",
       "  <thead>\n",
       "    <tr style=\"text-align: right;\">\n",
       "      <th></th>\n",
       "      <th>equipos</th>\n",
       "      <th>numero_bateos</th>\n",
       "      <th>runs</th>\n",
       "    </tr>\n",
       "  </thead>\n",
       "  <tbody>\n",
       "    <tr>\n",
       "      <th>0</th>\n",
       "      <td>Texas</td>\n",
       "      <td>5659</td>\n",
       "      <td>855</td>\n",
       "    </tr>\n",
       "    <tr>\n",
       "      <th>1</th>\n",
       "      <td>Boston</td>\n",
       "      <td>5710</td>\n",
       "      <td>875</td>\n",
       "    </tr>\n",
       "    <tr>\n",
       "      <th>2</th>\n",
       "      <td>Detroit</td>\n",
       "      <td>5563</td>\n",
       "      <td>787</td>\n",
       "    </tr>\n",
       "    <tr>\n",
       "      <th>3</th>\n",
       "      <td>Kansas</td>\n",
       "      <td>5672</td>\n",
       "      <td>730</td>\n",
       "    </tr>\n",
       "    <tr>\n",
       "      <th>4</th>\n",
       "      <td>St.</td>\n",
       "      <td>5532</td>\n",
       "      <td>762</td>\n",
       "    </tr>\n",
       "    <tr>\n",
       "      <th>5</th>\n",
       "      <td>New_S.</td>\n",
       "      <td>5600</td>\n",
       "      <td>718</td>\n",
       "    </tr>\n",
       "    <tr>\n",
       "      <th>6</th>\n",
       "      <td>New_Y.</td>\n",
       "      <td>5518</td>\n",
       "      <td>867</td>\n",
       "    </tr>\n",
       "    <tr>\n",
       "      <th>7</th>\n",
       "      <td>Milwaukee</td>\n",
       "      <td>5447</td>\n",
       "      <td>721</td>\n",
       "    </tr>\n",
       "    <tr>\n",
       "      <th>8</th>\n",
       "      <td>Colorado</td>\n",
       "      <td>5544</td>\n",
       "      <td>735</td>\n",
       "    </tr>\n",
       "    <tr>\n",
       "      <th>9</th>\n",
       "      <td>Houston</td>\n",
       "      <td>5598</td>\n",
       "      <td>615</td>\n",
       "    </tr>\n",
       "    <tr>\n",
       "      <th>10</th>\n",
       "      <td>Baltimore</td>\n",
       "      <td>5585</td>\n",
       "      <td>708</td>\n",
       "    </tr>\n",
       "    <tr>\n",
       "      <th>11</th>\n",
       "      <td>Los_An.</td>\n",
       "      <td>5436</td>\n",
       "      <td>644</td>\n",
       "    </tr>\n",
       "    <tr>\n",
       "      <th>12</th>\n",
       "      <td>Chicago</td>\n",
       "      <td>5549</td>\n",
       "      <td>654</td>\n",
       "    </tr>\n",
       "    <tr>\n",
       "      <th>13</th>\n",
       "      <td>Cincinnati</td>\n",
       "      <td>5612</td>\n",
       "      <td>735</td>\n",
       "    </tr>\n",
       "    <tr>\n",
       "      <th>14</th>\n",
       "      <td>Los_P.</td>\n",
       "      <td>5513</td>\n",
       "      <td>667</td>\n",
       "    </tr>\n",
       "    <tr>\n",
       "      <th>15</th>\n",
       "      <td>Philadelphia</td>\n",
       "      <td>5579</td>\n",
       "      <td>713</td>\n",
       "    </tr>\n",
       "    <tr>\n",
       "      <th>16</th>\n",
       "      <td>Chicago</td>\n",
       "      <td>5502</td>\n",
       "      <td>654</td>\n",
       "    </tr>\n",
       "    <tr>\n",
       "      <th>17</th>\n",
       "      <td>Cleveland</td>\n",
       "      <td>5509</td>\n",
       "      <td>704</td>\n",
       "    </tr>\n",
       "    <tr>\n",
       "      <th>18</th>\n",
       "      <td>Arizona</td>\n",
       "      <td>5421</td>\n",
       "      <td>731</td>\n",
       "    </tr>\n",
       "    <tr>\n",
       "      <th>19</th>\n",
       "      <td>Toronto</td>\n",
       "      <td>5559</td>\n",
       "      <td>743</td>\n",
       "    </tr>\n",
       "    <tr>\n",
       "      <th>20</th>\n",
       "      <td>Minnesota</td>\n",
       "      <td>5487</td>\n",
       "      <td>619</td>\n",
       "    </tr>\n",
       "    <tr>\n",
       "      <th>21</th>\n",
       "      <td>Florida</td>\n",
       "      <td>5508</td>\n",
       "      <td>625</td>\n",
       "    </tr>\n",
       "    <tr>\n",
       "      <th>22</th>\n",
       "      <td>Pittsburgh</td>\n",
       "      <td>5421</td>\n",
       "      <td>610</td>\n",
       "    </tr>\n",
       "    <tr>\n",
       "      <th>23</th>\n",
       "      <td>Oakland</td>\n",
       "      <td>5452</td>\n",
       "      <td>645</td>\n",
       "    </tr>\n",
       "    <tr>\n",
       "      <th>24</th>\n",
       "      <td>Tampa</td>\n",
       "      <td>5436</td>\n",
       "      <td>707</td>\n",
       "    </tr>\n",
       "    <tr>\n",
       "      <th>25</th>\n",
       "      <td>Atlanta</td>\n",
       "      <td>5528</td>\n",
       "      <td>641</td>\n",
       "    </tr>\n",
       "    <tr>\n",
       "      <th>26</th>\n",
       "      <td>Washington</td>\n",
       "      <td>5441</td>\n",
       "      <td>624</td>\n",
       "    </tr>\n",
       "    <tr>\n",
       "      <th>27</th>\n",
       "      <td>San.F</td>\n",
       "      <td>5486</td>\n",
       "      <td>570</td>\n",
       "    </tr>\n",
       "    <tr>\n",
       "      <th>28</th>\n",
       "      <td>San.I</td>\n",
       "      <td>5417</td>\n",
       "      <td>593</td>\n",
       "    </tr>\n",
       "    <tr>\n",
       "      <th>29</th>\n",
       "      <td>Seattle</td>\n",
       "      <td>5421</td>\n",
       "      <td>556</td>\n",
       "    </tr>\n",
       "  </tbody>\n",
       "</table>\n",
       "</div>"
      ],
      "text/plain": [
       "         equipos  numero_bateos  runs\n",
       "0          Texas           5659   855\n",
       "1         Boston           5710   875\n",
       "2        Detroit           5563   787\n",
       "3         Kansas           5672   730\n",
       "4            St.           5532   762\n",
       "5         New_S.           5600   718\n",
       "6         New_Y.           5518   867\n",
       "7      Milwaukee           5447   721\n",
       "8       Colorado           5544   735\n",
       "9        Houston           5598   615\n",
       "10     Baltimore           5585   708\n",
       "11       Los_An.           5436   644\n",
       "12       Chicago           5549   654\n",
       "13    Cincinnati           5612   735\n",
       "14        Los_P.           5513   667\n",
       "15  Philadelphia           5579   713\n",
       "16       Chicago           5502   654\n",
       "17     Cleveland           5509   704\n",
       "18       Arizona           5421   731\n",
       "19       Toronto           5559   743\n",
       "20     Minnesota           5487   619\n",
       "21       Florida           5508   625\n",
       "22    Pittsburgh           5421   610\n",
       "23       Oakland           5452   645\n",
       "24         Tampa           5436   707\n",
       "25       Atlanta           5528   641\n",
       "26    Washington           5441   624\n",
       "27         San.F           5486   570\n",
       "28         San.I           5417   593\n",
       "29       Seattle           5421   556"
      ]
     },
     "execution_count": 3,
     "metadata": {},
     "output_type": "execute_result"
    }
   ],
   "source": [
    "data = pd.DataFrame(list(zip(equipos, numero_bateos, runs)), columns = ['equipos', 'numero_bateos', 'runs'])\n",
    "data"
   ]
  },
  {
   "cell_type": "markdown",
   "id": "2eecfa4f",
   "metadata": {},
   "source": [
    "**DIAGRAMAS DE DISTRIBUCIÓN**"
   ]
  },
  {
   "cell_type": "code",
   "execution_count": 4,
   "id": "7f652b24",
   "metadata": {},
   "outputs": [
    {
     "data": {
      "text/plain": [
       "(array([7., 2., 3., 6., 4., 2., 3., 0., 2., 1.]),\n",
       " array([5417. , 5446.3, 5475.6, 5504.9, 5534.2, 5563.5, 5592.8, 5622.1,\n",
       "        5651.4, 5680.7, 5710. ]),\n",
       " <a list of 10 Patch objects>)"
      ]
     },
     "execution_count": 4,
     "metadata": {},
     "output_type": "execute_result"
    },
    {
     "data": {
      "image/png": "[encoded data removed]",
      "text/plain": [
       "<Figure size 432x288 with 1 Axes>"
      ]
     },
     "metadata": {
      "needs_background": "light"
     },
     "output_type": "display_data"
    }
   ],
   "source": [
    "plt.hist(data['numero_bateos'])"
   ]
  },
  {
   "cell_type": "code",
   "execution_count": 5,
   "id": "110149be",
   "metadata": {},
   "outputs": [
    {
     "data": {
      "text/plain": [
       "(array([2., 4., 5., 3., 4., 7., 1., 1., 0., 3.]),\n",
       " array([556. , 587.9, 619.8, 651.7, 683.6, 715.5, 747.4, 779.3, 811.2,\n",
       "        843.1, 875. ]),\n",
       " <a list of 10 Patch objects>)"
      ]
     },
     "execution_count": 5,
     "metadata": {},
     "output_type": "execute_result"
    },
    {
     "data": {
      "image/png": "[encoded data removed]",
      "text/plain": [
       "<Figure size 432x288 with 1 Axes>"
      ]
     },
     "metadata": {
      "needs_background": "light"
     },
     "output_type": "display_data"
    }
   ],
   "source": [
    "plt.hist(data['runs'])"
   ]
  },
  {
   "cell_type": "code",
   "execution_count": 6,
   "id": "dd4d432f",
   "metadata": {},
   "outputs": [
    {
     "data": {
      "text/plain": [
       "'Línea de regresión: y=-2789.24+0.63x, Correlación=0.61'"
      ]
     },
     "execution_count": 6,
     "metadata": {},
     "output_type": "execute_result"
    }
   ],
   "source": [
    "slope, intercept, r, p, stderr = scipy.stats.linregress(data['numero_bateos'], data['runs'])\n",
    "line = f'Línea de regresión: y={intercept:.2f}+{slope:.2f}x, Correlación={r:.2f}'\n",
    "line"
   ]
  },
  {
   "cell_type": "code",
   "execution_count": 7,
   "id": "2ea23725",
   "metadata": {},
   "outputs": [
    {
     "data": {
      "image/png": "[encoded data removed]",
      "text/plain": [
       "<Figure size 720x360 with 1 Axes>"
      ]
     },
     "metadata": {
      "needs_background": "light"
     },
     "output_type": "display_data"
    }
   ],
   "source": [
    "f_dims = (10, 5)\n",
    "fig, ax = plt.subplots(figsize=f_dims)\n",
    "\n",
    "sns.scatterplot(data=data, x='numero_bateos', y='runs', ax=ax)\n",
    "ax.set_title(\"Diagrama de dispersión\")\n",
    "ax.set_xlabel(\"Número de bateos\")\n",
    "ax.set_ylabel(\"Runs\")\n",
    "plt.savefig(\"Correlación1.png\", dpi=96, bbox_inches='tight') "
   ]
  },
  {
   "cell_type": "code",
   "execution_count": 8,
   "id": "d6765518",
   "metadata": {},
   "outputs": [
    {
     "data": {
      "image/png": "[encoded data removed]",
      "text/plain": [
       "<Figure size 720x360 with 1 Axes>"
      ]
     },
     "metadata": {
      "needs_background": "light"
     },
     "output_type": "display_data"
    }
   ],
   "source": [
    "f_dims = (10, 5)\n",
    "fig, ax = plt.subplots(figsize=f_dims)\n",
    "ax.plot(data['numero_bateos'], data[\"runs\"], linewidth=0, marker='o')\n",
    "ax.plot(data['numero_bateos'], intercept + slope * data['numero_bateos'], label=line)\n",
    "ax.set_xlabel(\"Número de bateos\")\n",
    "ax.set_ylabel(\"Runs\")\n",
    "ax.legend(facecolor='white')\n",
    "plt.show()"
   ]
  },
  {
   "cell_type": "code",
   "execution_count": 9,
   "id": "d994a848",
   "metadata": {},
   "outputs": [
    {
     "name": "stdout",
     "output_type": "stream",
     "text": [
      "Correlación Pearson: r=0.6106270467206685, p-value=0.0003388351359791999\n",
      "Correlación Spearman: r=0.6040298678154843, p-value=0.00040852438606748853\n",
      "Correlación Kendall: r=0.4467604562142454, p-value=0.000566915544734986\n"
     ]
    }
   ],
   "source": [
    "# Cálculo de correlación y significancia con Scipy\n",
    "# ==============================================================================\n",
    "data_a = data['numero_bateos']\n",
    "data_b = data['runs']\n",
    "\n",
    "r, p = stats.pearsonr(data_a, data_b)\n",
    "print(f\"Correlación Pearson: r={r}, p-value={p}\")\n",
    "\n",
    "r, p = stats.spearmanr(data_a, data_b)\n",
    "print(f\"Correlación Spearman: r={r}, p-value={p}\")\n",
    "\n",
    "r, p = stats.kendalltau(data_a, data_b)\n",
    "print(f\"Correlación Kendall: r={r}, p-value={p}\")"
   ]
  },
  {
   "cell_type": "code",
   "execution_count": 10,
   "id": "d0e969a7",
   "metadata": {},
   "outputs": [
    {
     "data": {
      "text/html": [
       "<div>\n",
       "<style scoped>\n",
       "    .dataframe tbody tr th:only-of-type {\n",
       "        vertical-align: middle;\n",
       "    }\n",
       "\n",
       "    .dataframe tbody tr th {\n",
       "        vertical-align: top;\n",
       "    }\n",
       "\n",
       "    .dataframe thead th {\n",
       "        text-align: right;\n",
       "    }\n",
       "</style>\n",
       "<table border=\"1\" class=\"dataframe\">\n",
       "  <thead>\n",
       "    <tr style=\"text-align: right;\">\n",
       "      <th></th>\n",
       "      <th>numero_bateos</th>\n",
       "      <th>runs</th>\n",
       "    </tr>\n",
       "  </thead>\n",
       "  <tbody>\n",
       "    <tr>\n",
       "      <th>numero_bateos</th>\n",
       "      <td>1.00000</td>\n",
       "      <td>0.44676</td>\n",
       "    </tr>\n",
       "    <tr>\n",
       "      <th>runs</th>\n",
       "      <td>0.44676</td>\n",
       "      <td>1.00000</td>\n",
       "    </tr>\n",
       "  </tbody>\n",
       "</table>\n",
       "</div>"
      ],
      "text/plain": [
       "               numero_bateos     runs\n",
       "numero_bateos        1.00000  0.44676\n",
       "runs                 0.44676  1.00000"
      ]
     },
     "execution_count": 10,
     "metadata": {},
     "output_type": "execute_result"
    }
   ],
   "source": [
    "data.corr('kendall')"
   ]
  },
  {
   "cell_type": "code",
   "execution_count": 11,
   "id": "2da18493",
   "metadata": {},
   "outputs": [
    {
     "data": {
      "text/plain": [
       "(0.6106270467206685, 0.0003388351359791999)"
      ]
     },
     "metadata": {},
     "output_type": "display_data"
    }
   ],
   "source": [
    "display(stats.pearsonr(data_a,data_b))"
   ]
  },
  {
   "cell_type": "markdown",
   "id": "c06a815d",
   "metadata": {},
   "source": [
    "El gráfico y el test de correlación muestran una relación lineal, de intensidad considerable (r = 0.61) y significativa (p-value = 0.000339). Tiene sentido intentar generar un modelo de regresión lineal con el objetivo de predecir el número de runs en función del número de bateos del equipo."
   ]
  },
  {
   "cell_type": "markdown",
   "id": "01430228",
   "metadata": {},
   "source": [
    "### Ajuste del modelo"
   ]
  },
  {
   "cell_type": "markdown",
   "id": "ba38e683",
   "metadata": {},
   "source": [
    "Se ajusta un modelo empleando como variable respuesta **runs** y como predictor **numero_bateos**. Como en todo estudio predictivo, no solo es importante ajustar el modelo, sino también cuantificar su capacidad para predecir nuevas observaciones. Para poder hacer esta evaluación, se dividen los datos en dos grupos, uno de entrenamiento y otro de test."
   ]
  },
  {
   "cell_type": "markdown",
   "id": "63c287a0",
   "metadata": {},
   "source": [
    "#### Sklearn"
   ]
  },
  {
   "cell_type": "code",
   "execution_count": 12,
   "id": "cb570f07",
   "metadata": {},
   "outputs": [
    {
     "name": "stdout",
     "output_type": "stream",
     "text": [
      "(24, 1) (24,) (6, 1) (6,)\n"
     ]
    }
   ],
   "source": [
    "# División de los datos en train y test\n",
    "# ==============================================================================\n",
    "X = data[['numero_bateos']]\n",
    "y = data['runs']\n",
    "\n",
    "X_train, X_test, y_train, y_test = train_test_split(X,y, test_size=0.2, random_state=12, shuffle=True)\n",
    "print (X_train.shape, y_train.shape, X_test.shape, y_test.shape)"
   ]
  },
  {
   "cell_type": "markdown",
   "id": "ca96dcc7",
   "metadata": {},
   "source": [
    "Python proporciona una amplia variedad de librerías e implementaciones sólidas en cuanto algoritmos de Machine Learning. Uno de los más conocidos es Scikit-Learn, un paquete que proporciona versiones eficientes de una gran cantidad de algoritmos comunes. \n",
    "\n",
    "**Scikit-Learn** se caracteriza por ser una API limpia, uniforme y optimizada, así como por una documentación en línea muy útil y completa."
   ]
  },
  {
   "cell_type": "code",
   "execution_count": 13,
   "id": "aa301caa",
   "metadata": {},
   "outputs": [
    {
     "name": "stdout",
     "output_type": "stream",
     "text": [
      "\n",
      "    Ordinary least squares Linear Regression.\n",
      "\n",
      "    LinearRegression fits a linear model with coefficients w = (w1, ..., wp)\n",
      "    to minimize the residual sum of squares between the observed targets in\n",
      "    the dataset, and the targets predicted by the linear approximation.\n",
      "\n",
      "    Parameters\n",
      "    ----------\n",
      "    fit_intercept : bool, optional, default True\n",
      "        Whether to calculate the intercept for this model. If set\n",
      "        to False, no intercept will be used in calculations\n",
      "        (i.e. data is expected to be centered).\n",
      "\n",
      "    normalize : bool, optional, default False\n",
      "        This parameter is ignored when ``fit_intercept`` is set to False.\n",
      "        If True, the regressors X will be normalized before regression by\n",
      "        subtracting the mean and dividing by the l2-norm.\n",
      "        If you wish to standardize, please use\n",
      "        :class:`sklearn.preprocessing.StandardScaler` before calling ``fit`` on\n",
      "        an estimator with ``normalize=False``.\n",
      "\n",
      "    copy_X : bool, optional, default True\n",
      "        If True, X will be copied; else, it may be overwritten.\n",
      "\n",
      "    n_jobs : int or None, optional (default=None)\n",
      "        The number of jobs to use for the computation. This will only provide\n",
      "        speedup for n_targets > 1 and sufficient large problems.\n",
      "        ``None`` means 1 unless in a :obj:`joblib.parallel_backend` context.\n",
      "        ``-1`` means using all processors. See :term:`Glossary <n_jobs>`\n",
      "        for more details.\n",
      "\n",
      "    Attributes\n",
      "    ----------\n",
      "    coef_ : array of shape (n_features, ) or (n_targets, n_features)\n",
      "        Estimated coefficients for the linear regression problem.\n",
      "        If multiple targets are passed during the fit (y 2D), this\n",
      "        is a 2D array of shape (n_targets, n_features), while if only\n",
      "        one target is passed, this is a 1D array of length n_features.\n",
      "\n",
      "    rank_ : int\n",
      "        Rank of matrix `X`. Only available when `X` is dense.\n",
      "\n",
      "    singular_ : array of shape (min(X, y),)\n",
      "        Singular values of `X`. Only available when `X` is dense.\n",
      "\n",
      "    intercept_ : float or array of shape of (n_targets,)\n",
      "        Independent term in the linear model. Set to 0.0 if\n",
      "        `fit_intercept = False`.\n",
      "\n",
      "    See Also\n",
      "    --------\n",
      "    sklearn.linear_model.Ridge : Ridge regression addresses some of the\n",
      "        problems of Ordinary Least Squares by imposing a penalty on the\n",
      "        size of the coefficients with l2 regularization.\n",
      "    sklearn.linear_model.Lasso : The Lasso is a linear model that estimates\n",
      "        sparse coefficients with l1 regularization.\n",
      "    sklearn.linear_model.ElasticNet : Elastic-Net is a linear regression\n",
      "        model trained with both l1 and l2 -norm regularization of the\n",
      "        coefficients.\n",
      "\n",
      "    Notes\n",
      "    -----\n",
      "    From the implementation point of view, this is just plain Ordinary\n",
      "    Least Squares (scipy.linalg.lstsq) wrapped as a predictor object.\n",
      "\n",
      "    Examples\n",
      "    --------\n",
      "    >>> import numpy as np\n",
      "    >>> from sklearn.linear_model import LinearRegression\n",
      "    >>> X = np.array([[1, 1], [1, 2], [2, 2], [2, 3]])\n",
      "    >>> # y = 1 * x_0 + 2 * x_1 + 3\n",
      "    >>> y = np.dot(X, np.array([1, 2])) + 3\n",
      "    >>> reg = LinearRegression().fit(X, y)\n",
      "    >>> reg.score(X, y)\n",
      "    1.0\n",
      "    >>> reg.coef_\n",
      "    array([1., 2.])\n",
      "    >>> reg.intercept_\n",
      "    3.0000...\n",
      "    >>> reg.predict(np.array([[3, 5]]))\n",
      "    array([16.])\n",
      "    \n"
     ]
    }
   ],
   "source": [
    "print(LinearRegression.__doc__)"
   ]
  },
  {
   "cell_type": "code",
   "execution_count": 14,
   "id": "5325bf79",
   "metadata": {},
   "outputs": [],
   "source": [
    "# Creación del modelo\n",
    "# ==============================================================================\n",
    "# Creamos un objeto de la clase LinearRegression\n",
    "modelo_linear = LinearRegression() "
   ]
  },
  {
   "cell_type": "markdown",
   "id": "32081816",
   "metadata": {},
   "source": [
    "Muchos objetos sklearn implementan tres métodos específicos, a saber fit(), predict() y fit_predict(). Básicamente, son convenciones aplicadas en scikit-learn y su API.\n",
    "\n",
    "`fit()` es implementado por cada estimador y acepta una entrada para los datos de muestra (X) y para modelos supervisados también acepta un argumento para etiquetas (es decir, datos de destino y). Opcionalmente, también puede aceptar propiedades de muestra adicionales como pesos, etc."
   ]
  },
  {
   "cell_type": "code",
   "execution_count": 15,
   "id": "3ea80174",
   "metadata": {},
   "outputs": [
    {
     "data": {
      "text/plain": [
       "LinearRegression(copy_X=True, fit_intercept=True, n_jobs=None, normalize=False)"
      ]
     },
     "execution_count": 15,
     "metadata": {},
     "output_type": "execute_result"
    }
   ],
   "source": [
    "# Entrenamos nuestro modelo\n",
    "modelo_linear.fit(X = X_train, y = y_train)"
   ]
  },
  {
   "cell_type": "code",
   "execution_count": 16,
   "id": "3047b5e9",
   "metadata": {},
   "outputs": [
    {
     "data": {
      "text/plain": [
       "-2885.7388139340533"
      ]
     },
     "execution_count": 16,
     "metadata": {},
     "output_type": "execute_result"
    }
   ],
   "source": [
    "# Atributo intercept_(intercepto) de nuestro objeto\n",
    "modelo_linear.intercept_"
   ]
  },
  {
   "cell_type": "code",
   "execution_count": 17,
   "id": "cbcf5d09",
   "metadata": {},
   "outputs": [
    {
     "data": {
      "text/plain": [
       "array([0.64692114])"
      ]
     },
     "execution_count": 17,
     "metadata": {},
     "output_type": "execute_result"
    }
   ],
   "source": [
    "# Atributo coef_ (pendiente) de nuestro objeto\n",
    "modelo_linear.coef_"
   ]
  },
  {
   "cell_type": "code",
   "execution_count": 18,
   "id": "4cf02ad5",
   "metadata": {},
   "outputs": [
    {
     "name": "stdout",
     "output_type": "stream",
     "text": [
      "Intercepto: -2885.7388139340533\n",
      "Coeficiente: [('numero_bateos', 0.6469211405540737)]\n",
      "Coeficiente de determinación R^2: 0.3670113392883752\n"
     ]
    }
   ],
   "source": [
    "# Información del modelo\n",
    "# ==============================================================================\n",
    "print(\"Intercepto:\", modelo_linear.intercept_)\n",
    "print(\"Coeficiente:\", list(zip(X.columns, modelo_linear.coef_.flatten(),)))\n",
    "print(\"Coeficiente de determinación R^2:\", modelo_linear.score(X, y))"
   ]
  },
  {
   "cell_type": "markdown",
   "id": "a2dd736e",
   "metadata": {},
   "source": [
    "Una vez entrenado el modelo, se evalúa la capacidad predictiva empleando el conjunto de test, de esta manera se mide el desempeño de los resultados ante datos desconocidos en la etapa de entrenamiento."
   ]
  },
  {
   "cell_type": "markdown",
   "id": "a37c5a05",
   "metadata": {},
   "source": [
    "**Evaluación del modelo**"
   ]
  },
  {
   "cell_type": "code",
   "execution_count": 19,
   "id": "4c2e0e64",
   "metadata": {},
   "outputs": [
    {
     "name": "stdout",
     "output_type": "stream",
     "text": [
      "[638.04063866 621.22068901 621.22068901 680.73743394 808.18089863\n",
      " 677.50282824]\n",
      "\n",
      "El error (rmse) de test es: 66.42001830376033\n"
     ]
    }
   ],
   "source": [
    "# Error de test del modelo \n",
    "# ==============================================================================\n",
    "predicciones = modelo_linear.predict(X = X_test)\n",
    "print(predicciones)\n",
    "\n",
    "rmse = mean_squared_error(\n",
    "        y_true  = y_test,\n",
    "        y_pred  = predicciones,\n",
    "        squared = False\n",
    "       )\n",
    "print(\"\")\n",
    "print(f\"El error (rmse) de test es: {rmse}\")"
   ]
  },
  {
   "cell_type": "code",
   "execution_count": 20,
   "id": "00a40bc7",
   "metadata": {},
   "outputs": [
    {
     "name": "stdout",
     "output_type": "stream",
     "text": [
      "7     721\n",
      "22    610\n",
      "18    731\n",
      "14    667\n",
      "1     875\n",
      "21    625\n",
      "Name: runs, dtype: int64\n"
     ]
    }
   ],
   "source": [
    "print(y_test)"
   ]
  },
  {
   "cell_type": "code",
   "execution_count": 21,
   "id": "cc0a1cea",
   "metadata": {},
   "outputs": [
    {
     "data": {
      "text/plain": [
       "'Línea de regresión: y=-2885.7388139340533+[0.64692114]x'"
      ]
     },
     "execution_count": 21,
     "metadata": {},
     "output_type": "execute_result"
    }
   ],
   "source": [
    "line = f'Línea de regresión: y={modelo_linear.intercept_}+{modelo_linear.coef_}x'\n",
    "line"
   ]
  },
  {
   "cell_type": "code",
   "execution_count": 22,
   "id": "84291cf9",
   "metadata": {},
   "outputs": [
    {
     "data": {
      "text/plain": [
       "[<matplotlib.lines.Line2D at 0x7f724ee94150>]"
      ]
     },
     "execution_count": 22,
     "metadata": {},
     "output_type": "execute_result"
    },
    {
     "data": {
      "image/png": "[encoded data removed]",
      "text/plain": [
       "<Figure size 504x432 with 1 Axes>"
      ]
     },
     "metadata": {
      "needs_background": "light"
     },
     "output_type": "display_data"
    }
   ],
   "source": [
    "#Realicemos una grefica de nuestro de nuestra linea recta\n",
    "plt.figure(figsize=(7,6))\n",
    "plt.plot(X, y , '*')\n",
    "\n",
    "y_predict = modelo_linear.intercept_ + modelo_linear.coef_*X\n",
    "plt.plot(X, y_predict, lw=5)"
   ]
  },
  {
   "cell_type": "markdown",
   "id": "ebf5be55",
   "metadata": {},
   "source": [
    "#### Statsmodels\n",
    "\n",
    "La implementación de regresión lineal de Statsmodels, es más completa que la de Scikitlearn ya que, además de ajustar el modelo, permite calcular los test estadísticos y análisis necesarios para verificar que se cumplen las condiciones sobre las que se basa este tipo de modelos. Statsmodels tiene dos formas de entrenar el modelo:\n",
    "\n",
    "Indicando la fórmula del modelo y pasando los datos de entrenamiento como un dataframe que incluye la variable respuesta y los predictores. Pasar dos matrices, una con los predictores y otra con la variable respuesta. Esta es igual a la empleada por Scikitlearn con la diferencia de que a la matriz de predictores hay que añadirle una primera columna de 1s."
   ]
  },
  {
   "cell_type": "markdown",
   "id": "3f725da3",
   "metadata": {},
   "source": [
    "## Regresión Lineal Múltiple"
   ]
  },
  {
   "cell_type": "markdown",
   "id": "d59dc2c0",
   "metadata": {},
   "source": [
    "La Regresión Lineal Múltiple es una extensión de la regresión lineal que involucra más de una variable independiente, y permite que la variable repuesta sea planteada como una función lineal de un vector multidimensional.\n",
    "\n",
    "La función que se ajusta a los datos está dada por:\n",
    "\n",
    "\\begin{equation}\n",
    "\\hat y = a_0 + b_1x_1 + b_2x_2 + ... + b_px_p \n",
    "\\end{equation}\n",
    "\n",
    "Los coeficientes de regresión se interpretan como el efecto de la variable Xi en la variable dependiente Y, cuando el resto de las variables se mantienen constantes; es decir, el cambio producido en la variable dependiente Y por cada incremento unitario en la regresora Xi manteniendo constante el resto de las predictoras.\n",
    "\n",
    "La función de pérdida está dada por:\n",
    "\n",
    "\\begin{equation}\n",
    "Loss = J = \\frac{1}{n} \\sum_{i=1}^n (y_i - \\hat y_i)^2\n",
    "\\end{equation}\n"
   ]
  },
  {
   "cell_type": "markdown",
   "id": "98583ec3",
   "metadata": {},
   "source": [
    "**Ejemplo**"
   ]
  },
  {
   "cell_type": "code",
   "execution_count": 23,
   "id": "8ea46e6e",
   "metadata": {},
   "outputs": [
    {
     "data": {
      "text/html": [
       "<div>\n",
       "<style scoped>\n",
       "    .dataframe tbody tr th:only-of-type {\n",
       "        vertical-align: middle;\n",
       "    }\n",
       "\n",
       "    .dataframe tbody tr th {\n",
       "        vertical-align: top;\n",
       "    }\n",
       "\n",
       "    .dataframe thead th {\n",
       "        text-align: right;\n",
       "    }\n",
       "</style>\n",
       "<table border=\"1\" class=\"dataframe\">\n",
       "  <thead>\n",
       "    <tr style=\"text-align: right;\">\n",
       "      <th></th>\n",
       "      <th>tv</th>\n",
       "      <th>radio</th>\n",
       "      <th>periodico</th>\n",
       "      <th>ventas</th>\n",
       "    </tr>\n",
       "  </thead>\n",
       "  <tbody>\n",
       "    <tr>\n",
       "      <th>0</th>\n",
       "      <td>230.1</td>\n",
       "      <td>37.8</td>\n",
       "      <td>69.2</td>\n",
       "      <td>22.1</td>\n",
       "    </tr>\n",
       "    <tr>\n",
       "      <th>1</th>\n",
       "      <td>44.5</td>\n",
       "      <td>39.3</td>\n",
       "      <td>45.1</td>\n",
       "      <td>10.4</td>\n",
       "    </tr>\n",
       "    <tr>\n",
       "      <th>2</th>\n",
       "      <td>17.2</td>\n",
       "      <td>45.9</td>\n",
       "      <td>69.3</td>\n",
       "      <td>9.3</td>\n",
       "    </tr>\n",
       "    <tr>\n",
       "      <th>3</th>\n",
       "      <td>151.5</td>\n",
       "      <td>41.3</td>\n",
       "      <td>58.5</td>\n",
       "      <td>18.5</td>\n",
       "    </tr>\n",
       "    <tr>\n",
       "      <th>4</th>\n",
       "      <td>180.8</td>\n",
       "      <td>10.8</td>\n",
       "      <td>58.4</td>\n",
       "      <td>12.9</td>\n",
       "    </tr>\n",
       "  </tbody>\n",
       "</table>\n",
       "</div>"
      ],
      "text/plain": [
       "      tv  radio  periodico  ventas\n",
       "0  230.1   37.8       69.2    22.1\n",
       "1   44.5   39.3       45.1    10.4\n",
       "2   17.2   45.9       69.3     9.3\n",
       "3  151.5   41.3       58.5    18.5\n",
       "4  180.8   10.8       58.4    12.9"
      ]
     },
     "execution_count": 23,
     "metadata": {},
     "output_type": "execute_result"
    }
   ],
   "source": [
    "# Datos\n",
    "tv = [230.1, 44.5, 17.2, 151.5, 180.8, 8.7, 57.5, 120.2, 8.6, 199.8, 66.1, 214.7,\n",
    "      23.8, 97.5, 204.1, 195.4, 67.8, 281.4, 69.2, 147.3, 218.4, 237.4, 13.2,\n",
    "      228.3, 62.3, 262.9, 142.9, 240.1, 248.8, 70.6, 292.9, 112.9, 97.2, 265.6,\n",
    "      95.7, 290.7, 266.9, 74.7, 43.1, 228.0, 202.5, 177.0, 293.6, 206.9, 25.1,\n",
    "      175.1, 89.7, 239.9, 227.2, 66.9, 199.8, 100.4, 216.4, 182.6, 262.7, 198.9,\n",
    "      7.3, 136.2, 210.8, 210.7, 53.5, 261.3, 239.3, 102.7, 131.1, 69.0, 31.5,\n",
    "      139.3, 237.4, 216.8, 199.1, 109.8, 26.8, 129.4, 213.4, 16.9, 27.5, 120.5,\n",
    "      5.4, 116.0, 76.4, 239.8, 75.3, 68.4, 213.5, 193.2, 76.3, 110.7, 88.3, 109.8,\n",
    "      134.3, 28.6, 217.7, 250.9, 107.4, 163.3, 197.6, 184.9, 289.7, 135.2, 222.4,\n",
    "      296.4, 280.2, 187.9, 238.2, 137.9, 25.0, 90.4, 13.1, 255.4, 225.8, 241.7, 175.7,\n",
    "      209.6, 78.2, 75.1, 139.2, 76.4, 125.7, 19.4, 141.3, 18.8, 224.0, 123.1, 229.5,\n",
    "      87.2, 7.8, 80.2, 220.3, 59.6, 0.7, 265.2, 8.4, 219.8, 36.9, 48.3, 25.6, 273.7,\n",
    "      43.0, 184.9, 73.4, 193.7, 220.5, 104.6, 96.2, 140.3, 240.1, 243.2, 38.0, 44.7,\n",
    "      280.7, 121.0, 197.6, 171.3, 187.8, 4.1, 93.9, 149.8, 11.7, 131.7, 172.5, 85.7,\n",
    "      188.4, 163.5, 117.2, 234.5, 17.9, 206.8, 215.4, 284.3, 50.0, 164.5, 19.6, 168.4,\n",
    "      222.4, 276.9, 248.4, 170.2, 276.7, 165.6, 156.6, 218.5, 56.2, 287.6, 253.8, 205.0,\n",
    "      139.5, 191.1, 286.0, 18.7, 39.5, 75.5, 17.2, 166.8, 149.7, 38.2, 94.2, 177.0,\n",
    "      283.6, 232.1]\n",
    "\n",
    "radio = [37.8, 39.3, 45.9, 41.3, 10.8, 48.9, 32.8, 19.6, 2.1, 2.6, 5.8, 24.0, 35.1,\n",
    "         7.6, 32.9, 47.7, 36.6, 39.6, 20.5, 23.9, 27.7, 5.1, 15.9, 16.9, 12.6, 3.5,\n",
    "         29.3, 16.7, 27.1, 16.0, 28.3, 17.4, 1.5, 20.0, 1.4, 4.1, 43.8, 49.4, 26.7,\n",
    "         37.7, 22.3, 33.4, 27.7, 8.4, 25.7, 22.5, 9.9, 41.5, 15.8, 11.7, 3.1, 9.6,\n",
    "         41.7, 46.2, 28.8, 49.4, 28.1, 19.2, 49.6, 29.5, 2.0, 42.7, 15.5, 29.6, 42.8,\n",
    "         9.3, 24.6, 14.5, 27.5, 43.9, 30.6, 14.3, 33.0, 5.7, 24.6, 43.7, 1.6, 28.5,\n",
    "         29.9, 7.7, 26.7, 4.1, 20.3, 44.5, 43.0, 18.4, 27.5, 40.6, 25.5, 47.8, 4.9,\n",
    "         1.5, 33.5, 36.5, 14.0, 31.6, 3.5, 21.0, 42.3, 41.7, 4.3, 36.3, 10.1, 17.2,\n",
    "         34.3, 46.4, 11.0, 0.3, 0.4, 26.9, 8.2, 38.0, 15.4, 20.6, 46.8, 35.0, 14.3,\n",
    "         0.8, 36.9, 16.0, 26.8, 21.7, 2.4, 34.6, 32.3, 11.8, 38.9, 0.0, 49.0, 12.0,\n",
    "         39.6, 2.9, 27.2, 33.5, 38.6, 47.0, 39.0, 28.9, 25.9, 43.9, 17.0, 35.4, 33.2,\n",
    "         5.7, 14.8, 1.9, 7.3, 49.0, 40.3, 25.8, 13.9, 8.4, 23.3, 39.7, 21.1, 11.6, 43.5,\n",
    "         1.3, 36.9, 18.4, 18.1, 35.8, 18.1, 36.8, 14.7, 3.4, 37.6, 5.2, 23.6, 10.6, 11.6,\n",
    "         20.9, 20.1, 7.1, 3.4, 48.9, 30.2, 7.8, 2.3, 10.0, 2.6, 5.4, 5.7, 43.0, 21.3, 45.1,\n",
    "         2.1, 28.7, 13.9, 12.1, 41.1, 10.8, 4.1, 42.0, 35.6, 3.7, 4.9, 9.3, 42.0, 8.6]\n",
    "\n",
    "periodico = [69.2, 45.1, 69.3, 58.5, 58.4, 75.0, 23.5, 11.6, 1.0, 21.2, 24.2, 4.0,\n",
    "             65.9, 7.2, 46.0, 52.9, 114.0, 55.8, 18.3, 19.1, 53.4, 23.5, 49.6, 26.2,\n",
    "             18.3, 19.5, 12.6, 22.9, 22.9, 40.8, 43.2, 38.6, 30.0, 0.3, 7.4, 8.5, 5.0,\n",
    "             45.7, 35.1, 32.0, 31.6, 38.7, 1.8, 26.4, 43.3, 31.5, 35.7, 18.5, 49.9,\n",
    "             36.8, 34.6, 3.6, 39.6, 58.7, 15.9, 60.0, 41.4, 16.6, 37.7, 9.3, 21.4, 54.7,\n",
    "             27.3, 8.4, 28.9, 0.9, 2.2, 10.2, 11.0, 27.2, 38.7, 31.7, 19.3, 31.3, 13.1,\n",
    "             89.4, 20.7, 14.2, 9.4, 23.1, 22.3, 36.9, 32.5, 35.6, 33.8, 65.7, 16.0, 63.2,\n",
    "             73.4, 51.4, 9.3, 33.0, 59.0, 72.3, 10.9, 52.9, 5.9, 22.0, 51.2, 45.9, 49.8,\n",
    "             100.9, 21.4, 17.9, 5.3, 59.0, 29.7, 23.2, 25.6, 5.5, 56.5, 23.2, 2.4, 10.7,\n",
    "             34.5, 52.7, 25.6, 14.8, 79.2, 22.3, 46.2, 50.4, 15.6, 12.4, 74.2, 25.9, 50.6,\n",
    "             9.2, 3.2, 43.1, 8.7, 43.0, 2.1, 45.1, 65.6, 8.5, 9.3, 59.7, 20.5, 1.7, 12.9,\n",
    "             75.6, 37.9, 34.4, 38.9, 9.0, 8.7, 44.3, 11.9, 20.6, 37.0, 48.7, 14.2, 37.7,\n",
    "             9.5, 5.7, 50.5, 24.3, 45.2, 34.6, 30.7, 49.3, 25.6, 7.4, 5.4, 84.8, 21.6, 19.4,\n",
    "             57.6, 6.4, 18.4, 47.4, 17.0, 12.8, 13.1, 41.8, 20.3, 35.2, 23.7, 17.6, 8.3,\n",
    "             27.4, 29.7, 71.8, 30.0, 19.6, 26.6, 18.2, 3.7, 23.4, 5.8, 6.0, 31.6, 3.6, 6.0,\n",
    "             13.8, 8.1, 6.4, 66.2, 8.7]\n",
    "\n",
    "ventas = [22.1, 10.4, 9.3, 18.5, 12.9, 7.2, 11.8, 13.2, 4.8, 10.6, 8.6, 17.4, 9.2, 9.7,\n",
    "          19.0, 22.4, 12.5, 24.4, 11.3, 14.6, 18.0, 12.5, 5.6, 15.5, 9.7, 12.0, 15.0, 15.9,\n",
    "          18.9, 10.5, 21.4, 11.9, 9.6, 17.4, 9.5, 12.8, 25.4, 14.7, 10.1, 21.5, 16.6, 17.1,\n",
    "          20.7, 12.9, 8.5, 14.9, 10.6, 23.2, 14.8, 9.7, 11.4, 10.7, 22.6, 21.2, 20.2, 23.7,\n",
    "          5.5, 13.2, 23.8, 18.4, 8.1, 24.2, 15.7, 14.0, 18.0, 9.3, 9.5, 13.4, 18.9, 22.3,\n",
    "          18.3, 12.4, 8.8, 11.0, 17.0, 8.7, 6.9, 14.2, 5.3, 11.0, 11.8, 12.3, 11.3, 13.6,\n",
    "          21.7, 15.2, 12.0, 16.0, 12.9, 16.7, 11.2, 7.3, 19.4, 22.2, 11.5, 16.9, 11.7, 15.5,\n",
    "          25.4, 17.2, 11.7, 23.8, 14.8, 14.7, 20.7, 19.2, 7.2, 8.7, 5.3, 19.8, 13.4, 21.8,\n",
    "          14.1, 15.9, 14.6, 12.6, 12.2, 9.4, 15.9, 6.6, 15.5, 7.0, 11.6, 15.2, 19.7, 10.6,\n",
    "          6.6, 8.8, 24.7, 9.7, 1.6, 12.7, 5.7, 19.6, 10.8, 11.6, 9.5, 20.8, 9.6, 20.7, 10.9,\n",
    "          19.2, 20.1, 10.4, 11.4, 10.3, 13.2, 25.4, 10.9, 10.1, 16.1, 11.6, 16.6, 19.0, 15.6,\n",
    "          3.2, 15.3, 10.1, 7.3, 12.9, 14.4, 13.3, 14.9, 18.0, 11.9, 11.9, 8.0, 12.2, 17.1,\n",
    "          15.0, 8.4, 14.5, 7.6, 11.7, 11.5, 27.0, 20.2, 11.7, 11.8, 12.6, 10.5, 12.2, 8.7,\n",
    "          26.2, 17.6, 22.6, 10.3, 17.3, 15.9, 6.7, 10.8, 9.9, 5.9, 19.6, 17.3, 7.6, 9.7, 12.8,\n",
    "          25.5, 13.4]\n",
    "\n",
    "datos = pd.DataFrame({'tv': tv, 'radio': radio, 'periodico':periodico, 'ventas': ventas})\n",
    "datos.head()"
   ]
  },
  {
   "cell_type": "markdown",
   "id": "33c8b455",
   "metadata": {},
   "source": [
    "**Relación entre variables**\n",
    "\n",
    "Un primer procedimiento al momento de iniciar con un modelo lineal es analizar la correlación existente entre las variables. Con el fin de encontrar información importante sobre los mejores predictores para el modelo y detectar colinealidad entre los mismos."
   ]
  },
  {
   "cell_type": "code",
   "execution_count": 24,
   "id": "7c5d5e6f",
   "metadata": {},
   "outputs": [
    {
     "data": {
      "text/html": [
       "<div>\n",
       "<style scoped>\n",
       "    .dataframe tbody tr th:only-of-type {\n",
       "        vertical-align: middle;\n",
       "    }\n",
       "\n",
       "    .dataframe tbody tr th {\n",
       "        vertical-align: top;\n",
       "    }\n",
       "\n",
       "    .dataframe thead th {\n",
       "        text-align: right;\n",
       "    }\n",
       "</style>\n",
       "<table border=\"1\" class=\"dataframe\">\n",
       "  <thead>\n",
       "    <tr style=\"text-align: right;\">\n",
       "      <th></th>\n",
       "      <th>tv</th>\n",
       "      <th>radio</th>\n",
       "      <th>periodico</th>\n",
       "      <th>ventas</th>\n",
       "    </tr>\n",
       "  </thead>\n",
       "  <tbody>\n",
       "    <tr>\n",
       "      <th>tv</th>\n",
       "      <td>1.000000</td>\n",
       "      <td>0.054809</td>\n",
       "      <td>0.056648</td>\n",
       "      <td>0.782224</td>\n",
       "    </tr>\n",
       "    <tr>\n",
       "      <th>radio</th>\n",
       "      <td>0.054809</td>\n",
       "      <td>1.000000</td>\n",
       "      <td>0.354104</td>\n",
       "      <td>0.576223</td>\n",
       "    </tr>\n",
       "    <tr>\n",
       "      <th>periodico</th>\n",
       "      <td>0.056648</td>\n",
       "      <td>0.354104</td>\n",
       "      <td>1.000000</td>\n",
       "      <td>0.228299</td>\n",
       "    </tr>\n",
       "    <tr>\n",
       "      <th>ventas</th>\n",
       "      <td>0.782224</td>\n",
       "      <td>0.576223</td>\n",
       "      <td>0.228299</td>\n",
       "      <td>1.000000</td>\n",
       "    </tr>\n",
       "  </tbody>\n",
       "</table>\n",
       "</div>"
      ],
      "text/plain": [
       "                 tv     radio  periodico    ventas\n",
       "tv         1.000000  0.054809   0.056648  0.782224\n",
       "radio      0.054809  1.000000   0.354104  0.576223\n",
       "periodico  0.056648  0.354104   1.000000  0.228299\n",
       "ventas     0.782224  0.576223   0.228299  1.000000"
      ]
     },
     "execution_count": 24,
     "metadata": {},
     "output_type": "execute_result"
    }
   ],
   "source": [
    "datos.corr()"
   ]
  },
  {
   "cell_type": "code",
   "execution_count": 25,
   "id": "c30e8493",
   "metadata": {},
   "outputs": [
    {
     "data": {
      "text/plain": [
       "tv           ventas\n",
       "radio        ventas\n",
       "periodico     radio\n",
       "ventas           tv\n",
       "dtype: object"
      ]
     },
     "execution_count": 25,
     "metadata": {},
     "output_type": "execute_result"
    }
   ],
   "source": [
    "# Pares de variables más correlacionadas entre si\n",
    "corr_mat = datos.corr()\n",
    "\n",
    "for x in range(corr_mat.shape[0]):\n",
    "    corr_mat.iloc[x,x] = 0.0\n",
    "    \n",
    "corr_mat.abs().idxmax()"
   ]
  },
  {
   "cell_type": "code",
   "execution_count": 26,
   "id": "3c3a3d19",
   "metadata": {},
   "outputs": [
    {
     "data": {
      "text/html": [
       "<div>\n",
       "<style scoped>\n",
       "    .dataframe tbody tr th:only-of-type {\n",
       "        vertical-align: middle;\n",
       "    }\n",
       "\n",
       "    .dataframe tbody tr th {\n",
       "        vertical-align: top;\n",
       "    }\n",
       "\n",
       "    .dataframe thead th {\n",
       "        text-align: right;\n",
       "    }\n",
       "</style>\n",
       "<table border=\"1\" class=\"dataframe\">\n",
       "  <thead>\n",
       "    <tr style=\"text-align: right;\">\n",
       "      <th></th>\n",
       "      <th>variable_1</th>\n",
       "      <th>variable_2</th>\n",
       "      <th>r</th>\n",
       "      <th>abs_r</th>\n",
       "    </tr>\n",
       "  </thead>\n",
       "  <tbody>\n",
       "    <tr>\n",
       "      <th>3</th>\n",
       "      <td>tv</td>\n",
       "      <td>ventas</td>\n",
       "      <td>0.782224</td>\n",
       "      <td>0.782224</td>\n",
       "    </tr>\n",
       "    <tr>\n",
       "      <th>12</th>\n",
       "      <td>ventas</td>\n",
       "      <td>tv</td>\n",
       "      <td>0.782224</td>\n",
       "      <td>0.782224</td>\n",
       "    </tr>\n",
       "    <tr>\n",
       "      <th>7</th>\n",
       "      <td>radio</td>\n",
       "      <td>ventas</td>\n",
       "      <td>0.576223</td>\n",
       "      <td>0.576223</td>\n",
       "    </tr>\n",
       "    <tr>\n",
       "      <th>13</th>\n",
       "      <td>ventas</td>\n",
       "      <td>radio</td>\n",
       "      <td>0.576223</td>\n",
       "      <td>0.576223</td>\n",
       "    </tr>\n",
       "    <tr>\n",
       "      <th>6</th>\n",
       "      <td>radio</td>\n",
       "      <td>periodico</td>\n",
       "      <td>0.354104</td>\n",
       "      <td>0.354104</td>\n",
       "    </tr>\n",
       "    <tr>\n",
       "      <th>9</th>\n",
       "      <td>periodico</td>\n",
       "      <td>radio</td>\n",
       "      <td>0.354104</td>\n",
       "      <td>0.354104</td>\n",
       "    </tr>\n",
       "    <tr>\n",
       "      <th>11</th>\n",
       "      <td>periodico</td>\n",
       "      <td>ventas</td>\n",
       "      <td>0.228299</td>\n",
       "      <td>0.228299</td>\n",
       "    </tr>\n",
       "    <tr>\n",
       "      <th>14</th>\n",
       "      <td>ventas</td>\n",
       "      <td>periodico</td>\n",
       "      <td>0.228299</td>\n",
       "      <td>0.228299</td>\n",
       "    </tr>\n",
       "    <tr>\n",
       "      <th>2</th>\n",
       "      <td>tv</td>\n",
       "      <td>periodico</td>\n",
       "      <td>0.056648</td>\n",
       "      <td>0.056648</td>\n",
       "    </tr>\n",
       "    <tr>\n",
       "      <th>8</th>\n",
       "      <td>periodico</td>\n",
       "      <td>tv</td>\n",
       "      <td>0.056648</td>\n",
       "      <td>0.056648</td>\n",
       "    </tr>\n",
       "    <tr>\n",
       "      <th>1</th>\n",
       "      <td>tv</td>\n",
       "      <td>radio</td>\n",
       "      <td>0.054809</td>\n",
       "      <td>0.054809</td>\n",
       "    </tr>\n",
       "    <tr>\n",
       "      <th>4</th>\n",
       "      <td>radio</td>\n",
       "      <td>tv</td>\n",
       "      <td>0.054809</td>\n",
       "      <td>0.054809</td>\n",
       "    </tr>\n",
       "  </tbody>\n",
       "</table>\n",
       "</div>"
      ],
      "text/plain": [
       "   variable_1 variable_2         r     abs_r\n",
       "3          tv     ventas  0.782224  0.782224\n",
       "12     ventas         tv  0.782224  0.782224\n",
       "7       radio     ventas  0.576223  0.576223\n",
       "13     ventas      radio  0.576223  0.576223\n",
       "6       radio  periodico  0.354104  0.354104\n",
       "9   periodico      radio  0.354104  0.354104\n",
       "11  periodico     ventas  0.228299  0.228299\n",
       "14     ventas  periodico  0.228299  0.228299\n",
       "2          tv  periodico  0.056648  0.056648\n",
       "8   periodico         tv  0.056648  0.056648\n",
       "1          tv      radio  0.054809  0.054809\n",
       "4       radio         tv  0.054809  0.054809"
      ]
     },
     "execution_count": 26,
     "metadata": {},
     "output_type": "execute_result"
    }
   ],
   "source": [
    "def tidy_corr_matrix(corr_mat):\n",
    "    '''\n",
    "    Función para convertir una matriz de corr de pandas en formato tidy\n",
    "    '''\n",
    "    corr_mat = corr_mat.stack().reset_index()\n",
    "    corr_mat.columns = ['variable_1','variable_2','r']\n",
    "    corr_mat = corr_mat.loc[corr_mat['variable_1'] != corr_mat['variable_2'], :]\n",
    "    corr_mat['abs_r'] = np.abs(corr_mat['r'])\n",
    "    corr_mat = corr_mat.sort_values('abs_r', ascending=False)\n",
    "    \n",
    "    return(corr_mat)\n",
    "\n",
    "corr_matrix = datos.select_dtypes(include=['float64', 'int']).corr()\n",
    "tidy_corr_matrix(corr_matrix)"
   ]
  },
  {
   "cell_type": "code",
   "execution_count": 27,
   "id": "63b8ec60",
   "metadata": {},
   "outputs": [
    {
     "ename": "AttributeError",
     "evalue": "module 'seaborn' has no attribute 'histplot'",
     "output_type": "error",
     "traceback": [
      "\u001b[0;31m---------------------------------------------------------------------------\u001b[0m",
      "\u001b[0;31mAttributeError\u001b[0m                            Traceback (most recent call last)",
      "\u001b[0;32m<ipython-input-27-86bca7982bf7>\u001b[0m in \u001b[0;36m<module>\u001b[0;34m\u001b[0m\n\u001b[1;32m      6\u001b[0m \u001b[0;34m\u001b[0m\u001b[0m\n\u001b[1;32m      7\u001b[0m \u001b[0;32mfor\u001b[0m \u001b[0mi\u001b[0m\u001b[0;34m,\u001b[0m \u001b[0mcolum\u001b[0m \u001b[0;32min\u001b[0m \u001b[0menumerate\u001b[0m\u001b[0;34m(\u001b[0m\u001b[0mcolumnas_numeric\u001b[0m\u001b[0;34m)\u001b[0m\u001b[0;34m:\u001b[0m\u001b[0;34m\u001b[0m\u001b[0;34m\u001b[0m\u001b[0m\n\u001b[0;32m----> 8\u001b[0;31m     sns.histplot(\n\u001b[0m\u001b[1;32m      9\u001b[0m         \u001b[0mdata\u001b[0m    \u001b[0;34m=\u001b[0m \u001b[0mdatos\u001b[0m\u001b[0;34m,\u001b[0m\u001b[0;34m\u001b[0m\u001b[0;34m\u001b[0m\u001b[0m\n\u001b[1;32m     10\u001b[0m         \u001b[0mx\u001b[0m       \u001b[0;34m=\u001b[0m \u001b[0mcolum\u001b[0m\u001b[0;34m,\u001b[0m\u001b[0;34m\u001b[0m\u001b[0;34m\u001b[0m\u001b[0m\n",
      "\u001b[0;31mAttributeError\u001b[0m: module 'seaborn' has no attribute 'histplot'"
     ]
    },
    {
     "data": {
      "image/png": "[encoded data removed]",
      "text/plain": [
       "<Figure size 648x360 with 4 Axes>"
      ]
     },
     "metadata": {
      "needs_background": "light"
     },
     "output_type": "display_data"
    }
   ],
   "source": [
    "# Distribución para cada variable numérica\n",
    "# Se ajusta el número de subplots en función al número de columnas\n",
    "fig, axes = plt.subplots(nrows=2, ncols=2, figsize=(9, 5))\n",
    "axes = axes.flat\n",
    "columnas_numeric = datos.select_dtypes(include=['float64', 'int']).columns\n",
    "\n",
    "for i, colum in enumerate(columnas_numeric):\n",
    "    sns.histplot(\n",
    "        data    = datos,\n",
    "        x       = colum,\n",
    "        stat    = \"count\",\n",
    "        kde     = True,\n",
    "        color   = (list(plt.rcParams['axes.prop_cycle'])*2)[i][\"color\"],\n",
    "        line_kws= {'linewidth': 2},\n",
    "        alpha   = 0.3,\n",
    "        ax      = axes[i]\n",
    "    )\n",
    "    axes[i].set_title(colum, fontsize = 10, fontweight = \"bold\")\n",
    "    axes[i].tick_params(labelsize = 8)\n",
    "    axes[i].set_xlabel(\"\")\n",
    "\n",
    "\n",
    "fig.tight_layout()\n",
    "plt.subplots_adjust(top = 0.9)\n",
    "fig.suptitle('Distribución para variables numéricas', fontsize = 10, fontweight = \"bold\");"
   ]
  },
  {
   "cell_type": "markdown",
   "id": "7e5c90ef",
   "metadata": {},
   "source": [
    "**Definir variables predictores y la variable a predecir**"
   ]
  },
  {
   "cell_type": "code",
   "execution_count": null,
   "id": "e4813d1f",
   "metadata": {},
   "outputs": [],
   "source": [
    "X = datos[['tv', 'radio', 'periodico']]\n",
    "y = datos['ventas']"
   ]
  },
  {
   "cell_type": "markdown",
   "id": "7015c0ef",
   "metadata": {},
   "source": [
    "**Separación del conjunto de datos en entrenamiento y prueba**"
   ]
  },
  {
   "cell_type": "code",
   "execution_count": null,
   "id": "b60f193f",
   "metadata": {},
   "outputs": [],
   "source": [
    "X_train, X_test, y_train, y_test = train_test_split(X, y,test_size   = 0.2,random_state = 1234,shuffle= True)"
   ]
  },
  {
   "cell_type": "markdown",
   "id": "ac867967",
   "metadata": {},
   "source": [
    "**Instanciamos el modelo OLS**"
   ]
  },
  {
   "cell_type": "code",
   "execution_count": null,
   "id": "19dd14e4",
   "metadata": {},
   "outputs": [],
   "source": [
    "import statsmodels.api as sm"
   ]
  },
  {
   "cell_type": "code",
   "execution_count": null,
   "id": "cd318eaf",
   "metadata": {},
   "outputs": [
    {
     "name": "stdout",
     "output_type": "stream",
     "text": [
      "\n",
      "    Ordinary Least Squares\n",
      "\n",
      "    Parameters\n",
      "    ----------\n",
      "    endog : array_like\n",
      "        A 1-d endogenous response variable. The dependent variable.\n",
      "    exog : array_like\n",
      "        A nobs x k array where `nobs` is the number of observations and `k`\n",
      "        is the number of regressors. An intercept is not included by default\n",
      "        and should be added by the user. See\n",
      "        :func:`statsmodels.tools.add_constant`.\n",
      "    missing : str\n",
      "        Available options are 'none', 'drop', and 'raise'. If 'none', no nan\n",
      "        checking is done. If 'drop', any observations with nans are dropped.\n",
      "        If 'raise', an error is raised. Default is 'none'.\n",
      "    hasconst : None or bool\n",
      "        Indicates whether the RHS includes a user-supplied constant. If True,\n",
      "        a constant is not checked for and k_constant is set to 1 and all\n",
      "        result statistics are calculated as if a constant is present. If\n",
      "        False, a constant is not checked for and k_constant is set to 0.\n",
      "    **kwargs\n",
      "        Extra arguments that are used to set model properties when using the\n",
      "        formula interface.\n",
      "\n",
      "    Attributes\n",
      "    ----------\n",
      "    weights : scalar\n",
      "        Has an attribute weights = array(1.0) due to inheritance from WLS.\n",
      "\n",
      "    See Also\n",
      "    --------\n",
      "    WLS : Fit a linear model using Weighted Least Squares.\n",
      "    GLS : Fit a linear model using Generalized Least Squares.\n",
      "\n",
      "    Notes\n",
      "    -----\n",
      "    No constant is added by the model unless you are using formulas.\n",
      "\n",
      "    Examples\n",
      "    --------\n",
      "    >>> import statsmodels.api as sm\n",
      "    >>> import numpy as np\n",
      "    >>> duncan_prestige = sm.datasets.get_rdataset(\"Duncan\", \"carData\")\n",
      "    >>> Y = duncan_prestige.data['income']\n",
      "    >>> X = duncan_prestige.data['education']\n",
      "    >>> X = sm.add_constant(X)\n",
      "    >>> model = sm.OLS(Y,X)\n",
      "    >>> results = model.fit()\n",
      "    >>> results.params\n",
      "    const        10.603498\n",
      "    education     0.594859\n",
      "    dtype: float64\n",
      "\n",
      "    >>> results.tvalues\n",
      "    const        2.039813\n",
      "    education    6.892802\n",
      "    dtype: float64\n",
      "\n",
      "    >>> print(results.t_test([1, 0]))\n",
      "                                 Test for Constraints\n",
      "    ==============================================================================\n",
      "                     coef    std err          t      P>|t|      [0.025      0.975]\n",
      "    ------------------------------------------------------------------------------\n",
      "    c0            10.6035      5.198      2.040      0.048       0.120      21.087\n",
      "    ==============================================================================\n",
      "\n",
      "    >>> print(results.f_test(np.identity(2)))\n",
      "    <F test: F=array([[159.63031026]]), p=1.2607168903696672e-20, df_denom=43, df_num=2>\n",
      "    \n"
     ]
    }
   ],
   "source": [
    "print(sm.OLS.__doc__)"
   ]
  },
  {
   "cell_type": "code",
   "execution_count": null,
   "id": "8aec6beb",
   "metadata": {},
   "outputs": [],
   "source": [
    "# Creación del modelo utilizando matrices (scikitlearn)\n",
    "# A la matriz de predictores hay que añadirle una columna para el intercepto del modelo\n",
    "X_train = sm.add_constant(X_train, prepend=True)\n",
    "modelo = sm.OLS(endog=y_train, exog=X_train,)"
   ]
  },
  {
   "cell_type": "markdown",
   "id": "bef72bd5",
   "metadata": {},
   "source": [
    "**Entrenar el modelo**"
   ]
  },
  {
   "cell_type": "code",
   "execution_count": null,
   "id": "1d13e4c8",
   "metadata": {},
   "outputs": [
    {
     "name": "stdout",
     "output_type": "stream",
     "text": [
      "                            OLS Regression Results                            \n",
      "==============================================================================\n",
      "Dep. Variable:                 ventas   R-squared:                       0.894\n",
      "Model:                            OLS   Adj. R-squared:                  0.892\n",
      "Method:                 Least Squares   F-statistic:                     437.8\n",
      "Date:                Tue, 14 Dec 2021   Prob (F-statistic):           1.01e-75\n",
      "Time:                        18:55:02   Log-Likelihood:                -308.29\n",
      "No. Observations:                 160   AIC:                             624.6\n",
      "Df Residuals:                     156   BIC:                             636.9\n",
      "Df Model:                           3                                         \n",
      "Covariance Type:            nonrobust                                         \n",
      "==============================================================================\n",
      "                 coef    std err          t      P>|t|      [0.025      0.975]\n",
      "------------------------------------------------------------------------------\n",
      "const          2.8497      0.365      7.803      0.000       2.128       3.571\n",
      "tv             0.0456      0.002     28.648      0.000       0.042       0.049\n",
      "radio          0.1893      0.009     20.024      0.000       0.171       0.208\n",
      "periodico      0.0024      0.007      0.355      0.723      -0.011       0.016\n",
      "==============================================================================\n",
      "Omnibus:                       53.472   Durbin-Watson:                   2.153\n",
      "Prob(Omnibus):                  0.000   Jarque-Bera (JB):              147.411\n",
      "Skew:                          -1.353   Prob(JB):                     9.77e-33\n",
      "Kurtosis:                       6.846   Cond. No.                         472.\n",
      "==============================================================================\n",
      "\n",
      "Notes:\n",
      "[1] Standard Errors assume that the covariance matrix of the errors is correctly specified.\n"
     ]
    }
   ],
   "source": [
    "modelo = modelo.fit()\n",
    "print(modelo.summary())"
   ]
  },
  {
   "cell_type": "markdown",
   "id": "fc81d6a9",
   "metadata": {},
   "source": [
    "El modelo tiene un R2 alto (0,894). Esto significa que el modelo es capaz de explicar el 89.4% de la variabilidad observada en las ventas. El valor-P del modelo es significativo (1,01e-75).\n",
    "\n",
    "Según el valor-P obtenido para el coeficiente de regresión de \"periodico\" (0,723), la variable no contribuye de forma significativa al modelo. Por lo tanto, se podría entrenar de nuevo el modelo excluyendo \"periodico\" como variable predictora."
   ]
  },
  {
   "cell_type": "code",
   "execution_count": null,
   "id": "f3c28594",
   "metadata": {},
   "outputs": [
    {
     "name": "stdout",
     "output_type": "stream",
     "text": [
      "Coeficientes del modelo\n",
      "const        2.849668\n",
      "tv           0.045601\n",
      "radio        0.189273\n",
      "periodico    0.002375\n",
      "dtype: float64\n",
      "\n",
      "Intervalos teóricos\n",
      "                  0         1\n",
      "const      2.128275  3.571062\n",
      "tv         0.042457  0.048745\n",
      "radio      0.170603  0.207944\n",
      "periodico -0.010827  0.015578\n"
     ]
    }
   ],
   "source": [
    "# Coeficientes\n",
    "print(\"Coeficientes del modelo\")\n",
    "print(modelo.params)\n",
    "# Intervalos del 95% para los coeficientes del modelo\n",
    "print(\"\")\n",
    "print(\"Intervalos teóricos\")\n",
    "print(modelo.conf_int(alpha=0.05))"
   ]
  },
  {
   "cell_type": "code",
   "execution_count": null,
   "id": "996a936d",
   "metadata": {},
   "outputs": [
    {
     "data": {
      "text/html": [
       "<div>\n",
       "<style scoped>\n",
       "    .dataframe tbody tr th:only-of-type {\n",
       "        vertical-align: middle;\n",
       "    }\n",
       "\n",
       "    .dataframe tbody tr th {\n",
       "        vertical-align: top;\n",
       "    }\n",
       "\n",
       "    .dataframe thead th {\n",
       "        text-align: right;\n",
       "    }\n",
       "</style>\n",
       "<table border=\"1\" class=\"dataframe\">\n",
       "  <thead>\n",
       "    <tr style=\"text-align: right;\">\n",
       "      <th></th>\n",
       "      <th>2.5%</th>\n",
       "      <th>97.5%</th>\n",
       "    </tr>\n",
       "  </thead>\n",
       "  <tbody>\n",
       "    <tr>\n",
       "      <th>const</th>\n",
       "      <td>2.128275</td>\n",
       "      <td>3.571062</td>\n",
       "    </tr>\n",
       "    <tr>\n",
       "      <th>tv</th>\n",
       "      <td>0.042457</td>\n",
       "      <td>0.048745</td>\n",
       "    </tr>\n",
       "    <tr>\n",
       "      <th>radio</th>\n",
       "      <td>0.170603</td>\n",
       "      <td>0.207944</td>\n",
       "    </tr>\n",
       "    <tr>\n",
       "      <th>periodico</th>\n",
       "      <td>-0.010827</td>\n",
       "      <td>0.015578</td>\n",
       "    </tr>\n",
       "  </tbody>\n",
       "</table>\n",
       "</div>"
      ],
      "text/plain": [
       "               2.5%     97.5%\n",
       "const      2.128275  3.571062\n",
       "tv         0.042457  0.048745\n",
       "radio      0.170603  0.207944\n",
       "periodico -0.010827  0.015578"
      ]
     },
     "execution_count": 62,
     "metadata": {},
     "output_type": "execute_result"
    }
   ],
   "source": [
    "# Intervalos de confianza para los coeficientes del modelo\n",
    "\n",
    "intervalos_ci = modelo.conf_int(alpha=0.05)\n",
    "intervalos_ci.columns = ['2.5%', '97.5%']\n",
    "intervalos_ci"
   ]
  },
  {
   "cell_type": "code",
   "execution_count": null,
   "id": "100a1328",
   "metadata": {},
   "outputs": [],
   "source": [
    "# Diagnóstico errores (residuos) de las predicciones de entrenamiento\n",
    "\n",
    "prediccion_train = modelo.predict(exog = X_train)\n",
    "residuos_train   = prediccion_train - y_train"
   ]
  },
  {
   "cell_type": "code",
   "execution_count": null,
   "id": "26830345",
   "metadata": {},
   "outputs": [
    {
     "data": {
      "text/plain": [
       "Text(0.5, 0.98, 'Diagnóstico residuos')"
      ]
     },
     "execution_count": 64,
     "metadata": {},
     "output_type": "execute_result"
    },
    {
     "data": {
      "image/png": "[encoded data removed]",
      "text/plain": [
       "<Figure size 648x576 with 5 Axes>"
      ]
     },
     "metadata": {
      "needs_background": "light"
     },
     "output_type": "display_data"
    }
   ],
   "source": [
    "# Gráficos\n",
    "\n",
    "fig, axes = plt.subplots(nrows=3, ncols=2, figsize=(9, 8))\n",
    "\n",
    "axes[0, 0].scatter(y_train, prediccion_train, edgecolors=(0, 0, 0), alpha = 0.4)\n",
    "axes[0, 0].plot([y_train.min(), y_train.max()], [y_train.min(), y_train.max()],\n",
    "                'k--', color = 'black', lw=2)\n",
    "axes[0, 0].set_title('Valor predicho vs valor real', fontsize = 10, fontweight = \"bold\")\n",
    "axes[0, 0].set_xlabel('Real')\n",
    "axes[0, 0].set_ylabel('Predicción')\n",
    "axes[0, 0].tick_params(labelsize = 7)\n",
    "\n",
    "axes[0, 1].scatter(list(range(len(y_train))), residuos_train,\n",
    "                   edgecolors=(0, 0, 0), alpha = 0.4)\n",
    "axes[0, 1].axhline(y = 0, linestyle = '--', color = 'black', lw=2)\n",
    "axes[0, 1].set_title('Residuos del modelo', fontsize = 10, fontweight = \"bold\")\n",
    "axes[0, 1].set_xlabel('id')\n",
    "axes[0, 1].set_ylabel('Residuo')\n",
    "axes[0, 1].tick_params(labelsize = 7)\n",
    "\n",
    "sns.histplot(\n",
    "    data    = residuos_train,\n",
    "    stat    = \"density\",\n",
    "    kde     = True,\n",
    "    line_kws= {'linewidth': 1},\n",
    "    color   = \"firebrick\",\n",
    "    alpha   = 0.3,\n",
    "    ax      = axes[1, 0]\n",
    ")\n",
    "\n",
    "axes[1, 0].set_title('Distribución residuos del modelo', fontsize = 10,\n",
    "                     fontweight = \"bold\")\n",
    "axes[1, 0].set_xlabel(\"Residuo\")\n",
    "axes[1, 0].tick_params(labelsize = 7)\n",
    "\n",
    "\n",
    "sm.qqplot(\n",
    "    residuos_train,\n",
    "    fit   = True,\n",
    "    line  = 'q',\n",
    "    ax    = axes[1, 1], \n",
    "    color = 'firebrick',\n",
    "    alpha = 0.4,\n",
    "    lw    = 2\n",
    ")\n",
    "axes[1, 1].set_title('Q-Q residuos del modelo', fontsize = 10, fontweight = \"bold\")\n",
    "axes[1, 1].tick_params(labelsize = 7)\n",
    "\n",
    "axes[2, 0].scatter(prediccion_train, residuos_train,\n",
    "                   edgecolors=(0, 0, 0), alpha = 0.4)\n",
    "axes[2, 0].axhline(y = 0, linestyle = '--', color = 'black', lw=2)\n",
    "axes[2, 0].set_title('Residuos del modelo vs predicción', fontsize = 10, fontweight = \"bold\")\n",
    "axes[2, 0].set_xlabel('Predicción')\n",
    "axes[2, 0].set_ylabel('Residuo')\n",
    "axes[2, 0].tick_params(labelsize = 7)\n",
    "\n",
    "# Se eliminan los axes vacíos\n",
    "fig.delaxes(axes[2,1])\n",
    "\n",
    "fig.tight_layout()\n",
    "plt.subplots_adjust(top=0.9)\n",
    "fig.suptitle('Diagnóstico residuos', fontsize = 12, fontweight = \"bold\")"
   ]
  },
  {
   "cell_type": "markdown",
   "id": "0ca7feca",
   "metadata": {},
   "source": [
    "Se percibe que el error no se distribuye de forma aleatoria alrededor de cero. También parece que sostiene la misma variabilidad a lo largo del eje X. Estos comportamientos pueden indicar falta de homocedasticidad, por lo tanto el error no seguiría una distribución normal.\n",
    "\n",
    "**Supuestos de normalidad**\n",
    "\n",
    "1. Que el error se distribuye normal\n",
    "2. Que no haya multicolinealidad (dependencia fuerte) entre los regresores\n",
    "3. Homogeneidad de varianzas\n",
    "\n",
    "Prueba de normalidad\n",
    "\n",
    "Utilizando el test de Shapiro-Wilk, y D'Agostino's K-squared test, se buscará probar si el error sigue una distribución normal. D'Agostino's K-squared test es el que incluye el summary de statsmodels con el nombre de Omnibus.\n",
    "\n",
    "Para ambos tests\n",
    "+ H0: los datos siguen una distribución normal\n",
    "+ H1: los datos no siguen una distribución normal\n",
    "\n",
    "Si el p-value no es inferior al nivel de referencia alpha seleccionado, no hay evidencias para descartar H0 (que los datos se distribuyen normal)."
   ]
  },
  {
   "cell_type": "markdown",
   "id": "c81cc55a",
   "metadata": {},
   "source": [
    "**Evaluación del modelo**"
   ]
  },
  {
   "cell_type": "code",
   "execution_count": null,
   "id": "4ffe928c",
   "metadata": {},
   "outputs": [
    {
     "name": "stdout",
     "output_type": "stream",
     "text": [
      "El error (RMSE) de test es: 1.704667427572053\n"
     ]
    }
   ],
   "source": [
    "# Error de test del modelo \n",
    "\n",
    "X_test = sm.add_constant(X_test, prepend=True)\n",
    "predicciones = modelo.predict(exog = X_test)\n",
    "rmse = mean_squared_error(\n",
    "        y_true  = y_test,\n",
    "        y_pred  = predicciones,\n",
    "        squared = False\n",
    "       )\n",
    "print(f\"El error (RMSE) de test es: {rmse}\")"
   ]
  },
  {
   "cell_type": "markdown",
   "id": "195d2920",
   "metadata": {},
   "source": [
    "**Interpretación:** \n",
    "\n",
    "El modelo de regresión lineal múltiple:\n",
    "\n",
    "ventas = 2.8497 + 0.0456 * tv + 0.1893 * radio + 0.0024 * periodico\n",
    " \n",
    "La ecuación anterior puede explicar el 89.4% de la varianza observada en las ventas. El test F es significativo (valor-P: 1.01e-75). Hay evidencias de que el modelo es capaz de explicar la varianza en las ventas mejor de lo esperado por azar. Los test estadísticos para cada variable confirman que tv y radio están relacionadas con la cantidad de ventas y contribuyen al modelo.\n",
    "\n",
    "No se cumplen los supuestos de normalidad. Por lo tanto, los intervalos de confianza estimados para los coeficientes y las predicciones no son fiables.\n",
    "\n",
    "El error (RMSE) de test es de aproximadamente de 1.705. Las predicciones del modelo final se alejan en promedio 1.705 unidades del valor real."
   ]
  },
  {
   "cell_type": "code",
   "execution_count": 28,
   "id": "fcf52c73",
   "metadata": {},
   "outputs": [],
   "source": [
    "# Extract data\n",
    "X2 = datos[['tv', 'radio', 'periodico']]\n",
    "y2 = datos['ventas']"
   ]
  },
  {
   "cell_type": "code",
   "execution_count": 29,
   "id": "894671e4",
   "metadata": {},
   "outputs": [
    {
     "name": "stdout",
     "output_type": "stream",
     "text": [
      "(160, 3) (160,) (40, 3) (40,)\n"
     ]
    }
   ],
   "source": [
    "# With skylearn\n",
    "X_train2, X_test2, y_train2, y_test2 = train_test_split(X2,y2, test_size=0.2, random_state=12, shuffle=True)\n",
    "print (X_train2.shape, y_train2.shape, X_test2.shape, y_test2.shape)"
   ]
  },
  {
   "cell_type": "code",
   "execution_count": 30,
   "id": "94975fb9",
   "metadata": {},
   "outputs": [
    {
     "data": {
      "text/plain": [
       "LinearRegression(copy_X=True, fit_intercept=True, n_jobs=None, normalize=False)"
      ]
     },
     "execution_count": 30,
     "metadata": {},
     "output_type": "execute_result"
    }
   ],
   "source": [
    "# Train\n",
    "modelo_linear2 = LinearRegression()\n",
    "modelo_linear2.fit(X = X_train2, y = y_train2)"
   ]
  },
  {
   "cell_type": "code",
   "execution_count": 37,
   "id": "785ca635",
   "metadata": {},
   "outputs": [
    {
     "name": "stdout",
     "output_type": "stream",
     "text": [
      "Coeficiente [ 0.04452235  0.19286187 -0.00465557]\n",
      "[16.39007308  6.55142872  7.75824723 14.53202646 13.33028039 17.25724194\n",
      " 22.70246331  7.56542867 11.11617935 12.16590506 16.20688599 11.89552242\n",
      "  8.6982841  14.33284955 23.90604787  9.90237465 11.29089546 12.63485551\n",
      " 13.73025584 14.93273641 20.82213372 11.03622634 22.81579474  7.85544991\n",
      " 16.34325529  9.39298831 13.20801647 11.595813    3.62943523 11.70631855\n",
      "  9.12735107 23.85164956 16.31341962 20.96174927  6.14548653 19.77913484\n",
      " 12.30781253 21.19176851 12.43898029 12.55735255]\n"
     ]
    }
   ],
   "source": [
    "print(\"Coeficiente\", modelo_linear2.coef_)\n",
    "predicciones = modelo_linear2.predict(X = X_test2)\n",
    "print(predicciones)"
   ]
  },
  {
   "cell_type": "code",
   "execution_count": 40,
   "id": "ad0c11c0",
   "metadata": {},
   "outputs": [
    {
     "name": "stdout",
     "output_type": "stream",
     "text": [
      "\n",
      "El error (rmse) de test es: 1.6772719230294282\n"
     ]
    }
   ],
   "source": [
    "rmse = mean_squared_error(\n",
    "        y_true  = y_test2,\n",
    "        y_pred  = predicciones,\n",
    "        squared = False\n",
    "       )\n",
    "print(\"\")\n",
    "print(f\"El error (rmse) de test es: {rmse}\")"
   ]
  },
  {
   "cell_type": "code",
   "execution_count": 43,
   "id": "e66a3f7e",
   "metadata": {},
   "outputs": [
    {
     "name": "stdout",
     "output_type": "stream",
     "text": [
      "R2 0.8964686291342123\n"
     ]
    }
   ],
   "source": [
    "# R2\n",
    "print(\"R^2:\", modelo_linear2.score(X2, y2))"
   ]
  }
 ],
 "metadata": {
  "kernelspec": {
   "display_name": "Python 3",
   "language": "python",
   "name": "python3"
  },
  "language_info": {
   "codemirror_mode": {
    "name": "ipython",
    "version": 3
   },
   "file_extension": ".py",
   "mimetype": "text/x-python",
   "name": "python",
   "nbconvert_exporter": "python",
   "pygments_lexer": "ipython3",
   "version": "3.7.6"
  }
 },
 "nbformat": 4,
 "nbformat_minor": 5
}
