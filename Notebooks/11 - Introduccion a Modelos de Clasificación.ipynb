{
 "cells": [
  {
   "cell_type": "markdown",
   "id": "c2343a13",
   "metadata": {},
   "source": [
    "# Introducción a los Modelos de Clasificación"
   ]
  },
  {
   "cell_type": "markdown",
   "id": "ea63dd50",
   "metadata": {},
   "source": [
    "Las técnicas de **clasificación** son una parte esencial de Machine Learning, ya que aproximadamente el 70% de los problemas son de este tipo. Existen muchos algoritmos de clasificación, pero la ***Regresión Logística*** es común y es un método de regresión útil para resolver problemas de clasificación binaria.\n",
    "\n",
    "Cuando usamos clasificación, el resultado es una **clase**, entre un número limitado de clases. Con clases nos referimos a categorías arbitrarias según el tipo de problema."
   ]
  },
  {
   "cell_type": "markdown",
   "id": "7d799bb3",
   "metadata": {},
   "source": [
    "![Modelos de clasificación](modelos_clasificacion.jpg)"
   ]
  },
  {
   "cell_type": "markdown",
   "id": "5b710d6b",
   "metadata": {},
   "source": [
    "Un proceso binomial está caracterizado por la probabilidad de éxito, representada por p (es el único parámetro de su función de probabilidad), la probabilidad de fracaso se representa por q y, evidentemente, ambas probabilidades están relacionadas por p+q=1. En ocasiones, se usa el cociente p/q, denominado \"odds\", y que indica cuánto más probable es el éxito que el fracaso, como parámetro característico de la distribución binomial aunque, evidentemente, ambas representaciones son totalmente equivalentes.\n",
    "\n",
    "Los modelos de Regresión Logística son modelos de regresión que permiten estudiar si una variable binomial depende, o no, de otra u otras variables (no necesariamente binomiales): Si una variable binomial de parámetro p es independiente de otra variable X, se cumple p=p|X, por consiguiente, un modelo de regresión es una función de p en X que a través del coeficiente de X permite investigar la relación anterior."
   ]
  },
  {
   "cell_type": "markdown",
   "id": "8799bf58",
   "metadata": {},
   "source": [
    "## Regresión Logística"
   ]
  },
  {
   "cell_type": "markdown",
   "id": "db95d657",
   "metadata": {},
   "source": [
    "La Regresión Logística es una técnica de aprendizaje automático para clasificación. Es una red neuronal en miniatura. De hecho, se trata de una red neuronal con exactamente una neurona. La Regresión Logística es un método estadístico para predecir clases binarias. El resultado o variable objetivo es de naturaleza dicotómica. Dicotómica significa que solo hay dos clases posibles. Por ejemplo, se puede utilizar para problemas de detección de correos spam o calcular la probabilidad de que ocurra un evento. La Regresión Logística lleva el nombre de la función utilizada en el núcleo del método, la función logística es también llamada **función Sigmoide**. Esta función es una curva en forma de S que puede tomar cualquier número de valor real y asignar a un valor entre **0** y **1**. \n",
    "\n",
    "![Función Sigmoide](Regresion_logistica.jpg)"
   ]
  },
  {
   "cell_type": "markdown",
   "id": "2d74da5f",
   "metadata": {},
   "source": [
    "Si una variable cualitativa con dos niveles se codifica como 1 y 0, matemáticamente es posible ajustar un modelo de regresión lineal por mínimos cuadrados β0+β1x. El problema de esta aproximación es que, al tratarse de una recta, para valores extremos del predictor, se obtienen valores de Y menores que 0 o mayores que 1, lo que entra en contradicción con el hecho de que las probabilidades siempre están dentro del rango [0,1].\n",
    "\n",
    "Para evitar estos problemas, la Regresión Logística transforma el valor devuelto por la regresión lineal (β0+β1X) empleando una función cuyo resultado está siempre comprendido entre 0 y 1. Existen varias funciones que cumplen esta descripción, una de las más utilizadas es la función logística (también conocida como función sigmoide):\n",
    "\n",
    "![Función Sigmoide](funcion_sigmoide_.png)\n",
    "\n",
    "Z es la entrada neta, o la combinación lineal de pesos y características del modelo, que se puede calcular como:\n",
    "\n",
    "![Z-Función Sigmoide](z_sigmoide.png)\n",
    "\n",
    "Si la curva va a infinito positivo la predicción se convertirá en 1, y si la curva pasa el infinito negativo, la predicción se convertirá en 0. Si la salida de la función sigmoide es mayor que 0.5, podemos clasificar el resultado como 1 o SI, y si es menor que 0.5 podemos clasificarlo como 0 o NO, de forma que toma valores reales y los transforma en el rango [0,1], interceptando Ø(z) en 0.5. Por su parte un resultado de 0.75, hablamos en términos de probabilidad (75%).\n",
    "\n",
    "![Entrenamiento RL](entrenamiento_regresionLog.png)\n",
    "\n",
    "En resumen, la imagen anterior es lo que el modelo de regresión logística hace mientras es entrenado. La salida de la función sigmoide se interpreta como la probabilidad de que una muestra determinada pertenezca a la clase 1, dadas sus características x parametrizadas por los pesos como, Ø(z) =P(y=1|x; w). La probabilidad predicha se puede convertir en una salida binaria con una función de paso único (un cuantizador).\n",
    "\n",
    "![Función matemática Y](funcion_matematica_y.png)\n",
    "\n",
    "- Combinación lineal (a la izquierda de la neurona).\n",
    "- Aplicación de la función logística (a la derecha de la neurona).\n",
    "\n",
    "Así que todas las entradas se combinan con una línea con los coeficientes w. Y luego se aplica la función logística (también llamada sigmoide) al resultado."
   ]
  },
  {
   "cell_type": "code",
   "execution_count": 21,
   "id": "af428a7e",
   "metadata": {},
   "outputs": [],
   "source": [
    "# Función logística o Sigmoide\n",
    "# Esta función debe funcionar para cuando z es un arreglo y no simplemente un escalar.\n",
    "def sigmoid_function(x,w0, w1):\n",
    "    '''Función equivalente a perceptrón con función de activación Sigmoide''' \n",
    "    \n",
    "    z = w0 + w1*x # Función lineal\n",
    "    activation = 1/(1+np.exp(-z))\n",
    "    return activation"
   ]
  },
  {
   "cell_type": "code",
   "execution_count": null,
   "id": "5d201023",
   "metadata": {},
   "outputs": [],
   "source": [
    "def sigmoid(z):\n",
    "    '''Función equivalente a perceptrón con función de activación Sigmoide''' \n",
    "    \n",
    "    activation = 1/(1+np.exp(-z))\n",
    "    return activation"
   ]
  },
  {
   "cell_type": "markdown",
   "id": "20836a80",
   "metadata": {},
   "source": [
    "Los modelos de regresión logística tienen **tres finalidades**:\n",
    "\n",
    "- Cuantificar la importancia de la relación existente entre cada una de las covariables y la variable dependiente.\n",
    "- Clarificar la existencia de interacción y confusión entre covariables respecto a la variable dependiente (es decir, los odds ratio para cada covariable).\n",
    "- Clasificar individuos dentro de las categorías (presente/ausente) de la variable dependiente."
   ]
  },
  {
   "cell_type": "code",
   "execution_count": 1,
   "id": "058e9ea2",
   "metadata": {},
   "outputs": [],
   "source": [
    "# Importación de librerías\n",
    "import matplotlib.pyplot as plt\n",
    "import numpy as np\n",
    "from matplotlib import cm\n",
    "from sklearn.datasets import make_blobs\n",
    "from sklearn.metrics import accuracy_score\n",
    "from sklearn.linear_model import LogisticRegression"
   ]
  },
  {
   "cell_type": "code",
   "execution_count": 2,
   "id": "ec2b0655",
   "metadata": {},
   "outputs": [],
   "source": [
    "# Generación de datos. Un atributo, dos clases.\n",
    "X, y = make_blobs(n_samples=1000, centers=2, n_features=1,\n",
    "                  random_state=1, cluster_std= 1.5) # Esto es simular datos"
   ]
  },
  {
   "cell_type": "code",
   "execution_count": 3,
   "id": "9f516b76",
   "metadata": {},
   "outputs": [
    {
     "data": {
      "image/png": "[encoded data removed]",
      "text/plain": [
       "<Figure size 432x288 with 1 Axes>"
      ]
     },
     "metadata": {
      "needs_background": "light"
     },
     "output_type": "display_data"
    }
   ],
   "source": [
    "plt.scatter(X, y, c = y, alpha = 0.5, lw = 0.5, edgecolor = 'grey', cmap =cm.coolwarm)\n",
    "plt.xlabel('x')\n",
    "plt.ylabel('y')\n",
    "plt.tight_layout()\n",
    "plt.show()"
   ]
  },
  {
   "cell_type": "code",
   "execution_count": 4,
   "id": "2df48b32",
   "metadata": {},
   "outputs": [],
   "source": [
    "# Instanciamos el modelo y lo entrenamos\n",
    "clf = LogisticRegression().fit(X,y)"
   ]
  },
  {
   "cell_type": "code",
   "execution_count": 5,
   "id": "7f0d0a1e",
   "metadata": {},
   "outputs": [
    {
     "data": {
      "text/plain": [
       "0.974"
      ]
     },
     "execution_count": 5,
     "metadata": {},
     "output_type": "execute_result"
    }
   ],
   "source": [
    "# Realizamos la predicción\n",
    "y_pred = clf.predict(X)\n",
    "accuracy_score(y, y_pred)"
   ]
  },
  {
   "cell_type": "code",
   "execution_count": 6,
   "id": "5caed4a9",
   "metadata": {},
   "outputs": [
    {
     "name": "stdout",
     "output_type": "stream",
     "text": [
      "[[2.44855129]] [-3.39207913]\n"
     ]
    }
   ],
   "source": [
    "# Parámetros obtenidos\n",
    "print(clf.coef_, clf.intercept_)"
   ]
  },
  {
   "cell_type": "code",
   "execution_count": 35,
   "id": "e394a95c",
   "metadata": {},
   "outputs": [
    {
     "data": {
      "text/plain": [
       "2.44855128566888"
      ]
     },
     "execution_count": 35,
     "metadata": {},
     "output_type": "execute_result"
    }
   ],
   "source": [
    "clf.coef_[0][0]"
   ]
  },
  {
   "cell_type": "code",
   "execution_count": 36,
   "id": "eeeaa707",
   "metadata": {},
   "outputs": [
    {
     "data": {
      "text/plain": [
       "-3.392079129427139"
      ]
     },
     "execution_count": 36,
     "metadata": {},
     "output_type": "execute_result"
    }
   ],
   "source": [
    "clf.intercept_[0]"
   ]
  },
  {
   "cell_type": "code",
   "execution_count": 25,
   "id": "ed1bd689",
   "metadata": {},
   "outputs": [
    {
     "data": {
      "image/png": "[encoded data removed]",
      "text/plain": [
       "<Figure size 432x288 with 1 Axes>"
      ]
     },
     "metadata": {
      "needs_background": "light"
     },
     "output_type": "display_data"
    }
   ],
   "source": [
    "plt.scatter(X, y, c = y, alpha = 0.5, lw = 0.5, edgecolor = 'grey', cmap =cm.coolwarm)\n",
    "\n",
    "x_plot = np.linspace(-7,12,100)\n",
    "plt.plot(x_plot, sigmoid_function(x_plot,clf.intercept_[0], clf.coef_[0][0]))\n",
    "plt.xlabel('x')\n",
    "plt.ylabel('y')\n",
    "plt.tight_layout()\n",
    "plt.show()"
   ]
  },
  {
   "cell_type": "markdown",
   "id": "55dfc56d",
   "metadata": {},
   "source": [
    "Otra forma de obtener esa curva habría sido usando el método `predict_proba` del clasificador:"
   ]
  },
  {
   "cell_type": "code",
   "execution_count": 42,
   "id": "3d2ff0e9",
   "metadata": {},
   "outputs": [
    {
     "data": {
      "text/plain": [
       "(100,)"
      ]
     },
     "execution_count": 42,
     "metadata": {},
     "output_type": "execute_result"
    }
   ],
   "source": [
    "x_plot = np.linspace(-7,12,100)\n",
    "x_plot.reshape(-1,1).shape\n",
    "clf.predict_proba(x_plot.reshape(-1,1))[:,1].shape"
   ]
  },
  {
   "cell_type": "code",
   "execution_count": 26,
   "id": "2cb18298",
   "metadata": {},
   "outputs": [
    {
     "data": {
      "image/png": "[encoded data removed]",
      "text/plain": [
       "<Figure size 432x288 with 1 Axes>"
      ]
     },
     "metadata": {
      "needs_background": "light"
     },
     "output_type": "display_data"
    }
   ],
   "source": [
    "plt.scatter(X, y, c = y, alpha = 0.5, lw = 0.5, edgecolor = 'grey', cmap =cm.coolwarm)\n",
    "\n",
    "x_plot = np.linspace(-7,12,100)\n",
    "y_plot = clf.predict_proba(x_plot.reshape(-1,1))[:,1]\n",
    "plt.plot(x_plot, y_plot)\n",
    "\n",
    "plt.xlabel('x')\n",
    "plt.ylabel('y')\n",
    "plt.tight_layout()\n",
    "plt.show()"
   ]
  },
  {
   "cell_type": "code",
   "execution_count": 44,
   "id": "8e0491e7",
   "metadata": {},
   "outputs": [
    {
     "data": {
      "image/png": "[encoded data removed]",
      "text/plain": [
       "<Figure size 432x288 with 1 Axes>"
      ]
     },
     "metadata": {
      "needs_background": "light"
     },
     "output_type": "display_data"
    }
   ],
   "source": [
    "# Otra manera de representar la función sigmoide\n",
    "u=np.linspace(-7,12,100)\n",
    "g = np.exp(u)/(1 + np.exp(u))\n",
    "plt.plot(u,g)\n",
    "plt.xlabel('$u$')\n",
    "plt.ylabel('$g(u)$')\n",
    "plt.show()"
   ]
  },
  {
   "cell_type": "markdown",
   "id": "df87e6fa",
   "metadata": {},
   "source": [
    "## Función de coste de la Regresión Logística"
   ]
  },
  {
   "cell_type": "markdown",
   "id": "6903b667",
   "metadata": {},
   "source": [
    "El aprendizaje se realiza con optimización numérica, por ejemplo, con gradiente descendiente. No hay ninguna fórmula que nos de los coeficientes óptimos W, sino que tenemos que estimarlos. La función de coste que optimizamos es la siguiente:\n",
    "\n",
    "$$\n",
    "J = -\\frac{1}{n}\\sum_{i=1}^{n}y_i\\ln(\\hat{y}_i) + (1-y_i)\\ln(1-\\hat{y}_i)\n",
    "$$\n",
    "\n",
    "Promedio de la perdida a lo largo de todos los ejemplos.\n",
    "\n",
    "$$\n",
    "\\hat{y}_i = \\frac{1}{1 + e^{-(w0 + w1x)}}\n",
    "$$\n",
    "\n",
    "El modelo de Regresión Logística es aquel que minimiza el costo a lo largo de todos los datos de entrenamiento, nótese que los pesos siguen siendo los valores que se deben minimizar."
   ]
  },
  {
   "cell_type": "markdown",
   "id": "5bba71dd",
   "metadata": {},
   "source": [
    "### Ejercicio 1\n",
    "\n",
    "Implementar la función `compute_predictions(X, w, return_probs=False)` que permite hacer predicciones usando la Regresión Logística. Incluir un argumento adicional que permita retornar las probabilidades de que los inputs pertenezcan a la clase 1."
   ]
  },
  {
   "cell_type": "code",
   "execution_count": null,
   "id": "3194cfdc",
   "metadata": {},
   "outputs": [],
   "source": []
  },
  {
   "cell_type": "markdown",
   "id": "3dd31d16",
   "metadata": {},
   "source": [
    "### Ejercicio 2\n",
    "\n",
    "Implementar la función de coste: `compute_cost(y, y_pred)` , la cual calcule el costo de las predicciones actuales del modelo de Regresión Logística."
   ]
  },
  {
   "cell_type": "code",
   "execution_count": null,
   "id": "10067df4",
   "metadata": {},
   "outputs": [],
   "source": []
  },
  {
   "cell_type": "markdown",
   "id": "04cb35d8",
   "metadata": {},
   "source": [
    "## Optimización Gradiente descendente"
   ]
  },
  {
   "cell_type": "markdown",
   "id": "61432599",
   "metadata": {},
   "source": [
    "Este método de optimización implica que debemos calcular el gradiente de la función de costo con respecto a los pesos del modelo. Solución de gradiente descendiente: para encontrar el mínimo debemos recorrer la función de costo en la dirección que el gradiente nos dicta en cada punto.\n",
    "\n",
    "La **Tasa de aprendizaje** controla que tan grandes son los pasos (longitud) que se dan en cada iteración, un hiperparámetro.\n",
    "\n",
    "Se puede definir un criterio de convergencia o un número de iteraciones.\n",
    "\n",
    "![Gradiente Descendente](gradiente_descendente.png)"
   ]
  },
  {
   "cell_type": "markdown",
   "id": "72e2e33b",
   "metadata": {},
   "source": [
    "### Ejercicio 3\n",
    "\n",
    "Implementar la función `compute_gradient(X, y, y_pred)`, la cual es necesaria para la implementación de gradiente descendiente."
   ]
  },
  {
   "cell_type": "code",
   "execution_count": null,
   "id": "349301b9",
   "metadata": {},
   "outputs": [],
   "source": []
  },
  {
   "cell_type": "markdown",
   "id": "0a2db2e0",
   "metadata": {},
   "source": [
    "### Ejercicio 4\n",
    "\n",
    "Implementar la función `optimize_logistic_regression(X, y, learning_rate, num_iterations)`, la cual calcula los parámetros de la Regresión Logística. El criterio de parada será un número de iteraciones. Guardar en una lista el costo y los pesos de cada iteración."
   ]
  },
  {
   "cell_type": "code",
   "execution_count": null,
   "id": "b6b5c496",
   "metadata": {},
   "outputs": [],
   "source": []
  }
 ],
 "metadata": {
  "kernelspec": {
   "display_name": "Python 3",
   "language": "python",
   "name": "python3"
  },
  "language_info": {
   "codemirror_mode": {
    "name": "ipython",
    "version": 3
   },
   "file_extension": ".py",
   "mimetype": "text/x-python",
   "name": "python",
   "nbconvert_exporter": "python",
   "pygments_lexer": "ipython3",
   "version": "3.8.8"
  }
 },
 "nbformat": 4,
 "nbformat_minor": 5
}
