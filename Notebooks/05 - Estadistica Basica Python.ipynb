{
 "cells": [
  {
   "cell_type": "markdown",
   "id": "554d8d3e",
   "metadata": {},
   "source": [
    "# Estadística Básica"
   ]
  },
  {
   "cell_type": "code",
   "execution_count": 1,
   "id": "7ca9a829",
   "metadata": {},
   "outputs": [],
   "source": [
    "# Importación de librerías\n",
    "import numpy as np\n",
    "import pandas as pd\n",
    "import matplotlib.pyplot as plt\n",
    "from scipy import stats as ss"
   ]
  },
  {
   "cell_type": "markdown",
   "id": "87a767d8",
   "metadata": {},
   "source": [
    "- Objetivos y uso de la estadística descriptiva\n",
    "- Tipos de variables\n",
    "- Histogramas y medidas de tendencia central\n",
    "- Medidas de dispérsión\n",
    "- Medidas de posición. Cuartiles, deciles y percentiles\n"
   ]
  },
  {
   "attachments": {},
   "cell_type": "markdown",
   "id": "10af3101",
   "metadata": {},
   "source": [
    "## Medidas estadísticas\n",
    "\n",
    "Tenemos 3 medidas basicas para describir a los datos:\n",
    "\n",
    "- Medidas de tendencia central (un solo número nos da mucha información)\n",
    "- Medidas de disperción (necesita una medida de tendencia central)\n",
    "- Medidas de posición (dividirlo por partes)\n",
    "---"
   ]
  },
  {
   "attachments": {},
   "cell_type": "markdown",
   "id": "736a6ad3",
   "metadata": {},
   "source": [
    "## Medidas de tendencia central\n",
    "\n",
    "- **Moda:** Es el valor que mas se repite en un dato de tipo nominal (la categoria que mas se repite)\n",
    "- **Media (Promedio):** suma de los elementos / total de los elementos\n",
    "- **Mediana:** Ordenar los elementos, partir el conjunto de datos en 2 y seleccionar el punto medio\n",
    "\n",
    "\n",
    "Siempre validar promedios con las medianas y/o medidas de posición,\n",
    "Tambien nos podemos ayudar de segmentaciones, las cuales agrupan cosas similares entre si, lo que significa que los promedios de esos segmentos se van a parecer mucho mas a los valores individuales de cada uno de los objetos que lo componen.\n",
    "\n",
    "---"
   ]
  },
  {
   "attachments": {},
   "cell_type": "markdown",
   "id": "d9736d10",
   "metadata": {},
   "source": [
    "## Medidas de dispersión\n",
    "\n",
    "- **Rango:** Es la resta entre el valor maximo y minimo\n",
    "- **Varianza:** Distancia que hay entre el promedio y cada una de las observaciones, elevado al cuadrado\n",
    "- **Desviación estandar:** raíz cuadrada de la varianza\n",
    "- **Coeficiente de variación:** Es la división entre la desviación estandar y la media (Datos mayores a 1 datos muy dispersos, si estan por debajo de 0.5 estan muy concentrado entorno a la media)\n",
    "\n",
    "\n",
    "Nos indican si una variable se mueve mucho o cambia muchos respecto a sus datos. \n",
    "\n",
    "En este sentido, deben acompañar a las medidas de tendencia central. Juntas, ofrecen información de un sólo vistazo que luego podremos utilizar para comparar y, si fuera preciso, tomar decisiones.\n",
    " \n",
    "---\n"
   ]
  },
  {
   "cell_type": "code",
   "execution_count": 2,
   "id": "713fecaa",
   "metadata": {},
   "outputs": [],
   "source": [
    "arreglo_medidas_tc = np.array([1,2,2,3,3,4,4,4,4,5,5])"
   ]
  },
  {
   "cell_type": "code",
   "execution_count": 3,
   "id": "7f0af616",
   "metadata": {},
   "outputs": [
    {
     "data": {
      "text/plain": [
       "3.3636363636363638"
      ]
     },
     "execution_count": 3,
     "metadata": {},
     "output_type": "execute_result"
    }
   ],
   "source": [
    "arreglo_medidas_tc.mean()"
   ]
  },
  {
   "cell_type": "code",
   "execution_count": 4,
   "id": "9b8fd44c",
   "metadata": {},
   "outputs": [
    {
     "data": {
      "text/plain": [
       "4.0"
      ]
     },
     "execution_count": 4,
     "metadata": {},
     "output_type": "execute_result"
    }
   ],
   "source": [
    "np.median(arreglo_medidas_tc)"
   ]
  },
  {
   "cell_type": "code",
   "execution_count": 5,
   "id": "bc03ed77",
   "metadata": {},
   "outputs": [
    {
     "data": {
      "text/plain": [
       "ModeResult(mode=array([4]), count=array([4]))"
      ]
     },
     "execution_count": 5,
     "metadata": {},
     "output_type": "execute_result"
    }
   ],
   "source": [
    "ss.mode(arreglo_medidas_tc)"
   ]
  },
  {
   "cell_type": "code",
   "execution_count": 6,
   "id": "85ffeff7",
   "metadata": {},
   "outputs": [
    {
     "data": {
      "text/plain": [
       "4"
      ]
     },
     "execution_count": 6,
     "metadata": {},
     "output_type": "execute_result"
    }
   ],
   "source": [
    "arreglo_medidas_tc.max() - arreglo_medidas_tc.min()"
   ]
  },
  {
   "cell_type": "code",
   "execution_count": 7,
   "id": "ecc11c30",
   "metadata": {},
   "outputs": [
    {
     "data": {
      "text/plain": [
       "1.5041322314049588"
      ]
     },
     "execution_count": 7,
     "metadata": {},
     "output_type": "execute_result"
    }
   ],
   "source": [
    "arreglo_medidas_tc.var()"
   ]
  },
  {
   "cell_type": "code",
   "execution_count": 8,
   "id": "fe0024b5",
   "metadata": {},
   "outputs": [
    {
     "data": {
      "text/plain": [
       "1.2264306875665492"
      ]
     },
     "execution_count": 8,
     "metadata": {},
     "output_type": "execute_result"
    }
   ],
   "source": [
    "arreglo_medidas_tc.std()"
   ]
  },
  {
   "cell_type": "code",
   "execution_count": 9,
   "id": "9be64541",
   "metadata": {},
   "outputs": [
    {
     "data": {
      "text/plain": [
       "0.3646145287360011"
      ]
     },
     "execution_count": 9,
     "metadata": {},
     "output_type": "execute_result"
    }
   ],
   "source": [
    "arreglo_medidas_tc.std() / arreglo_medidas_tc.mean()"
   ]
  },
  {
   "attachments": {
    "image-2.png": {
     "image/png": "[encoded data removed]"
    }
   },
   "cell_type": "markdown",
   "id": "bad038df",
   "metadata": {},
   "source": [
    "# Medidas de posición\n",
    "\n",
    "Hacen referencia a como su nombre lo indica a una posición de ubicación de los datos respecto a todos los datos de un conjunto de datos ordenados de menor a mayor.\n",
    "\n",
    "![image-2.png](attachment:image-2.png)\n",
    "\n",
    "- **Cuartiles:** (K*n) / 4\n",
    "- **Deciles:**  (K*n) / 10\n",
    "- **Percentiles:**  (K*n) / 100\n",
    "\n",
    "**K:** posición del cuartil, decil o percentil\n",
    "\n",
    "**n:** Cantidad de datos\n",
    "\n",
    "---\n",
    "\n",
    "**Ejemplos:**\n",
    "\n",
    "**Cuartil:**\n",
    "\n",
    "(2*9) / 4 = 4.5 (el resultado indica la posición)\n",
    "\n",
    "\n",
    "1,2,4,5,6,6,7,9,9\n",
    "\n",
    "---\n",
    "\n",
    "**Decil:**\n",
    "\n",
    "(8*15) / 10 = 12\n",
    "\n",
    "1,2,4,5,6,6,7,9,9,10,11,12,15,16,20\n",
    "\n",
    "---\n",
    "\n",
    "**Percentil:**\n",
    "\n",
    "(70*10) / 100 = 7\n",
    "\n",
    "\n",
    "\n",
    "\n",
    "1,2,4,5,6,6,7,9,9\n",
    " \n",
    "---\n"
   ]
  },
  {
   "cell_type": "code",
   "execution_count": 487,
   "id": "74641ad5",
   "metadata": {},
   "outputs": [
    {
     "data": {
      "text/plain": [
       "array([1, 2, 4, 5, 6, 6, 7, 9, 9])"
      ]
     },
     "execution_count": 487,
     "metadata": {},
     "output_type": "execute_result"
    }
   ],
   "source": [
    "arreglo = np.array([1,2,4,5,6,6,7,9,9])\n",
    "arreglo"
   ]
  },
  {
   "cell_type": "markdown",
   "id": "7e9d9528",
   "metadata": {},
   "source": [
    "**Mediana**"
   ]
  },
  {
   "cell_type": "code",
   "execution_count": 488,
   "id": "38f3cfa9",
   "metadata": {},
   "outputs": [
    {
     "data": {
      "text/plain": [
       "6.0"
      ]
     },
     "execution_count": 488,
     "metadata": {},
     "output_type": "execute_result"
    }
   ],
   "source": [
    "np.median(arreglo)"
   ]
  },
  {
   "cell_type": "markdown",
   "id": "a66c77f4",
   "metadata": {},
   "source": [
    "**Cuartiles**"
   ]
  },
  {
   "cell_type": "code",
   "execution_count": 491,
   "id": "2e8b422b",
   "metadata": {},
   "outputs": [
    {
     "data": {
      "text/plain": [
       "6.0"
      ]
     },
     "execution_count": 491,
     "metadata": {},
     "output_type": "execute_result"
    }
   ],
   "source": [
    "np.quantile(arreglo, 0.5)"
   ]
  },
  {
   "cell_type": "code",
   "execution_count": 462,
   "id": "8b2349f4",
   "metadata": {},
   "outputs": [
    {
     "data": {
      "text/plain": [
       "4.0"
      ]
     },
     "execution_count": 462,
     "metadata": {},
     "output_type": "execute_result"
    }
   ],
   "source": [
    "np.quantile(arreglo, 0.25)"
   ]
  },
  {
   "cell_type": "code",
   "execution_count": 493,
   "id": "7093e3ff",
   "metadata": {},
   "outputs": [
    {
     "data": {
      "text/plain": [
       "7.0"
      ]
     },
     "execution_count": 493,
     "metadata": {},
     "output_type": "execute_result"
    }
   ],
   "source": [
    "np.quantile(arreglo, 0.75)"
   ]
  },
  {
   "cell_type": "markdown",
   "id": "3d136cfd",
   "metadata": {},
   "source": [
    "**Percentil**"
   ]
  },
  {
   "cell_type": "code",
   "execution_count": 469,
   "id": "a2d09377",
   "metadata": {},
   "outputs": [
    {
     "data": {
      "text/plain": [
       "1.6400000000000001"
      ]
     },
     "execution_count": 469,
     "metadata": {},
     "output_type": "execute_result"
    }
   ],
   "source": [
    "np.percentile(arreglo, 8)"
   ]
  },
  {
   "cell_type": "code",
   "execution_count": 471,
   "id": "41a7ada0",
   "metadata": {},
   "outputs": [
    {
     "data": {
      "text/plain": [
       "9.0"
      ]
     },
     "execution_count": 471,
     "metadata": {},
     "output_type": "execute_result"
    }
   ],
   "source": [
    "np.percentile(arreglo, 99)"
   ]
  },
  {
   "cell_type": "code",
   "execution_count": 472,
   "id": "57edb62e",
   "metadata": {},
   "outputs": [
    {
     "data": {
      "text/plain": [
       "6.0"
      ]
     },
     "execution_count": 472,
     "metadata": {},
     "output_type": "execute_result"
    }
   ],
   "source": [
    "np.percentile(arreglo, 50)"
   ]
  },
  {
   "cell_type": "code",
   "execution_count": 473,
   "id": "4ff0186d",
   "metadata": {},
   "outputs": [
    {
     "data": {
      "text/plain": [
       "4.0"
      ]
     },
     "execution_count": 473,
     "metadata": {},
     "output_type": "execute_result"
    }
   ],
   "source": [
    "np.percentile(arreglo, 25)"
   ]
  },
  {
   "cell_type": "markdown",
   "id": "ff67e80a",
   "metadata": {},
   "source": [
    "# Histograma \n",
    "\n",
    "El histograma es una representación gráfica que muestra la distribución de probabilidad de una variable a lo largo de su recorrido, mediante la frecuencia de aparición de datos a lo largo del recorrido de la variable. \n",
    "\n",
    "Es importante considerar que la frecuencia de aparición dependerá del intervalo que se estime, mediante el valor mínimo y máximo de la variable. \n",
    "\n",
    "\n",
    "Veamos un ejemplo práctico de un histograma.\n",
    "\n"
   ]
  },
  {
   "cell_type": "code",
   "execution_count": 9,
   "id": "daa6c713",
   "metadata": {},
   "outputs": [
    {
     "data": {
      "image/png": "[encoded data removed]",
      "text/plain": [
       "<Figure size 432x288 with 1 Axes>"
      ]
     },
     "metadata": {
      "needs_background": "light"
     },
     "output_type": "display_data"
    }
   ],
   "source": [
    "mu = 100 # media (centro)\n",
    "sigma = 100 # desviación estándar\n",
    "cantidad = 1000 # tamaño\n",
    "\n",
    "# muestras aleatorias de una distribución normal (gaussiana)\n",
    "x = np.random.normal(mu, sigma, cantidad).reshape(cantidad,)\n",
    "y = np.zeros(cantidad)\n",
    "\n",
    "plt.plot(x, y, 'o', color='black')\n",
    "plt.show()\n"
   ]
  },
  {
   "cell_type": "code",
   "execution_count": 10,
   "id": "cddeb26f",
   "metadata": {},
   "outputs": [
    {
     "data": {
      "image/png": "[encoded data removed]",
      "text/plain": [
       "<Figure size 432x288 with 1 Axes>"
      ]
     },
     "metadata": {
      "needs_background": "light"
     },
     "output_type": "display_data"
    }
   ],
   "source": [
    "bins = 10\n",
    "plt.hist(x, bins)\n",
    "plt.show()"
   ]
  },
  {
   "cell_type": "code",
   "execution_count": 579,
   "id": "8259b141",
   "metadata": {},
   "outputs": [
    {
     "data": {
      "image/png": "[encoded data removed]",
      "text/plain": [
       "<Figure size 432x288 with 1 Axes>"
      ]
     },
     "metadata": {
      "needs_background": "light"
     },
     "output_type": "display_data"
    },
    {
     "data": {
      "image/png": "[encoded data removed]",
      "text/plain": [
       "<Figure size 432x288 with 1 Axes>"
      ]
     },
     "metadata": {
      "needs_background": "light"
     },
     "output_type": "display_data"
    }
   ],
   "source": [
    "mu = 1 # media (centro)\n",
    "sigma = 100 # desviación estándar\n",
    "cantidad = 1000 # tamaño\n",
    "\n",
    "# muestras aleatorias de una distribución normal (gaussiana)\n",
    "x = np.random.normal(mu, sigma, cantidad).reshape(cantidad,)\n",
    "y = np.zeros(cantidad)\n",
    "\n",
    "plt.plot(x, y, 'o', color='black')\n",
    "plt.show()\n",
    "\n",
    "plt.hist(x)\n",
    "plt.show()"
   ]
  },
  {
   "cell_type": "code",
   "execution_count": 580,
   "id": "574eef50",
   "metadata": {},
   "outputs": [
    {
     "data": {
      "text/plain": [
       "0.872964566784371"
      ]
     },
     "execution_count": 580,
     "metadata": {},
     "output_type": "execute_result"
    }
   ],
   "source": [
    "np.mean(x)"
   ]
  },
  {
   "cell_type": "code",
   "execution_count": 581,
   "id": "5a17a59e",
   "metadata": {},
   "outputs": [
    {
     "data": {
      "text/plain": [
       "3.4941382638136265"
      ]
     },
     "execution_count": 581,
     "metadata": {},
     "output_type": "execute_result"
    }
   ],
   "source": [
    "np.median(x)"
   ]
  },
  {
   "cell_type": "code",
   "execution_count": 582,
   "id": "37658bb9",
   "metadata": {},
   "outputs": [
    {
     "data": {
      "text/plain": [
       "97.70563926137567"
      ]
     },
     "execution_count": 582,
     "metadata": {},
     "output_type": "execute_result"
    }
   ],
   "source": [
    "np.std(x)"
   ]
  },
  {
   "cell_type": "markdown",
   "id": "45344f7e",
   "metadata": {},
   "source": [
    "Entre mas alto un compartimiento, mas medidas estan dentro de ese compartimiento\n",
    "\n",
    "Los histogramas se pueden usar para visualizar facilmente una distribución y poder observar la probabilidad de futuros de datos."
   ]
  },
  {
   "cell_type": "markdown",
   "id": "738099a4",
   "metadata": {},
   "source": [
    "# Caso de cotton plus"
   ]
  },
  {
   "cell_type": "markdown",
   "id": "eae6e38a",
   "metadata": {},
   "source": [
    "### Realiza la lectura del dataset 'Data DS Cotton Plus'"
   ]
  },
  {
   "cell_type": "code",
   "execution_count": 10,
   "id": "638c7233",
   "metadata": {},
   "outputs": [],
   "source": [
    "data_pd = pd.read_excel(\"./Data DS Cotton Plus.xlsx\")"
   ]
  },
  {
   "cell_type": "markdown",
   "id": "ab924039",
   "metadata": {},
   "source": [
    "### Visualiza la información de las variables en el dataset: sus tipos y cantidad de valores nulos"
   ]
  },
  {
   "cell_type": "code",
   "execution_count": 17,
   "id": "379d519e",
   "metadata": {},
   "outputs": [
    {
     "data": {
      "text/html": [
       "<div>\n",
       "<style scoped>\n",
       "    .dataframe tbody tr th:only-of-type {\n",
       "        vertical-align: middle;\n",
       "    }\n",
       "\n",
       "    .dataframe tbody tr th {\n",
       "        vertical-align: top;\n",
       "    }\n",
       "\n",
       "    .dataframe thead th {\n",
       "        text-align: right;\n",
       "    }\n",
       "</style>\n",
       "<table border=\"1\" class=\"dataframe\">\n",
       "  <thead>\n",
       "    <tr style=\"text-align: right;\">\n",
       "      <th></th>\n",
       "      <th>Cedula</th>\n",
       "      <th>Nombre Completo</th>\n",
       "      <th>Segmento</th>\n",
       "      <th>Compro 2019?</th>\n",
       "      <th>Compro 2020?</th>\n",
       "      <th>Monto Comprado 2019?</th>\n",
       "      <th>Nro Transacciones 2019</th>\n",
       "      <th>Monto Comprado 2020</th>\n",
       "      <th>Nro Transacciones 2020</th>\n",
       "      <th>Tipo de Contacto</th>\n",
       "      <th>...</th>\n",
       "      <th>TelefonoOficina</th>\n",
       "      <th>Telefono Casa</th>\n",
       "      <th>Monto - MARCA COTTON- B/quilla.</th>\n",
       "      <th>Monto - Brand Store Cucuta</th>\n",
       "      <th>Monto - MARCA COTTON- Bucaramanga</th>\n",
       "      <th>Monto - MARCA COTTON- Manizales</th>\n",
       "      <th>Monto - MARCA COTTON- Pereira</th>\n",
       "      <th>Monto - MARCA COTTON- Cartagena</th>\n",
       "      <th>Monto - MARCA COTTON- Pasto</th>\n",
       "      <th>Monto - MARCA COTTON- Cable Plaza</th>\n",
       "    </tr>\n",
       "  </thead>\n",
       "  <tbody>\n",
       "    <tr>\n",
       "      <th>0</th>\n",
       "      <td>1</td>\n",
       "      <td>Nombre Cliente 1</td>\n",
       "      <td>Aficionados</td>\n",
       "      <td>Si</td>\n",
       "      <td>No</td>\n",
       "      <td>264800</td>\n",
       "      <td>2</td>\n",
       "      <td>0</td>\n",
       "      <td>0</td>\n",
       "      <td>11001</td>\n",
       "      <td>...</td>\n",
       "      <td>NaN</td>\n",
       "      <td>NaN</td>\n",
       "      <td>0</td>\n",
       "      <td>0</td>\n",
       "      <td>0</td>\n",
       "      <td>0</td>\n",
       "      <td>0</td>\n",
       "      <td>0</td>\n",
       "      <td>0</td>\n",
       "      <td>0</td>\n",
       "    </tr>\n",
       "    <tr>\n",
       "      <th>1</th>\n",
       "      <td>2</td>\n",
       "      <td>Nombre Cliente 2</td>\n",
       "      <td>Esporádicos</td>\n",
       "      <td>Si</td>\n",
       "      <td>No</td>\n",
       "      <td>179900</td>\n",
       "      <td>1</td>\n",
       "      <td>0</td>\n",
       "      <td>0</td>\n",
       "      <td>11001</td>\n",
       "      <td>...</td>\n",
       "      <td>NaN</td>\n",
       "      <td>NaN</td>\n",
       "      <td>179900</td>\n",
       "      <td>0</td>\n",
       "      <td>0</td>\n",
       "      <td>0</td>\n",
       "      <td>0</td>\n",
       "      <td>0</td>\n",
       "      <td>0</td>\n",
       "      <td>0</td>\n",
       "    </tr>\n",
       "    <tr>\n",
       "      <th>2</th>\n",
       "      <td>3</td>\n",
       "      <td>Nombre Cliente 3</td>\n",
       "      <td>Aficionados</td>\n",
       "      <td>Si</td>\n",
       "      <td>No</td>\n",
       "      <td>189800</td>\n",
       "      <td>2</td>\n",
       "      <td>0</td>\n",
       "      <td>0</td>\n",
       "      <td>11101</td>\n",
       "      <td>...</td>\n",
       "      <td>NaN</td>\n",
       "      <td>NaN</td>\n",
       "      <td>451200</td>\n",
       "      <td>0</td>\n",
       "      <td>0</td>\n",
       "      <td>0</td>\n",
       "      <td>0</td>\n",
       "      <td>0</td>\n",
       "      <td>0</td>\n",
       "      <td>0</td>\n",
       "    </tr>\n",
       "    <tr>\n",
       "      <th>3</th>\n",
       "      <td>4</td>\n",
       "      <td>Nombre Cliente 4</td>\n",
       "      <td>Aficionados</td>\n",
       "      <td>Si</td>\n",
       "      <td>No</td>\n",
       "      <td>65900</td>\n",
       "      <td>1</td>\n",
       "      <td>0</td>\n",
       "      <td>0</td>\n",
       "      <td>11001</td>\n",
       "      <td>...</td>\n",
       "      <td>NaN</td>\n",
       "      <td>NaN</td>\n",
       "      <td>0</td>\n",
       "      <td>0</td>\n",
       "      <td>0</td>\n",
       "      <td>0</td>\n",
       "      <td>0</td>\n",
       "      <td>0</td>\n",
       "      <td>0</td>\n",
       "      <td>1859600</td>\n",
       "    </tr>\n",
       "    <tr>\n",
       "      <th>4</th>\n",
       "      <td>5</td>\n",
       "      <td>Nombre Cliente 5</td>\n",
       "      <td>Aficionados</td>\n",
       "      <td>Si</td>\n",
       "      <td>No</td>\n",
       "      <td>238800</td>\n",
       "      <td>2</td>\n",
       "      <td>0</td>\n",
       "      <td>0</td>\n",
       "      <td>11101</td>\n",
       "      <td>...</td>\n",
       "      <td>NaN</td>\n",
       "      <td>NaN</td>\n",
       "      <td>0</td>\n",
       "      <td>0</td>\n",
       "      <td>0</td>\n",
       "      <td>0</td>\n",
       "      <td>0</td>\n",
       "      <td>0</td>\n",
       "      <td>0</td>\n",
       "      <td>0</td>\n",
       "    </tr>\n",
       "  </tbody>\n",
       "</table>\n",
       "<p>5 rows × 40 columns</p>\n",
       "</div>"
      ],
      "text/plain": [
       "   Cedula   Nombre Completo     Segmento Compro 2019? Compro 2020?  \\\n",
       "0       1  Nombre Cliente 1  Aficionados           Si           No   \n",
       "1       2  Nombre Cliente 2  Esporádicos           Si           No   \n",
       "2       3  Nombre Cliente 3  Aficionados           Si           No   \n",
       "3       4  Nombre Cliente 4  Aficionados           Si           No   \n",
       "4       5  Nombre Cliente 5  Aficionados           Si           No   \n",
       "\n",
       "   Monto Comprado 2019?  Nro Transacciones 2019  Monto Comprado 2020  \\\n",
       "0                264800                       2                    0   \n",
       "1                179900                       1                    0   \n",
       "2                189800                       2                    0   \n",
       "3                 65900                       1                    0   \n",
       "4                238800                       2                    0   \n",
       "\n",
       "   Nro Transacciones 2020  Tipo de Contacto  ... TelefonoOficina  \\\n",
       "0                       0             11001  ...             NaN   \n",
       "1                       0             11001  ...             NaN   \n",
       "2                       0             11101  ...             NaN   \n",
       "3                       0             11001  ...             NaN   \n",
       "4                       0             11101  ...             NaN   \n",
       "\n",
       "  Telefono Casa  Monto - MARCA COTTON- B/quilla.  Monto - Brand Store Cucuta  \\\n",
       "0           NaN                                0                           0   \n",
       "1           NaN                           179900                           0   \n",
       "2           NaN                           451200                           0   \n",
       "3           NaN                                0                           0   \n",
       "4           NaN                                0                           0   \n",
       "\n",
       "  Monto - MARCA COTTON- Bucaramanga Monto - MARCA COTTON- Manizales  \\\n",
       "0                                 0                               0   \n",
       "1                                 0                               0   \n",
       "2                                 0                               0   \n",
       "3                                 0                               0   \n",
       "4                                 0                               0   \n",
       "\n",
       "   Monto - MARCA COTTON- Pereira Monto - MARCA COTTON- Cartagena  \\\n",
       "0                              0                               0   \n",
       "1                              0                               0   \n",
       "2                              0                               0   \n",
       "3                              0                               0   \n",
       "4                              0                               0   \n",
       "\n",
       "   Monto - MARCA COTTON- Pasto  Monto - MARCA COTTON- Cable Plaza  \n",
       "0                            0                                  0  \n",
       "1                            0                                  0  \n",
       "2                            0                                  0  \n",
       "3                            0                            1859600  \n",
       "4                            0                                  0  \n",
       "\n",
       "[5 rows x 40 columns]"
      ]
     },
     "execution_count": 17,
     "metadata": {},
     "output_type": "execute_result"
    }
   ],
   "source": [
    "data_pd.columns\n",
    "data_pd.dtypes\n",
    "data_pd.head()"
   ]
  },
  {
   "cell_type": "code",
   "execution_count": 29,
   "metadata": {},
   "outputs": [
    {
     "data": {
      "text/plain": [
       "Cedula                                                                 0\n",
       "Nombre Completo                                                        0\n",
       "Segmento                                                               0\n",
       "Compro 2019?                                                           0\n",
       "Compro 2020?                                                           0\n",
       "Monto Comprado 2019?                                                   0\n",
       "Nro Transacciones 2019                                                 0\n",
       "Monto Comprado 2020                                                    0\n",
       "Nro Transacciones 2020                                                 0\n",
       "Tipo de Contacto                                                       0\n",
       "Es Contactable                                                         0\n",
       "Ciudad de Residencia                                                   0\n",
       "Mail                                                                9976\n",
       "Direccion                                                           9976\n",
       "Genero                                                                 0\n",
       "Estado Civil                                                           0\n",
       "Fecha Nacimiento                                                       0\n",
       "Mes Nacimiento                                                         0\n",
       "Dia Nacimiento                                                         0\n",
       "Edad                                                                   0\n",
       "Monto Total de ultima compra                                           0\n",
       "Cantidad Articulos                                                     0\n",
       "Recencia (Tiempo transcurrido en semanas desde su ultima compra)       0\n",
       "Frecuencia (Cantidad items comprados)                                  0\n",
       "Direccion Valido?                                                      0\n",
       "Mail Valido?                                                           0\n",
       "Cel Valido?                                                            0\n",
       "Tel Ofc Valid?                                                         0\n",
       "Tel Casa Valido?                                                       0\n",
       "Telefono Movil                                                      9976\n",
       "TelefonoOficina                                                     9976\n",
       "Telefono Casa                                                       9976\n",
       "Monto - MARCA COTTON- B/quilla.                                        0\n",
       "Monto - Brand Store Cucuta                                             0\n",
       "Monto - MARCA COTTON- Bucaramanga                                      0\n",
       "Monto - MARCA COTTON- Manizales                                        0\n",
       "Monto - MARCA COTTON- Pereira                                          0\n",
       "Monto - MARCA COTTON- Cartagena                                        0\n",
       "Monto - MARCA COTTON- Pasto                                            0\n",
       "Monto - MARCA COTTON- Cable Plaza                                      0\n",
       "dtype: int64"
      ]
     },
     "execution_count": 29,
     "metadata": {},
     "output_type": "execute_result"
    }
   ],
   "source": [
    "# data_pd.info()\n",
    "# data_pd.isnull().sum()\n",
    "data_pd.isna().sum()"
   ]
  },
  {
   "cell_type": "markdown",
   "id": "936c9869",
   "metadata": {},
   "source": [
    "### Elimina las variables con el total de sus registros nulos"
   ]
  },
  {
   "cell_type": "code",
   "execution_count": 30,
   "id": "9d44679c",
   "metadata": {},
   "outputs": [],
   "source": [
    "data_pd.drop([\"Mail\", \"Direccion\", \"Telefono Movil\", \"TelefonoOficina\", \"Telefono Casa\"], axis=1, inplace=True)\n",
    "# data.replace({0, 1}) -> replace 0 to 1"
   ]
  },
  {
   "cell_type": "markdown",
   "id": "35c5c97b",
   "metadata": {},
   "source": [
    "### Realizar una descripción de las variables numéricas"
   ]
  },
  {
   "cell_type": "code",
   "execution_count": 53,
   "id": "60b10009",
   "metadata": {},
   "outputs": [
    {
     "data": {
      "text/plain": [
       "count    9976.000000\n",
       "mean       40.361868\n",
       "std        26.029822\n",
       "min        10.000000\n",
       "25%        25.000000\n",
       "50%        31.000000\n",
       "75%        44.000000\n",
       "max       111.000000\n",
       "Name: Edad, dtype: float64"
      ]
     },
     "execution_count": 53,
     "metadata": {},
     "output_type": "execute_result"
    }
   ],
   "source": [
    "# data_pd[\"Monto - MARCA COTTON- Pasto\"].describe().T\n",
    "# mean_pasto = data_pd[\"Monto - MARCA COTTON- Pasto\"].sum()\n",
    "# mean_manizales = data_pd[\"Monto - MARCA COTTON- Manizales\"].sum()\n",
    "# mean_cartagena = data_pd[\"Monto - MARCA COTTON- Cartagena\"].sum()\n",
    "# max_value = np.array([mean_pasto.max(), mean_cartagena.max(), mean_manizales.max()]).max()\n",
    "# fig, ax = plt.subplot()\n",
    "# ax.bar(np.array([mean_pasto, mean_cartagena, mean_manizales]), np.linspace(0, max_value, num=100))\n",
    "data_pd[\"Edad\"].describe().T"
   ]
  },
  {
   "cell_type": "markdown",
   "id": "000b3ce4",
   "metadata": {},
   "source": [
    "### Calcular los cuartiles de la variable 'Edad'"
   ]
  },
  {
   "cell_type": "markdown",
   "id": "0e8111c2",
   "metadata": {},
   "source": [
    "Promedio > mediana -> cola a la derecha\n",
    "Promedio < mediana -> cola a la izq"
   ]
  },
  {
   "cell_type": "code",
   "execution_count": 61,
   "id": "acd6ff48",
   "metadata": {},
   "outputs": [
    {
     "data": {
      "text/plain": [
       "0.00     10.0\n",
       "0.25     25.0\n",
       "0.50     31.0\n",
       "0.75     44.0\n",
       "0.80     47.0\n",
       "1.00    111.0\n",
       "Name: Edad, dtype: float64"
      ]
     },
     "execution_count": 61,
     "metadata": {},
     "output_type": "execute_result"
    }
   ],
   "source": [
    "data_pd[\"Edad\"].quantile([0, 0.25, 0.5, 0.75, 0.8, 1])\n",
    "# ss.skew(data_pd[\"Edad\"])"
   ]
  },
  {
   "cell_type": "markdown",
   "id": "53a0a7c5",
   "metadata": {},
   "source": [
    "### Graficar el histograma de la variable 'Edad'"
   ]
  },
  {
   "cell_type": "code",
   "execution_count": 60,
   "id": "6a43d655",
   "metadata": {},
   "outputs": [
    {
     "data": {
      "image/png": "[encoded data removed]",
      "text/plain": [
       "<Figure size 432x288 with 1 Axes>"
      ]
     },
     "metadata": {
      "needs_background": "light"
     },
     "output_type": "display_data"
    }
   ],
   "source": [
    "boxplot = data_pd.boxplot(column=[\"Edad\"])\n",
    "# La caja es el 50% de los datos o dos cuartiles"
   ]
  }
 ],
 "metadata": {
  "kernelspec": {
   "display_name": "Python 3",
   "language": "python",
   "name": "python3"
  },
  "language_info": {
   "codemirror_mode": {
    "name": "ipython",
    "version": 3
   },
   "file_extension": ".py",
   "mimetype": "text/x-python",
   "name": "python",
   "nbconvert_exporter": "python",
   "pygments_lexer": "ipython3",
   "version": "3.7.6"
  }
 },
 "nbformat": 4,
 "nbformat_minor": 5
}
