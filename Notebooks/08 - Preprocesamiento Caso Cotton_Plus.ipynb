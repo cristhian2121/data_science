{
 "cells": [
  {
   "cell_type": "markdown",
   "id": "3860f555",
   "metadata": {},
   "source": [
    "# Preprocesamiento de datos caso Cotton Plus"
   ]
  },
  {
   "cell_type": "markdown",
   "id": "ecfcc967",
   "metadata": {},
   "source": [
    "Con el propósito de aterrizar los conceptos y tareas llevadas a cabo en la etapa de preprocesamiento de datos en la construcción de un modelo mediante técnicas de Machine Learning, se propone la manipulación del dataset \"Data DS Cotton Plus_new.xlsx\" con los pasos típicos en este importante proceso de preparación. "
   ]
  },
  {
   "cell_type": "markdown",
   "id": "92167d92",
   "metadata": {},
   "source": [
    "## Breve descripción de la información del dataset"
   ]
  },
  {
   "cell_type": "code",
   "execution_count": null,
   "id": "0749f3e2",
   "metadata": {},
   "outputs": [],
   "source": []
  },
  {
   "cell_type": "markdown",
   "id": "e3a6f76a",
   "metadata": {},
   "source": [
    "## Librerías requeridas"
   ]
  },
  {
   "cell_type": "code",
   "execution_count": 90,
   "id": "31d7f6eb",
   "metadata": {},
   "outputs": [],
   "source": [
    "import pandas as pd\n",
    "import numpy as np\n",
    "import matplotlib.pyplot as plt\n",
    "import seaborn as sns"
   ]
  },
  {
   "cell_type": "markdown",
   "id": "bd3b7808",
   "metadata": {},
   "source": [
    "## Lectura del dataset \"Data DS Cotton Plus_new\""
   ]
  },
  {
   "cell_type": "code",
   "execution_count": 91,
   "id": "7b5d47a6",
   "metadata": {},
   "outputs": [
    {
     "data": {
      "text/html": [
       "<div>\n",
       "<style scoped>\n",
       "    .dataframe tbody tr th:only-of-type {\n",
       "        vertical-align: middle;\n",
       "    }\n",
       "\n",
       "    .dataframe tbody tr th {\n",
       "        vertical-align: top;\n",
       "    }\n",
       "\n",
       "    .dataframe thead th {\n",
       "        text-align: right;\n",
       "    }\n",
       "</style>\n",
       "<table border=\"1\" class=\"dataframe\">\n",
       "  <thead>\n",
       "    <tr style=\"text-align: right;\">\n",
       "      <th></th>\n",
       "      <th>Cedula</th>\n",
       "      <th>Nombre Completo</th>\n",
       "      <th>Segmento</th>\n",
       "      <th>Compro 2019?</th>\n",
       "      <th>Compro 2020?</th>\n",
       "      <th>Monto Comprado 2019?</th>\n",
       "      <th>Nro Transacciones 2019</th>\n",
       "      <th>Monto Comprado 2020</th>\n",
       "      <th>Nro Transacciones 2020</th>\n",
       "      <th>Tipo de Contacto</th>\n",
       "      <th>...</th>\n",
       "      <th>TelefonoOficina</th>\n",
       "      <th>Telefono Casa</th>\n",
       "      <th>Monto - MARCA COTTON- B/quilla.</th>\n",
       "      <th>Monto - Brand Store Cucuta</th>\n",
       "      <th>Monto - MARCA COTTON- Bucaramanga</th>\n",
       "      <th>Monto - MARCA COTTON- Manizales</th>\n",
       "      <th>Monto - MARCA COTTON- Pereira</th>\n",
       "      <th>Monto - MARCA COTTON- Cartagena</th>\n",
       "      <th>Monto - MARCA COTTON- Pasto</th>\n",
       "      <th>Monto - MARCA COTTON- Cable Plaza</th>\n",
       "    </tr>\n",
       "  </thead>\n",
       "  <tbody>\n",
       "    <tr>\n",
       "      <th>0</th>\n",
       "      <td>1</td>\n",
       "      <td>Nombre Cliente 1</td>\n",
       "      <td>Aficionados</td>\n",
       "      <td>Si</td>\n",
       "      <td>No</td>\n",
       "      <td>264800</td>\n",
       "      <td>2</td>\n",
       "      <td>0</td>\n",
       "      <td>0</td>\n",
       "      <td>11001</td>\n",
       "      <td>...</td>\n",
       "      <td>NaN</td>\n",
       "      <td>NaN</td>\n",
       "      <td>0</td>\n",
       "      <td>0</td>\n",
       "      <td>0</td>\n",
       "      <td>0</td>\n",
       "      <td>0</td>\n",
       "      <td>0</td>\n",
       "      <td>0</td>\n",
       "      <td>0</td>\n",
       "    </tr>\n",
       "    <tr>\n",
       "      <th>1</th>\n",
       "      <td>2</td>\n",
       "      <td>Nombre Cliente 2</td>\n",
       "      <td>Esporádicos</td>\n",
       "      <td>Si</td>\n",
       "      <td>No</td>\n",
       "      <td>179900</td>\n",
       "      <td>1</td>\n",
       "      <td>0</td>\n",
       "      <td>0</td>\n",
       "      <td>11001</td>\n",
       "      <td>...</td>\n",
       "      <td>NaN</td>\n",
       "      <td>NaN</td>\n",
       "      <td>179900</td>\n",
       "      <td>0</td>\n",
       "      <td>0</td>\n",
       "      <td>0</td>\n",
       "      <td>0</td>\n",
       "      <td>0</td>\n",
       "      <td>0</td>\n",
       "      <td>0</td>\n",
       "    </tr>\n",
       "    <tr>\n",
       "      <th>2</th>\n",
       "      <td>3</td>\n",
       "      <td>Nombre Cliente 3</td>\n",
       "      <td>Aficionados</td>\n",
       "      <td>Si</td>\n",
       "      <td>No</td>\n",
       "      <td>189800</td>\n",
       "      <td>2</td>\n",
       "      <td>0</td>\n",
       "      <td>0</td>\n",
       "      <td>11101</td>\n",
       "      <td>...</td>\n",
       "      <td>NaN</td>\n",
       "      <td>NaN</td>\n",
       "      <td>451200</td>\n",
       "      <td>0</td>\n",
       "      <td>0</td>\n",
       "      <td>0</td>\n",
       "      <td>0</td>\n",
       "      <td>0</td>\n",
       "      <td>0</td>\n",
       "      <td>0</td>\n",
       "    </tr>\n",
       "    <tr>\n",
       "      <th>3</th>\n",
       "      <td>4</td>\n",
       "      <td>Nombre Cliente 4</td>\n",
       "      <td>Aficionados</td>\n",
       "      <td>Si</td>\n",
       "      <td>No</td>\n",
       "      <td>65900</td>\n",
       "      <td>1</td>\n",
       "      <td>0</td>\n",
       "      <td>0</td>\n",
       "      <td>11001</td>\n",
       "      <td>...</td>\n",
       "      <td>NaN</td>\n",
       "      <td>NaN</td>\n",
       "      <td>0</td>\n",
       "      <td>0</td>\n",
       "      <td>0</td>\n",
       "      <td>0</td>\n",
       "      <td>0</td>\n",
       "      <td>0</td>\n",
       "      <td>0</td>\n",
       "      <td>1859600</td>\n",
       "    </tr>\n",
       "    <tr>\n",
       "      <th>4</th>\n",
       "      <td>5</td>\n",
       "      <td>Nombre Cliente 5</td>\n",
       "      <td>Aficionados</td>\n",
       "      <td>Si</td>\n",
       "      <td>No</td>\n",
       "      <td>238800</td>\n",
       "      <td>2</td>\n",
       "      <td>0</td>\n",
       "      <td>0</td>\n",
       "      <td>11101</td>\n",
       "      <td>...</td>\n",
       "      <td>NaN</td>\n",
       "      <td>NaN</td>\n",
       "      <td>0</td>\n",
       "      <td>0</td>\n",
       "      <td>0</td>\n",
       "      <td>0</td>\n",
       "      <td>0</td>\n",
       "      <td>0</td>\n",
       "      <td>0</td>\n",
       "      <td>0</td>\n",
       "    </tr>\n",
       "  </tbody>\n",
       "</table>\n",
       "<p>5 rows × 40 columns</p>\n",
       "</div>"
      ],
      "text/plain": [
       "   Cedula   Nombre Completo     Segmento Compro 2019? Compro 2020?  \\\n",
       "0       1  Nombre Cliente 1  Aficionados           Si           No   \n",
       "1       2  Nombre Cliente 2  Esporádicos           Si           No   \n",
       "2       3  Nombre Cliente 3  Aficionados           Si           No   \n",
       "3       4  Nombre Cliente 4  Aficionados           Si           No   \n",
       "4       5  Nombre Cliente 5  Aficionados           Si           No   \n",
       "\n",
       "   Monto Comprado 2019?  Nro Transacciones 2019  Monto Comprado 2020  \\\n",
       "0                264800                       2                    0   \n",
       "1                179900                       1                    0   \n",
       "2                189800                       2                    0   \n",
       "3                 65900                       1                    0   \n",
       "4                238800                       2                    0   \n",
       "\n",
       "   Nro Transacciones 2020  Tipo de Contacto  ... TelefonoOficina  \\\n",
       "0                       0             11001  ...             NaN   \n",
       "1                       0             11001  ...             NaN   \n",
       "2                       0             11101  ...             NaN   \n",
       "3                       0             11001  ...             NaN   \n",
       "4                       0             11101  ...             NaN   \n",
       "\n",
       "  Telefono Casa  Monto - MARCA COTTON- B/quilla.  Monto - Brand Store Cucuta  \\\n",
       "0           NaN                                0                           0   \n",
       "1           NaN                           179900                           0   \n",
       "2           NaN                           451200                           0   \n",
       "3           NaN                                0                           0   \n",
       "4           NaN                                0                           0   \n",
       "\n",
       "  Monto - MARCA COTTON- Bucaramanga Monto - MARCA COTTON- Manizales  \\\n",
       "0                                 0                               0   \n",
       "1                                 0                               0   \n",
       "2                                 0                               0   \n",
       "3                                 0                               0   \n",
       "4                                 0                               0   \n",
       "\n",
       "   Monto - MARCA COTTON- Pereira Monto - MARCA COTTON- Cartagena  \\\n",
       "0                              0                               0   \n",
       "1                              0                               0   \n",
       "2                              0                               0   \n",
       "3                              0                               0   \n",
       "4                              0                               0   \n",
       "\n",
       "   Monto - MARCA COTTON- Pasto  Monto - MARCA COTTON- Cable Plaza  \n",
       "0                            0                                  0  \n",
       "1                            0                                  0  \n",
       "2                            0                                  0  \n",
       "3                            0                            1859600  \n",
       "4                            0                                  0  \n",
       "\n",
       "[5 rows x 40 columns]"
      ]
     },
     "execution_count": 91,
     "metadata": {},
     "output_type": "execute_result"
    }
   ],
   "source": [
    "data_raw = pd.read_excel(\"Data DS Cotton Plus_new.xlsx\")\n",
    "data_raw.head()"
   ]
  },
  {
   "cell_type": "markdown",
   "id": "0b97bb73",
   "metadata": {},
   "source": [
    "## Análisis descriptivo"
   ]
  },
  {
   "cell_type": "markdown",
   "id": "bade6cc5",
   "metadata": {},
   "source": [
    "### Identificación de variables"
   ]
  },
  {
   "cell_type": "code",
   "execution_count": 92,
   "id": "ae1655c9",
   "metadata": {},
   "outputs": [
    {
     "name": "stdout",
     "output_type": "stream",
     "text": [
      "<class 'pandas.core.frame.DataFrame'>\n",
      "RangeIndex: 9976 entries, 0 to 9975\n",
      "Data columns (total 40 columns):\n",
      " #   Column                                                            Non-Null Count  Dtype  \n",
      "---  ------                                                            --------------  -----  \n",
      " 0   Cedula                                                            9976 non-null   int64  \n",
      " 1   Nombre Completo                                                   9976 non-null   object \n",
      " 2   Segmento                                                          9976 non-null   object \n",
      " 3   Compro 2019?                                                      9976 non-null   object \n",
      " 4   Compro 2020?                                                      9976 non-null   object \n",
      " 5   Monto Comprado 2019?                                              9976 non-null   int64  \n",
      " 6   Nro Transacciones 2019                                            9976 non-null   int64  \n",
      " 7   Monto Comprado 2020                                               9976 non-null   int64  \n",
      " 8   Nro Transacciones 2020                                            9976 non-null   int64  \n",
      " 9   Tipo de Contacto                                                  9976 non-null   int64  \n",
      " 10  Es Contactable                                                    9976 non-null   object \n",
      " 11  Ciudad de Residencia                                              9976 non-null   object \n",
      " 12  Mail                                                              0 non-null      float64\n",
      " 13  Direccion                                                         0 non-null      float64\n",
      " 14  Genero                                                            9976 non-null   object \n",
      " 15  Estado Civil                                                      563 non-null    object \n",
      " 16  Fecha Nacimiento                                                  9976 non-null   int64  \n",
      " 17  Mes Nacimiento                                                    9976 non-null   object \n",
      " 18  Dia Nacimiento                                                    9976 non-null   int64  \n",
      " 19  Edad                                                              9976 non-null   int64  \n",
      " 20  Monto Total de ultima compra                                      9976 non-null   int64  \n",
      " 21  Cantidad Articulos                                                9976 non-null   int64  \n",
      " 22  Recencia (Tiempo transcurrido en semanas desde su ultima compra)  9976 non-null   int64  \n",
      " 23  Frecuencia (Cantidad items comprados)                             9976 non-null   int64  \n",
      " 24  Direccion Valido?                                                 9976 non-null   object \n",
      " 25  Mail Valido?                                                      9976 non-null   object \n",
      " 26  Cel Valido?                                                       9976 non-null   object \n",
      " 27  Tel Ofc Valid?                                                    9976 non-null   object \n",
      " 28  Tel Casa Valido?                                                  9976 non-null   object \n",
      " 29  Telefono Movil                                                    0 non-null      float64\n",
      " 30  TelefonoOficina                                                   0 non-null      float64\n",
      " 31  Telefono Casa                                                     0 non-null      float64\n",
      " 32  Monto - MARCA COTTON- B/quilla.                                   9976 non-null   int64  \n",
      " 33  Monto - Brand Store Cucuta                                        9976 non-null   int64  \n",
      " 34  Monto - MARCA COTTON- Bucaramanga                                 9976 non-null   int64  \n",
      " 35  Monto - MARCA COTTON- Manizales                                   9976 non-null   int64  \n",
      " 36  Monto - MARCA COTTON- Pereira                                     9976 non-null   int64  \n",
      " 37  Monto - MARCA COTTON- Cartagena                                   9976 non-null   int64  \n",
      " 38  Monto - MARCA COTTON- Pasto                                       9976 non-null   int64  \n",
      " 39  Monto - MARCA COTTON- Cable Plaza                                 9976 non-null   int64  \n",
      "dtypes: float64(5), int64(21), object(14)\n",
      "memory usage: 3.0+ MB\n"
     ]
    }
   ],
   "source": [
    "data_raw.info()\n",
    "data_types = data_raw.dtypes"
   ]
  },
  {
   "cell_type": "code",
   "execution_count": 93,
   "metadata": {},
   "outputs": [
    {
     "data": {
      "text/plain": [
       "0"
      ]
     },
     "execution_count": 93,
     "metadata": {},
     "output_type": "execute_result"
    }
   ],
   "source": [
    "# do Exist duplicated?\n",
    "data_raw.duplicated().sum()\n",
    "# data.drop_duplicates()"
   ]
  },
  {
   "cell_type": "markdown",
   "id": "cfe0ba71",
   "metadata": {},
   "source": [
    "#### Variables Categóricas"
   ]
  },
  {
   "cell_type": "code",
   "execution_count": 113,
   "id": "12c9d64d",
   "metadata": {},
   "outputs": [
    {
     "data": {
      "image/png": "[encoded data removed]",
      "text/plain": [
       "<Figure size 720x1440 with 3 Axes>"
      ]
     },
     "metadata": {
      "needs_background": "light"
     },
     "output_type": "display_data"
    }
   ],
   "source": [
    "# Show hist about category variables\n",
    "data_types_categoric = data_raw.select_dtypes(include=[\"object\"]).columns\n",
    "\n",
    "f_dims = (10, 20)\n",
    "fig, ax = plt.subplots(3, 1, figsize=f_dims)\n",
    "\n",
    "ax[0].hist(data_raw[\"Segmento\"])\n",
    "ax[0].set_ylabel(\"Segmento\")\n",
    "\n",
    "ax[1].hist(data_raw[\"Compro 2019?\"])\n",
    "ax[1].set_ylabel('Compro 2019?')\n",
    "\n",
    "ax[2].hist(data_raw[\"Compro 2020?\"])\n",
    "ax[2].set_ylabel('Compro 2020?')\n",
    "plt.show()\n",
    "\n"
   ]
  },
  {
   "cell_type": "code",
   "execution_count": 120,
   "id": "fa16bdc2",
   "metadata": {},
   "outputs": [],
   "source": [
    "data_raw[\"Ciudad de Residencia\"].value_counts()[data_raw[\"Ciudad de Residencia\"].value_counts() > 5];"
   ]
  },
  {
   "cell_type": "code",
   "execution_count": 121,
   "id": "955c5686",
   "metadata": {},
   "outputs": [
    {
     "name": "stdout",
     "output_type": "stream",
     "text": [
      "Series([], dtype: int64)\n"
     ]
    },
    {
     "data": {
      "text/plain": [
       "' Variables null\\nMail               9976\\nDireccion          9976\\nTelefono Movil     9976\\nTelefonoOficina    9976\\nTelefono Casa      9976\\nEstado Civil       9413  -> few relevant data\\n'"
      ]
     },
     "execution_count": 121,
     "metadata": {},
     "output_type": "execute_result"
    }
   ],
   "source": [
    "print(data_raw.isnull().sum()[data_raw.isnull().sum() > 0])\n",
    "data_raw.shape\n",
    "''' Variables null\n",
    "Mail               9976\n",
    "Direccion          9976\n",
    "Telefono Movil     9976\n",
    "TelefonoOficina    9976\n",
    "Telefono Casa      9976\n",
    "Estado Civil       9413  -> few relevant data\n",
    "'''"
   ]
  },
  {
   "cell_type": "markdown",
   "id": "e9544a6a",
   "metadata": {},
   "source": [
    "#### Variables numéricas"
   ]
  },
  {
   "cell_type": "code",
   "execution_count": 122,
   "id": "ebb93d44",
   "metadata": {},
   "outputs": [
    {
     "data": {
      "text/plain": [
       "count    9976.000000\n",
       "mean       40.361868\n",
       "std        26.029822\n",
       "min        10.000000\n",
       "25%        25.000000\n",
       "50%        31.000000\n",
       "75%        44.000000\n",
       "max       111.000000\n",
       "Name: Edad, dtype: float64"
      ]
     },
     "execution_count": 122,
     "metadata": {},
     "output_type": "execute_result"
    }
   ],
   "source": [
    "# data_raw.__get__numeric_data() -> TODO: validate this\n",
    "# columns_str_dummies = [i for i in data_new.columns if not i in data_new._get_numeric_data()]\n",
    "data_types_numeric = data_raw.select_dtypes(include=[\"int\", \"float\"]).columns\n",
    "data_raw[\"Edad\"].describe()"
   ]
  },
  {
   "cell_type": "code",
   "execution_count": 124,
   "id": "c356b125",
   "metadata": {},
   "outputs": [
    {
     "name": "stdout",
     "output_type": "stream",
     "text": [
      "Index(['Nombre Completo', 'Segmento', 'Compro 2019?', 'Compro 2020?',\n",
      "       'Es Contactable', 'Ciudad de Residencia', 'Genero', 'Mes Nacimiento',\n",
      "       'Direccion Valido?', 'Mail Valido?', 'Cel Valido?', 'Tel Ofc Valid?',\n",
      "       'Tel Casa Valido?'],\n",
      "      dtype='object')\n",
      "Index(['Cedula', 'Monto Comprado 2019?', 'Nro Transacciones 2019',\n",
      "       'Monto Comprado 2020', 'Nro Transacciones 2020', 'Tipo de Contacto',\n",
      "       'Fecha Nacimiento', 'Dia Nacimiento', 'Edad',\n",
      "       'Monto Total de ultima compra', 'Cantidad Articulos',\n",
      "       'Recencia (Tiempo transcurrido en semanas desde su ultima compra)',\n",
      "       'Frecuencia (Cantidad items comprados)',\n",
      "       'Monto - MARCA COTTON- B/quilla', 'Monto - MARCA COTTON- Bucaramanga',\n",
      "       'Monto - MARCA COTTON- Manizales', 'Monto - MARCA COTTON- Pereira',\n",
      "       'Monto - MARCA COTTON- Cartagena', 'Monto - MARCA COTTON- Pasto',\n",
      "       'Monto - MARCA COTTON- Cable Plaza'],\n",
      "      dtype='object')\n"
     ]
    }
   ],
   "source": [
    "print(data_types_categoric);\n",
    "print(data_types_numeric);\n",
    "## This is good\n",
    "data_raw[\"Segmento\"].unique();"
   ]
  },
  {
   "cell_type": "markdown",
   "id": "b1f2f840",
   "metadata": {},
   "source": [
    "### Exploración inicial del comportamiento de las variables"
   ]
  },
  {
   "cell_type": "markdown",
   "id": "2a84d94f",
   "metadata": {},
   "source": [
    "Realizar una exploración y visualización inicial del comportamiento y distribución de los datos sin manipular. \n",
    "\n",
    "Calcular medidas de **tendencia central** y de **posición**. "
   ]
  },
  {
   "cell_type": "code",
   "execution_count": 156,
   "id": "5d16304a",
   "metadata": {},
   "outputs": [
    {
     "data": {
      "image/png": "[encoded data removed]",
      "text/plain": [
       "<Figure size 864x1584 with 3 Axes>"
      ]
     },
     "metadata": {
      "needs_background": "light"
     },
     "output_type": "display_data"
    }
   ],
   "source": [
    "plt.rcParams['figure.figsize'] = (12,22)\n",
    "fig, ax = plt.subplots(3,1)\n",
    "sns.boxplot(x=data_raw[\"Edad\"], ax=ax[0])\n",
    "sns.boxplot(x=data_raw[\"Monto Total de ultima compra\"], ax=ax[1])\n",
    "sns.boxplot(x=data_raw[\"Frecuencia (Cantidad items comprados)\"], ax=ax[2]);"
   ]
  },
  {
   "cell_type": "markdown",
   "id": "9fbe553b",
   "metadata": {},
   "source": [
    "## Extracción de características"
   ]
  },
  {
   "cell_type": "markdown",
   "id": "c0796340",
   "metadata": {},
   "source": [
    "### Depuración de variables"
   ]
  },
  {
   "cell_type": "code",
   "execution_count": 126,
   "id": "e553eac7",
   "metadata": {},
   "outputs": [
    {
     "name": "stdout",
     "output_type": "stream",
     "text": [
      "Series([], dtype: int64)\n"
     ]
    },
    {
     "ename": "KeyError",
     "evalue": "\"['Mail' 'Direccion' 'Telefono Movil' 'Estado Civil' 'TelefonoOficina'\\n 'Telefono Casa'] not found in axis\"",
     "output_type": "error",
     "traceback": [
      "\u001b[0;31m---------------------------------------------------------------------------\u001b[0m",
      "\u001b[0;31mKeyError\u001b[0m                                  Traceback (most recent call last)",
      "\u001b[0;32m<ipython-input-126-810ff2338377>\u001b[0m in \u001b[0;36m<module>\u001b[0;34m\u001b[0m\n\u001b[1;32m      1\u001b[0m \u001b[0mprint\u001b[0m\u001b[0;34m(\u001b[0m\u001b[0mdata_raw\u001b[0m\u001b[0;34m.\u001b[0m\u001b[0misnull\u001b[0m\u001b[0;34m(\u001b[0m\u001b[0;34m)\u001b[0m\u001b[0;34m.\u001b[0m\u001b[0msum\u001b[0m\u001b[0;34m(\u001b[0m\u001b[0;34m)\u001b[0m\u001b[0;34m[\u001b[0m\u001b[0mdata_raw\u001b[0m\u001b[0;34m.\u001b[0m\u001b[0misnull\u001b[0m\u001b[0;34m(\u001b[0m\u001b[0;34m)\u001b[0m\u001b[0;34m.\u001b[0m\u001b[0msum\u001b[0m\u001b[0;34m(\u001b[0m\u001b[0;34m)\u001b[0m \u001b[0;34m>\u001b[0m \u001b[0;36m0\u001b[0m\u001b[0;34m]\u001b[0m\u001b[0;34m)\u001b[0m\u001b[0;34m\u001b[0m\u001b[0;34m\u001b[0m\u001b[0m\n\u001b[1;32m      2\u001b[0m \u001b[0mnull_columns\u001b[0m \u001b[0;34m=\u001b[0m \u001b[0;34m[\u001b[0m\u001b[0;34m\"Mail\"\u001b[0m\u001b[0;34m,\u001b[0m \u001b[0;34m\"Direccion\"\u001b[0m\u001b[0;34m,\u001b[0m \u001b[0;34m\"Telefono Movil\"\u001b[0m\u001b[0;34m,\u001b[0m \u001b[0;34m\"Estado Civil\"\u001b[0m\u001b[0;34m,\u001b[0m \u001b[0;34m\"TelefonoOficina\"\u001b[0m\u001b[0;34m,\u001b[0m \u001b[0;34m\"Telefono Casa\"\u001b[0m\u001b[0;34m]\u001b[0m\u001b[0;34m\u001b[0m\u001b[0;34m\u001b[0m\u001b[0m\n\u001b[0;32m----> 3\u001b[0;31m \u001b[0mdata_raw\u001b[0m \u001b[0;34m=\u001b[0m \u001b[0mdata_raw\u001b[0m\u001b[0;34m.\u001b[0m\u001b[0mdrop\u001b[0m\u001b[0;34m(\u001b[0m\u001b[0mcolumns\u001b[0m\u001b[0;34m=\u001b[0m\u001b[0mnull_columns\u001b[0m\u001b[0;34m,\u001b[0m \u001b[0maxis\u001b[0m\u001b[0;34m=\u001b[0m\u001b[0;36m1\u001b[0m\u001b[0;34m)\u001b[0m\u001b[0;34m\u001b[0m\u001b[0;34m\u001b[0m\u001b[0m\n\u001b[0m",
      "\u001b[0;32m~/anaconda3/lib/python3.7/site-packages/pandas/core/frame.py\u001b[0m in \u001b[0;36mdrop\u001b[0;34m(self, labels, axis, index, columns, level, inplace, errors)\u001b[0m\n\u001b[1;32m   3995\u001b[0m             \u001b[0mlevel\u001b[0m\u001b[0;34m=\u001b[0m\u001b[0mlevel\u001b[0m\u001b[0;34m,\u001b[0m\u001b[0;34m\u001b[0m\u001b[0;34m\u001b[0m\u001b[0m\n\u001b[1;32m   3996\u001b[0m             \u001b[0minplace\u001b[0m\u001b[0;34m=\u001b[0m\u001b[0minplace\u001b[0m\u001b[0;34m,\u001b[0m\u001b[0;34m\u001b[0m\u001b[0;34m\u001b[0m\u001b[0m\n\u001b[0;32m-> 3997\u001b[0;31m             \u001b[0merrors\u001b[0m\u001b[0;34m=\u001b[0m\u001b[0merrors\u001b[0m\u001b[0;34m,\u001b[0m\u001b[0;34m\u001b[0m\u001b[0;34m\u001b[0m\u001b[0m\n\u001b[0m\u001b[1;32m   3998\u001b[0m         )\n\u001b[1;32m   3999\u001b[0m \u001b[0;34m\u001b[0m\u001b[0m\n",
      "\u001b[0;32m~/anaconda3/lib/python3.7/site-packages/pandas/core/generic.py\u001b[0m in \u001b[0;36mdrop\u001b[0;34m(self, labels, axis, index, columns, level, inplace, errors)\u001b[0m\n\u001b[1;32m   3934\u001b[0m         \u001b[0;32mfor\u001b[0m \u001b[0maxis\u001b[0m\u001b[0;34m,\u001b[0m \u001b[0mlabels\u001b[0m \u001b[0;32min\u001b[0m \u001b[0maxes\u001b[0m\u001b[0;34m.\u001b[0m\u001b[0mitems\u001b[0m\u001b[0;34m(\u001b[0m\u001b[0;34m)\u001b[0m\u001b[0;34m:\u001b[0m\u001b[0;34m\u001b[0m\u001b[0;34m\u001b[0m\u001b[0m\n\u001b[1;32m   3935\u001b[0m             \u001b[0;32mif\u001b[0m \u001b[0mlabels\u001b[0m \u001b[0;32mis\u001b[0m \u001b[0;32mnot\u001b[0m \u001b[0;32mNone\u001b[0m\u001b[0;34m:\u001b[0m\u001b[0;34m\u001b[0m\u001b[0;34m\u001b[0m\u001b[0m\n\u001b[0;32m-> 3936\u001b[0;31m                 \u001b[0mobj\u001b[0m \u001b[0;34m=\u001b[0m \u001b[0mobj\u001b[0m\u001b[0;34m.\u001b[0m\u001b[0m_drop_axis\u001b[0m\u001b[0;34m(\u001b[0m\u001b[0mlabels\u001b[0m\u001b[0;34m,\u001b[0m \u001b[0maxis\u001b[0m\u001b[0;34m,\u001b[0m \u001b[0mlevel\u001b[0m\u001b[0;34m=\u001b[0m\u001b[0mlevel\u001b[0m\u001b[0;34m,\u001b[0m \u001b[0merrors\u001b[0m\u001b[0;34m=\u001b[0m\u001b[0merrors\u001b[0m\u001b[0;34m)\u001b[0m\u001b[0;34m\u001b[0m\u001b[0;34m\u001b[0m\u001b[0m\n\u001b[0m\u001b[1;32m   3937\u001b[0m \u001b[0;34m\u001b[0m\u001b[0m\n\u001b[1;32m   3938\u001b[0m         \u001b[0;32mif\u001b[0m \u001b[0minplace\u001b[0m\u001b[0;34m:\u001b[0m\u001b[0;34m\u001b[0m\u001b[0;34m\u001b[0m\u001b[0m\n",
      "\u001b[0;32m~/anaconda3/lib/python3.7/site-packages/pandas/core/generic.py\u001b[0m in \u001b[0;36m_drop_axis\u001b[0;34m(self, labels, axis, level, errors)\u001b[0m\n\u001b[1;32m   3968\u001b[0m                 \u001b[0mnew_axis\u001b[0m \u001b[0;34m=\u001b[0m \u001b[0maxis\u001b[0m\u001b[0;34m.\u001b[0m\u001b[0mdrop\u001b[0m\u001b[0;34m(\u001b[0m\u001b[0mlabels\u001b[0m\u001b[0;34m,\u001b[0m \u001b[0mlevel\u001b[0m\u001b[0;34m=\u001b[0m\u001b[0mlevel\u001b[0m\u001b[0;34m,\u001b[0m \u001b[0merrors\u001b[0m\u001b[0;34m=\u001b[0m\u001b[0merrors\u001b[0m\u001b[0;34m)\u001b[0m\u001b[0;34m\u001b[0m\u001b[0;34m\u001b[0m\u001b[0m\n\u001b[1;32m   3969\u001b[0m             \u001b[0;32melse\u001b[0m\u001b[0;34m:\u001b[0m\u001b[0;34m\u001b[0m\u001b[0;34m\u001b[0m\u001b[0m\n\u001b[0;32m-> 3970\u001b[0;31m                 \u001b[0mnew_axis\u001b[0m \u001b[0;34m=\u001b[0m \u001b[0maxis\u001b[0m\u001b[0;34m.\u001b[0m\u001b[0mdrop\u001b[0m\u001b[0;34m(\u001b[0m\u001b[0mlabels\u001b[0m\u001b[0;34m,\u001b[0m \u001b[0merrors\u001b[0m\u001b[0;34m=\u001b[0m\u001b[0merrors\u001b[0m\u001b[0;34m)\u001b[0m\u001b[0;34m\u001b[0m\u001b[0;34m\u001b[0m\u001b[0m\n\u001b[0m\u001b[1;32m   3971\u001b[0m             \u001b[0mresult\u001b[0m \u001b[0;34m=\u001b[0m \u001b[0mself\u001b[0m\u001b[0;34m.\u001b[0m\u001b[0mreindex\u001b[0m\u001b[0;34m(\u001b[0m\u001b[0;34m**\u001b[0m\u001b[0;34m{\u001b[0m\u001b[0maxis_name\u001b[0m\u001b[0;34m:\u001b[0m \u001b[0mnew_axis\u001b[0m\u001b[0;34m}\u001b[0m\u001b[0;34m)\u001b[0m\u001b[0;34m\u001b[0m\u001b[0;34m\u001b[0m\u001b[0m\n\u001b[1;32m   3972\u001b[0m \u001b[0;34m\u001b[0m\u001b[0m\n",
      "\u001b[0;32m~/anaconda3/lib/python3.7/site-packages/pandas/core/indexes/base.py\u001b[0m in \u001b[0;36mdrop\u001b[0;34m(self, labels, errors)\u001b[0m\n\u001b[1;32m   5016\u001b[0m         \u001b[0;32mif\u001b[0m \u001b[0mmask\u001b[0m\u001b[0;34m.\u001b[0m\u001b[0many\u001b[0m\u001b[0;34m(\u001b[0m\u001b[0;34m)\u001b[0m\u001b[0;34m:\u001b[0m\u001b[0;34m\u001b[0m\u001b[0;34m\u001b[0m\u001b[0m\n\u001b[1;32m   5017\u001b[0m             \u001b[0;32mif\u001b[0m \u001b[0merrors\u001b[0m \u001b[0;34m!=\u001b[0m \u001b[0;34m\"ignore\"\u001b[0m\u001b[0;34m:\u001b[0m\u001b[0;34m\u001b[0m\u001b[0;34m\u001b[0m\u001b[0m\n\u001b[0;32m-> 5018\u001b[0;31m                 \u001b[0;32mraise\u001b[0m \u001b[0mKeyError\u001b[0m\u001b[0;34m(\u001b[0m\u001b[0;34mf\"{labels[mask]} not found in axis\"\u001b[0m\u001b[0;34m)\u001b[0m\u001b[0;34m\u001b[0m\u001b[0;34m\u001b[0m\u001b[0m\n\u001b[0m\u001b[1;32m   5019\u001b[0m             \u001b[0mindexer\u001b[0m \u001b[0;34m=\u001b[0m \u001b[0mindexer\u001b[0m\u001b[0;34m[\u001b[0m\u001b[0;34m~\u001b[0m\u001b[0mmask\u001b[0m\u001b[0;34m]\u001b[0m\u001b[0;34m\u001b[0m\u001b[0;34m\u001b[0m\u001b[0m\n\u001b[1;32m   5020\u001b[0m         \u001b[0;32mreturn\u001b[0m \u001b[0mself\u001b[0m\u001b[0;34m.\u001b[0m\u001b[0mdelete\u001b[0m\u001b[0;34m(\u001b[0m\u001b[0mindexer\u001b[0m\u001b[0;34m)\u001b[0m\u001b[0;34m\u001b[0m\u001b[0;34m\u001b[0m\u001b[0m\n",
      "\u001b[0;31mKeyError\u001b[0m: \"['Mail' 'Direccion' 'Telefono Movil' 'Estado Civil' 'TelefonoOficina'\\n 'Telefono Casa'] not found in axis\""
     ]
    }
   ],
   "source": [
    "print(data_raw.isnull().sum()[data_raw.isnull().sum() > 0])\n",
    "null_columns = [\"Mail\", \"Direccion\", \"Telefono Movil\", \"Estado Civil\", \"TelefonoOficina\", \"Telefono Casa\"]\n",
    "data_raw = data_raw.drop(columns=null_columns, axis=1)"
   ]
  },
  {
   "cell_type": "code",
   "execution_count": 127,
   "id": "abf742bd",
   "metadata": {},
   "outputs": [
    {
     "data": {
      "text/plain": [
       "Index(['Cedula', 'Nombre Completo', 'Segmento', 'Compro 2019?', 'Compro 2020?',\n",
       "       'Monto Comprado 2019?', 'Nro Transacciones 2019', 'Monto Comprado 2020',\n",
       "       'Nro Transacciones 2020', 'Tipo de Contacto', 'Es Contactable',\n",
       "       'Ciudad de Residencia', 'Genero', 'Fecha Nacimiento', 'Mes Nacimiento',\n",
       "       'Dia Nacimiento', 'Edad', 'Monto Total de ultima compra',\n",
       "       'Cantidad Articulos',\n",
       "       'Recencia (Tiempo transcurrido en semanas desde su ultima compra)',\n",
       "       'Frecuencia (Cantidad items comprados)', 'Direccion Valido?',\n",
       "       'Mail Valido?', 'Cel Valido?', 'Tel Ofc Valid?', 'Tel Casa Valido?',\n",
       "       'Monto - MARCA COTTON- B/quilla', 'Monto - MARCA COTTON- Bucaramanga',\n",
       "       'Monto - MARCA COTTON- Manizales', 'Monto - MARCA COTTON- Pereira',\n",
       "       'Monto - MARCA COTTON- Cartagena', 'Monto - MARCA COTTON- Pasto',\n",
       "       'Monto - MARCA COTTON- Cable Plaza'],\n",
       "      dtype='object')"
      ]
     },
     "execution_count": 127,
     "metadata": {},
     "output_type": "execute_result"
    }
   ],
   "source": [
    "data_raw.columns\n",
    "# corr.abs().idmax() -> Max corelation \n"
   ]
  },
  {
   "cell_type": "code",
   "execution_count": 128,
   "id": "1efd1ed6",
   "metadata": {},
   "outputs": [
    {
     "ename": "KeyError",
     "evalue": "\"['Monto - Brand Store Cucuta'] not found in axis\"",
     "output_type": "error",
     "traceback": [
      "\u001b[0;31m---------------------------------------------------------------------------\u001b[0m",
      "\u001b[0;31mKeyError\u001b[0m                                  Traceback (most recent call last)",
      "\u001b[0;32m<ipython-input-128-dbc4806788be>\u001b[0m in \u001b[0;36m<module>\u001b[0;34m\u001b[0m\n\u001b[1;32m      1\u001b[0m \u001b[0;31m# Monto - Brand Store Cucuta -> All is 0 for this rason I delete\u001b[0m\u001b[0;34m\u001b[0m\u001b[0;34m\u001b[0m\u001b[0;34m\u001b[0m\u001b[0m\n\u001b[1;32m      2\u001b[0m \u001b[0;31m# data_raw[\"Monto - MARCA COTTON- Cable Plaza\"].value_counts()\u001b[0m\u001b[0;34m\u001b[0m\u001b[0;34m\u001b[0m\u001b[0;34m\u001b[0m\u001b[0m\n\u001b[0;32m----> 3\u001b[0;31m \u001b[0mdata_raw\u001b[0m \u001b[0;34m=\u001b[0m \u001b[0mdata_raw\u001b[0m\u001b[0;34m.\u001b[0m\u001b[0mdrop\u001b[0m\u001b[0;34m(\u001b[0m\u001b[0;34m[\u001b[0m\u001b[0;34m\"Monto - Brand Store Cucuta\"\u001b[0m\u001b[0;34m]\u001b[0m\u001b[0;34m,\u001b[0m \u001b[0maxis\u001b[0m\u001b[0;34m=\u001b[0m\u001b[0;36m1\u001b[0m\u001b[0;34m)\u001b[0m\u001b[0;34m\u001b[0m\u001b[0;34m\u001b[0m\u001b[0m\n\u001b[0m",
      "\u001b[0;32m~/anaconda3/lib/python3.7/site-packages/pandas/core/frame.py\u001b[0m in \u001b[0;36mdrop\u001b[0;34m(self, labels, axis, index, columns, level, inplace, errors)\u001b[0m\n\u001b[1;32m   3995\u001b[0m             \u001b[0mlevel\u001b[0m\u001b[0;34m=\u001b[0m\u001b[0mlevel\u001b[0m\u001b[0;34m,\u001b[0m\u001b[0;34m\u001b[0m\u001b[0;34m\u001b[0m\u001b[0m\n\u001b[1;32m   3996\u001b[0m             \u001b[0minplace\u001b[0m\u001b[0;34m=\u001b[0m\u001b[0minplace\u001b[0m\u001b[0;34m,\u001b[0m\u001b[0;34m\u001b[0m\u001b[0;34m\u001b[0m\u001b[0m\n\u001b[0;32m-> 3997\u001b[0;31m             \u001b[0merrors\u001b[0m\u001b[0;34m=\u001b[0m\u001b[0merrors\u001b[0m\u001b[0;34m,\u001b[0m\u001b[0;34m\u001b[0m\u001b[0;34m\u001b[0m\u001b[0m\n\u001b[0m\u001b[1;32m   3998\u001b[0m         )\n\u001b[1;32m   3999\u001b[0m \u001b[0;34m\u001b[0m\u001b[0m\n",
      "\u001b[0;32m~/anaconda3/lib/python3.7/site-packages/pandas/core/generic.py\u001b[0m in \u001b[0;36mdrop\u001b[0;34m(self, labels, axis, index, columns, level, inplace, errors)\u001b[0m\n\u001b[1;32m   3934\u001b[0m         \u001b[0;32mfor\u001b[0m \u001b[0maxis\u001b[0m\u001b[0;34m,\u001b[0m \u001b[0mlabels\u001b[0m \u001b[0;32min\u001b[0m \u001b[0maxes\u001b[0m\u001b[0;34m.\u001b[0m\u001b[0mitems\u001b[0m\u001b[0;34m(\u001b[0m\u001b[0;34m)\u001b[0m\u001b[0;34m:\u001b[0m\u001b[0;34m\u001b[0m\u001b[0;34m\u001b[0m\u001b[0m\n\u001b[1;32m   3935\u001b[0m             \u001b[0;32mif\u001b[0m \u001b[0mlabels\u001b[0m \u001b[0;32mis\u001b[0m \u001b[0;32mnot\u001b[0m \u001b[0;32mNone\u001b[0m\u001b[0;34m:\u001b[0m\u001b[0;34m\u001b[0m\u001b[0;34m\u001b[0m\u001b[0m\n\u001b[0;32m-> 3936\u001b[0;31m                 \u001b[0mobj\u001b[0m \u001b[0;34m=\u001b[0m \u001b[0mobj\u001b[0m\u001b[0;34m.\u001b[0m\u001b[0m_drop_axis\u001b[0m\u001b[0;34m(\u001b[0m\u001b[0mlabels\u001b[0m\u001b[0;34m,\u001b[0m \u001b[0maxis\u001b[0m\u001b[0;34m,\u001b[0m \u001b[0mlevel\u001b[0m\u001b[0;34m=\u001b[0m\u001b[0mlevel\u001b[0m\u001b[0;34m,\u001b[0m \u001b[0merrors\u001b[0m\u001b[0;34m=\u001b[0m\u001b[0merrors\u001b[0m\u001b[0;34m)\u001b[0m\u001b[0;34m\u001b[0m\u001b[0;34m\u001b[0m\u001b[0m\n\u001b[0m\u001b[1;32m   3937\u001b[0m \u001b[0;34m\u001b[0m\u001b[0m\n\u001b[1;32m   3938\u001b[0m         \u001b[0;32mif\u001b[0m \u001b[0minplace\u001b[0m\u001b[0;34m:\u001b[0m\u001b[0;34m\u001b[0m\u001b[0;34m\u001b[0m\u001b[0m\n",
      "\u001b[0;32m~/anaconda3/lib/python3.7/site-packages/pandas/core/generic.py\u001b[0m in \u001b[0;36m_drop_axis\u001b[0;34m(self, labels, axis, level, errors)\u001b[0m\n\u001b[1;32m   3968\u001b[0m                 \u001b[0mnew_axis\u001b[0m \u001b[0;34m=\u001b[0m \u001b[0maxis\u001b[0m\u001b[0;34m.\u001b[0m\u001b[0mdrop\u001b[0m\u001b[0;34m(\u001b[0m\u001b[0mlabels\u001b[0m\u001b[0;34m,\u001b[0m \u001b[0mlevel\u001b[0m\u001b[0;34m=\u001b[0m\u001b[0mlevel\u001b[0m\u001b[0;34m,\u001b[0m \u001b[0merrors\u001b[0m\u001b[0;34m=\u001b[0m\u001b[0merrors\u001b[0m\u001b[0;34m)\u001b[0m\u001b[0;34m\u001b[0m\u001b[0;34m\u001b[0m\u001b[0m\n\u001b[1;32m   3969\u001b[0m             \u001b[0;32melse\u001b[0m\u001b[0;34m:\u001b[0m\u001b[0;34m\u001b[0m\u001b[0;34m\u001b[0m\u001b[0m\n\u001b[0;32m-> 3970\u001b[0;31m                 \u001b[0mnew_axis\u001b[0m \u001b[0;34m=\u001b[0m \u001b[0maxis\u001b[0m\u001b[0;34m.\u001b[0m\u001b[0mdrop\u001b[0m\u001b[0;34m(\u001b[0m\u001b[0mlabels\u001b[0m\u001b[0;34m,\u001b[0m \u001b[0merrors\u001b[0m\u001b[0;34m=\u001b[0m\u001b[0merrors\u001b[0m\u001b[0;34m)\u001b[0m\u001b[0;34m\u001b[0m\u001b[0;34m\u001b[0m\u001b[0m\n\u001b[0m\u001b[1;32m   3971\u001b[0m             \u001b[0mresult\u001b[0m \u001b[0;34m=\u001b[0m \u001b[0mself\u001b[0m\u001b[0;34m.\u001b[0m\u001b[0mreindex\u001b[0m\u001b[0;34m(\u001b[0m\u001b[0;34m**\u001b[0m\u001b[0;34m{\u001b[0m\u001b[0maxis_name\u001b[0m\u001b[0;34m:\u001b[0m \u001b[0mnew_axis\u001b[0m\u001b[0;34m}\u001b[0m\u001b[0;34m)\u001b[0m\u001b[0;34m\u001b[0m\u001b[0;34m\u001b[0m\u001b[0m\n\u001b[1;32m   3972\u001b[0m \u001b[0;34m\u001b[0m\u001b[0m\n",
      "\u001b[0;32m~/anaconda3/lib/python3.7/site-packages/pandas/core/indexes/base.py\u001b[0m in \u001b[0;36mdrop\u001b[0;34m(self, labels, errors)\u001b[0m\n\u001b[1;32m   5016\u001b[0m         \u001b[0;32mif\u001b[0m \u001b[0mmask\u001b[0m\u001b[0;34m.\u001b[0m\u001b[0many\u001b[0m\u001b[0;34m(\u001b[0m\u001b[0;34m)\u001b[0m\u001b[0;34m:\u001b[0m\u001b[0;34m\u001b[0m\u001b[0;34m\u001b[0m\u001b[0m\n\u001b[1;32m   5017\u001b[0m             \u001b[0;32mif\u001b[0m \u001b[0merrors\u001b[0m \u001b[0;34m!=\u001b[0m \u001b[0;34m\"ignore\"\u001b[0m\u001b[0;34m:\u001b[0m\u001b[0;34m\u001b[0m\u001b[0;34m\u001b[0m\u001b[0m\n\u001b[0;32m-> 5018\u001b[0;31m                 \u001b[0;32mraise\u001b[0m \u001b[0mKeyError\u001b[0m\u001b[0;34m(\u001b[0m\u001b[0;34mf\"{labels[mask]} not found in axis\"\u001b[0m\u001b[0;34m)\u001b[0m\u001b[0;34m\u001b[0m\u001b[0;34m\u001b[0m\u001b[0m\n\u001b[0m\u001b[1;32m   5019\u001b[0m             \u001b[0mindexer\u001b[0m \u001b[0;34m=\u001b[0m \u001b[0mindexer\u001b[0m\u001b[0;34m[\u001b[0m\u001b[0;34m~\u001b[0m\u001b[0mmask\u001b[0m\u001b[0;34m]\u001b[0m\u001b[0;34m\u001b[0m\u001b[0;34m\u001b[0m\u001b[0m\n\u001b[1;32m   5020\u001b[0m         \u001b[0;32mreturn\u001b[0m \u001b[0mself\u001b[0m\u001b[0;34m.\u001b[0m\u001b[0mdelete\u001b[0m\u001b[0;34m(\u001b[0m\u001b[0mindexer\u001b[0m\u001b[0;34m)\u001b[0m\u001b[0;34m\u001b[0m\u001b[0;34m\u001b[0m\u001b[0m\n",
      "\u001b[0;31mKeyError\u001b[0m: \"['Monto - Brand Store Cucuta'] not found in axis\""
     ]
    }
   ],
   "source": [
    "# Monto - Brand Store Cucuta -> All is 0 for this rason I delete\n",
    "# data_raw[\"Monto - MARCA COTTON- Cable Plaza\"].value_counts()\n",
    "data_raw = data_raw.drop([\"Monto - Brand Store Cucuta\"], axis=1)"
   ]
  },
  {
   "cell_type": "markdown",
   "id": "123d6019",
   "metadata": {},
   "source": [
    "#### Change Column name"
   ]
  },
  {
   "cell_type": "code",
   "execution_count": 129,
   "id": "169345cf",
   "metadata": {},
   "outputs": [],
   "source": [
    "data_raw.rename(columns={'Monto - MARCA COTTON- B/quilla.': 'Monto - MARCA COTTON- B/quilla'}, inplace=True)"
   ]
  },
  {
   "cell_type": "markdown",
   "id": "3b54cea9",
   "metadata": {},
   "source": [
    "### Limpieza de datos"
   ]
  },
  {
   "cell_type": "markdown",
   "id": "37032168",
   "metadata": {},
   "source": [
    "Registers un data are complete"
   ]
  },
  {
   "cell_type": "code",
   "execution_count": 138,
   "id": "f2042f91",
   "metadata": {},
   "outputs": [
    {
     "name": "stdout",
     "output_type": "stream",
     "text": [
      "9976\n",
      "<class 'pandas.core.frame.DataFrame'>\n",
      "RangeIndex: 9976 entries, 0 to 9975\n",
      "Data columns (total 33 columns):\n",
      " #   Column                                                            Non-Null Count  Dtype \n",
      "---  ------                                                            --------------  ----- \n",
      " 0   Cedula                                                            9976 non-null   int64 \n",
      " 1   Nombre Completo                                                   9976 non-null   object\n",
      " 2   Segmento                                                          9976 non-null   object\n",
      " 3   Compro 2019?                                                      9976 non-null   object\n",
      " 4   Compro 2020?                                                      9976 non-null   object\n",
      " 5   Monto Comprado 2019?                                              9976 non-null   int64 \n",
      " 6   Nro Transacciones 2019                                            9976 non-null   int64 \n",
      " 7   Monto Comprado 2020                                               9976 non-null   int64 \n",
      " 8   Nro Transacciones 2020                                            9976 non-null   int64 \n",
      " 9   Tipo de Contacto                                                  9976 non-null   int64 \n",
      " 10  Es Contactable                                                    9976 non-null   object\n",
      " 11  Ciudad de Residencia                                              9976 non-null   object\n",
      " 12  Genero                                                            9976 non-null   object\n",
      " 13  Fecha Nacimiento                                                  9976 non-null   int64 \n",
      " 14  Mes Nacimiento                                                    9976 non-null   object\n",
      " 15  Dia Nacimiento                                                    9976 non-null   int64 \n",
      " 16  Edad                                                              9976 non-null   int64 \n",
      " 17  Monto Total de ultima compra                                      9976 non-null   int64 \n",
      " 18  Cantidad Articulos                                                9976 non-null   int64 \n",
      " 19  Recencia (Tiempo transcurrido en semanas desde su ultima compra)  9976 non-null   int64 \n",
      " 20  Frecuencia (Cantidad items comprados)                             9976 non-null   int64 \n",
      " 21  Direccion Valido?                                                 9976 non-null   object\n",
      " 22  Mail Valido?                                                      9976 non-null   object\n",
      " 23  Cel Valido?                                                       9976 non-null   object\n",
      " 24  Tel Ofc Valid?                                                    9976 non-null   object\n",
      " 25  Tel Casa Valido?                                                  9976 non-null   object\n",
      " 26  Monto - MARCA COTTON- B/quilla                                    9976 non-null   int64 \n",
      " 27  Monto - MARCA COTTON- Bucaramanga                                 9976 non-null   int64 \n",
      " 28  Monto - MARCA COTTON- Manizales                                   9976 non-null   int64 \n",
      " 29  Monto - MARCA COTTON- Pereira                                     9976 non-null   int64 \n",
      " 30  Monto - MARCA COTTON- Cartagena                                   9976 non-null   int64 \n",
      " 31  Monto - MARCA COTTON- Pasto                                       9976 non-null   int64 \n",
      " 32  Monto - MARCA COTTON- Cable Plaza                                 9976 non-null   int64 \n",
      "dtypes: int64(20), object(13)\n",
      "memory usage: 2.5+ MB\n"
     ]
    }
   ],
   "source": [
    "registers = data_raw.shape[0]\n",
    "print(registers)\n",
    "data_raw.info()"
   ]
  },
  {
   "cell_type": "markdown",
   "id": "58b043a6",
   "metadata": {},
   "source": [
    "### Validate feactures relevant"
   ]
  },
  {
   "cell_type": "code",
   "execution_count": 152,
   "id": "d1648d5f",
   "metadata": {},
   "outputs": [],
   "source": [
    "# Using correlation\n",
    "data_corr = data_raw.corr()"
   ]
  },
  {
   "cell_type": "code",
   "execution_count": 154,
   "id": "a6f6c20f",
   "metadata": {},
   "outputs": [],
   "source": [
    "for x in range(data_corr.shape[0]):\n",
    "  data_corr.iloc[x,x] = 0.0\n",
    "data_corr.abs().idxmax();\n",
    "\n"
   ]
  },
  {
   "cell_type": "markdown",
   "id": "b1f927c1",
   "metadata": {},
   "source": [
    "### Change some Columns from object to int ot floar"
   ]
  },
  {
   "cell_type": "code",
   "execution_count": 158,
   "id": "2b110b9f",
   "metadata": {},
   "outputs": [
    {
     "name": "stdout",
     "output_type": "stream",
     "text": [
      "<class 'pandas.core.frame.DataFrame'>\n",
      "RangeIndex: 9976 entries, 0 to 9975\n",
      "Data columns (total 33 columns):\n",
      " #   Column                                                            Non-Null Count  Dtype \n",
      "---  ------                                                            --------------  ----- \n",
      " 0   Cedula                                                            9976 non-null   int64 \n",
      " 1   Nombre Completo                                                   9976 non-null   object\n",
      " 2   Segmento                                                          9976 non-null   object\n",
      " 3   Compro 2019?                                                      9976 non-null   object\n",
      " 4   Compro 2020?                                                      9976 non-null   object\n",
      " 5   Monto Comprado 2019?                                              9976 non-null   int64 \n",
      " 6   Nro Transacciones 2019                                            9976 non-null   int64 \n",
      " 7   Monto Comprado 2020                                               9976 non-null   int64 \n",
      " 8   Nro Transacciones 2020                                            9976 non-null   int64 \n",
      " 9   Tipo de Contacto                                                  9976 non-null   int64 \n",
      " 10  Es Contactable                                                    9976 non-null   object\n",
      " 11  Ciudad de Residencia                                              9976 non-null   object\n",
      " 12  Genero                                                            9976 non-null   object\n",
      " 13  Fecha Nacimiento                                                  9976 non-null   int64 \n",
      " 14  Mes Nacimiento                                                    9976 non-null   object\n",
      " 15  Dia Nacimiento                                                    9976 non-null   int64 \n",
      " 16  Edad                                                              9976 non-null   int64 \n",
      " 17  Monto Total de ultima compra                                      9976 non-null   int64 \n",
      " 18  Cantidad Articulos                                                9976 non-null   int64 \n",
      " 19  Recencia (Tiempo transcurrido en semanas desde su ultima compra)  9976 non-null   int64 \n",
      " 20  Frecuencia (Cantidad items comprados)                             9976 non-null   int64 \n",
      " 21  Direccion Valido?                                                 9976 non-null   object\n",
      " 22  Mail Valido?                                                      9976 non-null   object\n",
      " 23  Cel Valido?                                                       9976 non-null   object\n",
      " 24  Tel Ofc Valid?                                                    9976 non-null   object\n",
      " 25  Tel Casa Valido?                                                  9976 non-null   object\n",
      " 26  Monto - MARCA COTTON- B/quilla                                    9976 non-null   int64 \n",
      " 27  Monto - MARCA COTTON- Bucaramanga                                 9976 non-null   int64 \n",
      " 28  Monto - MARCA COTTON- Manizales                                   9976 non-null   int64 \n",
      " 29  Monto - MARCA COTTON- Pereira                                     9976 non-null   int64 \n",
      " 30  Monto - MARCA COTTON- Cartagena                                   9976 non-null   int64 \n",
      " 31  Monto - MARCA COTTON- Pasto                                       9976 non-null   int64 \n",
      " 32  Monto - MARCA COTTON- Cable Plaza                                 9976 non-null   int64 \n",
      "dtypes: int64(20), object(13)\n",
      "memory usage: 2.5+ MB\n"
     ]
    }
   ],
   "source": [
    "data_raw.info()"
   ]
  },
  {
   "cell_type": "code",
   "execution_count": 173,
   "id": "ff5e0e16",
   "metadata": {},
   "outputs": [
    {
     "data": {
      "text/plain": [
       "Index(['Nombre Completo', 'Segmento', 'Compro 2019?', 'Compro 2020?',\n",
       "       'Es Contactable', 'Ciudad de Residencia', 'Genero', 'Mes Nacimiento',\n",
       "       'Direccion Valido?', 'Mail Valido?', 'Cel Valido?', 'Tel Ofc Valid?',\n",
       "       'Tel Casa Valido?'],\n",
       "      dtype='object')"
      ]
     },
     "execution_count": 173,
     "metadata": {},
     "output_type": "execute_result"
    }
   ],
   "source": [
    "data"
   ]
  },
  {
   "cell_type": "code",
   "execution_count": 177,
   "id": "709dd372",
   "metadata": {},
   "outputs": [
    {
     "data": {
      "text/plain": [
       "Mujer     5980\n",
       "Hombre    3996\n",
       "Name: Genero, dtype: int64"
      ]
     },
     "execution_count": 177,
     "metadata": {},
     "output_type": "execute_result"
    }
   ],
   "source": [
    "data_raw[\"Genero\"].value_counts()"
   ]
  },
  {
   "cell_type": "markdown",
   "id": "c1ed8241",
   "metadata": {},
   "source": [
    "### Creación de nuevas características"
   ]
  },
  {
   "cell_type": "code",
   "execution_count": 166,
   "id": "5a318e76",
   "metadata": {},
   "outputs": [],
   "source": [
    "# cuales son las caracteristicas que tenemos, podemo shacer algo que nos aporte algo mas a nuestro \n",
    "# modelo o es redundante\n",
    "data_play = data_raw.copy(deep=True)"
   ]
  },
  {
   "cell_type": "code",
   "execution_count": 178,
   "id": "ce7fb95d",
   "metadata": {},
   "outputs": [],
   "source": [
    "data_raw = data_raw.replace({\"Compro 2020?\": 'Si'}, 1)\n",
    "data_raw = data_raw.replace({\"Compro 2020?\": 'No'}, 0)\n",
    "data_raw = data_raw.replace({\"Genero\": \"Mujer\"}, 0)\n",
    "data_raw = data_raw.replace({\"Genero\": \"Hombre\"}, 1)"
   ]
  },
  {
   "cell_type": "markdown",
   "id": "96eccec5",
   "metadata": {},
   "source": [
    "### Transformación del tipo de variable (En caso de ser necesario)"
   ]
  },
  {
   "cell_type": "code",
   "execution_count": null,
   "id": "11bf8689",
   "metadata": {},
   "outputs": [],
   "source": []
  },
  {
   "cell_type": "markdown",
   "id": "4fb93610",
   "metadata": {},
   "source": [
    "### Identificación de valores atípicos (Outliers)"
   ]
  },
  {
   "cell_type": "code",
   "execution_count": 179,
   "id": "fa2ca1b9",
   "metadata": {},
   "outputs": [
    {
     "data": {
      "text/plain": [
       "<matplotlib.axes._subplots.AxesSubplot at 0x7f5002bb1a50>"
      ]
     },
     "execution_count": 179,
     "metadata": {},
     "output_type": "execute_result"
    },
    {
     "data": {
      "image/png": "[encoded data removed]",
      "text/plain": [
       "<Figure size 1800x360 with 1 Axes>"
      ]
     },
     "metadata": {
      "needs_background": "light"
     },
     "output_type": "display_data"
    }
   ],
   "source": [
    "fig, ax = plt.subplots(figsize=(25,5))\n",
    "sns.boxplot(data=data_raw, width= 0.5,ax=ax,  fliersize=3)"
   ]
  },
  {
   "cell_type": "markdown",
   "id": "3bdcc3e1",
   "metadata": {},
   "source": [
    "#### Tratamiento de valores atípicos (Outliers)"
   ]
  },
  {
   "cell_type": "code",
   "execution_count": null,
   "id": "9ead35bc",
   "metadata": {},
   "outputs": [],
   "source": []
  },
  {
   "cell_type": "markdown",
   "id": "e360a2af",
   "metadata": {},
   "source": [
    "## Codificación de variables categóricas"
   ]
  },
  {
   "cell_type": "markdown",
   "id": "545bc6b7",
   "metadata": {},
   "source": [
    "Mediante la identificación de las variables categóricas, se requiere realizar la codificación (creación de variables ficticias) de las mismas con el fin de poder tratarlas en un algoritmo de Machine Learning. \n",
    "\n",
    "Es posible realizar este procedimiento con [pandas.get_dummies()](https://pandas.pydata.org/docs/reference/api/pandas.get_dummies.html) o [sklearn.preprocessing.OneHotEncoder()](https://scikit-learn.org/stable/modules/generated/sklearn.preprocessing.OneHotEncoder.html). \n",
    "\n",
    "Identificar la diferencia entre los anteriores."
   ]
  },
  {
   "cell_type": "code",
   "execution_count": null,
   "id": "c338a2ed",
   "metadata": {},
   "outputs": [],
   "source": []
  },
  {
   "cell_type": "markdown",
   "id": "bab50095",
   "metadata": {},
   "source": [
    "## Escalado de datos"
   ]
  },
  {
   "cell_type": "markdown",
   "id": "7198caab",
   "metadata": {},
   "source": [
    "En esta etapa se requiere llevar los datos a una misma escala, realizar el proceso haciendo uso de los siguientes métodos:\n",
    "\n",
    "- [MinMaxScaler()](https://scikit-learn.org/stable/modules/generated/sklearn.preprocessing.MinMaxScaler.html).\n",
    "- [scale](https://scikit-learn.org/stable/modules/generated/sklearn.preprocessing.scale.html)\n",
    "\n",
    "Revisar y analizar el comportamiento obtenido con ambos métodos."
   ]
  },
  {
   "cell_type": "markdown",
   "id": "ec08f4d4",
   "metadata": {},
   "source": [
    "### MinMaxScaler()"
   ]
  },
  {
   "cell_type": "code",
   "execution_count": null,
   "id": "0d721d8a",
   "metadata": {},
   "outputs": [],
   "source": []
  },
  {
   "cell_type": "markdown",
   "id": "8de7038a",
   "metadata": {},
   "source": [
    "### scale"
   ]
  },
  {
   "cell_type": "code",
   "execution_count": null,
   "id": "fb2e0530",
   "metadata": {},
   "outputs": [],
   "source": []
  }
 ],
 "metadata": {
  "kernelspec": {
   "display_name": "Python 3",
   "language": "python",
   "name": "python3"
  },
  "language_info": {
   "codemirror_mode": {
    "name": "ipython",
    "version": 3
   },
   "file_extension": ".py",
   "mimetype": "text/x-python",
   "name": "python",
   "nbconvert_exporter": "python",
   "pygments_lexer": "ipython3",
   "version": "3.7.6"
  }
 },
 "nbformat": 4,
 "nbformat_minor": 5
}
