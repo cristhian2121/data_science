{
 "cells": [
  {
   "cell_type": "markdown",
   "id": "eb669be8",
   "metadata": {},
   "source": [
    "# Python + Jupyter Notebooks"
   ]
  },
  {
   "cell_type": "markdown",
   "id": "1f70c45e",
   "metadata": {},
   "source": [
    "Los Notebooks de Python proveen un ambiente interactivo para experimentación de código, visualización y publicación de resultados.\n",
    "\n",
    "Las casillas de color gris claro que se encuentran a continuación se denominan celdas y estas pueden contener código (code) o texto formateado (Markdown).\n",
    "\n",
    "* [Flechas arriba / abajo] Mover arriba y abajo de celda a celda.\n",
    "* [Enter] Ingresa una celda para editarla.\n",
    "* [Shift + Enter] Evalúa una celda, muestra el resultado y pasa a la siguiente celda.\n",
    "* [Ctrl + Enter] Evalúa una celda, muestra el resultado y permanece en la celda.\n",
    "* [Alt + Enter] Evalúa una celda, muestra el resultado e inserta una celda abajo.\n",
    "* [Esc] - [D] - [D] Eliminar una celda.\n",
    "* [Esc] - [Z] Deshacer eliminar una celda.\n",
    "* [Esc] - [B] Insertar una celda debajo de la celda actual.\n",
    "* [Esc] - [A] Insertar una celda sobre la celda actual.\n",
    "* [Esc] - [M] Convierte la celda de código en markdown.\n",
    "* [Esc] - [Y] Convierte la celda de Markdown a código.\n",
    "\n",
    "Para más atajos de teclado vaya al menú Ayuda -> Atajos de teclado"
   ]
  },
  {
   "cell_type": "markdown",
   "id": "5ac1b8d8",
   "metadata": {},
   "source": [
    "## Markdown\n",
    "\n",
    "Es un lenguaje creado para producir texto formateado que sea facil de leer para las personas (produce html limpio y cumpliendo estandares web)."
   ]
  },
  {
   "cell_type": "markdown",
   "id": "972cd7b5",
   "metadata": {},
   "source": [
    "Podemos crear texto en **negrita** e *itálico*"
   ]
  },
  {
   "cell_type": "markdown",
   "id": "3344abbb",
   "metadata": {},
   "source": [
    "Podemos insertar imágenes"
   ]
  },
  {
   "cell_type": "markdown",
   "id": "6cf86b40",
   "metadata": {},
   "source": [
    "![](https://www.eafit.edu.co/SiteCollectionImages/logo.png)"
   ]
  },
  {
   "cell_type": "markdown",
   "id": "075e4a64",
   "metadata": {},
   "source": [
    "### Encabezado a\n",
    "#### Encabezado b"
   ]
  },
  {
   "cell_type": "markdown",
   "id": "0d2e53c2",
   "metadata": {},
   "source": [
    "<h3>Encabezado a</h3>\n",
    "<h4>Encabezado b</h4>"
   ]
  },
  {
   "cell_type": "markdown",
   "id": "8f82e827",
   "metadata": {},
   "source": [
    "**Listas de items:**\n",
    "\n",
    "* item 1\n",
    "* item 2\n",
    "    * item 2.1\n",
    "        * item 2.1.1\n",
    "            * item 2.1.1.1\n",
    "                * item 2.1.1.1.1\n",
    "    * item 2b\n",
    "* item 3"
   ]
  },
  {
   "cell_type": "markdown",
   "id": "33454e18",
   "metadata": {},
   "source": [
    "[Visitar para tips útiles con Markdown](https://towardsdatascience.com/write-markdown-latex-in-the-jupyter-notebook-10985edb91fd)"
   ]
  },
  {
   "cell_type": "markdown",
   "id": "21f46357",
   "metadata": {},
   "source": [
    "Podemos crear una tabla (filas, columnas)"
   ]
  },
  {
   "cell_type": "markdown",
   "id": "2cb7584f",
   "metadata": {},
   "source": [
    "| Id | Label    | Price |\n",
    "|--- |----------| ------|\n",
    "| 01 | Markdown |\\$1600 |\n",
    "| 02 | is       |  \\$12 |\n",
    "| 03 | AWESOME  | \\$999 |"
   ]
  },
  {
   "cell_type": "markdown",
   "id": "652641d5",
   "metadata": {},
   "source": [
    "## Comentarios en una celda de código - Code"
   ]
  },
  {
   "cell_type": "code",
   "execution_count": 6,
   "id": "7773d429",
   "metadata": {},
   "outputs": [
    {
     "data": {
      "text/plain": [
       "'hola'"
      ]
     },
     "execution_count": 6,
     "metadata": {},
     "output_type": "execute_result"
    }
   ],
   "source": [
    "x = 'hola'\n",
    "y = 'mundo'\n",
    "\n",
    "# imprimiendo el valor x\n",
    "x"
   ]
  }
 ],
 "metadata": {
  "kernelspec": {
   "display_name": "Python 3",
   "language": "python",
   "name": "python3"
  },
  "language_info": {
   "codemirror_mode": {
    "name": "ipython",
    "version": 3
   },
   "file_extension": ".py",
   "mimetype": "text/x-python",
   "name": "python",
   "nbconvert_exporter": "python",
   "pygments_lexer": "ipython3",
   "version": "3.8.8"
  }
 },
 "nbformat": 4,
 "nbformat_minor": 5
}
