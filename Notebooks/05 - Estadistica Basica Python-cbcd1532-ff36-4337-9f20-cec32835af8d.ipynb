{
 "cells": [
  {
   "cell_type": "code",
   "execution_count": 2,
   "metadata": {},
   "outputs": [],
   "source": [
    "import numpy as np"
   ]
  },
  {
   "cell_type": "code",
   "execution_count": 6,
   "id": "1a732f94",
   "metadata": {},
   "outputs": [],
   "source": [
    "M = np.matrix([\n",
    "  [10,11,12,13,14],\n",
    "  [15,16,17,18,19],\n",
    "  [20,21,22,23,24],\n",
    "  [25,26,27,28,29]\n",
    "]\n",
    "  )"
   ]
  },
  {
   "cell_type": "code",
   "execution_count": 67,
   "id": "7cfd9284",
   "metadata": {},
   "outputs": [],
   "source": [
    "M[1:,2:4]\n",
    "# np.arange(10,30).reshape(4,5)\n",
    "M[1:,0::3];"
   ]
  },
  {
   "cell_type": "code",
   "execution_count": 68,
   "id": "e4ae201f",
   "metadata": {},
   "outputs": [],
   "source": [
    "M[3:,4]; # M[3,4]"
   ]
  },
  {
   "cell_type": "code",
   "execution_count": 71,
   "id": "88375c9a",
   "metadata": {},
   "outputs": [
    {
     "data": {
      "text/plain": [
       "matrix([[20, 23]])"
      ]
     },
     "execution_count": 71,
     "metadata": {},
     "output_type": "execute_result"
    }
   ],
   "source": [
    "M[2,::3]"
   ]
  },
  {
   "cell_type": "code",
   "execution_count": 72,
   "id": "aca7be23",
   "metadata": {},
   "outputs": [],
   "source": [
    "M[2:, 1:3];"
   ]
  },
  {
   "cell_type": "code",
   "execution_count": 113,
   "id": "d4179b6f",
   "metadata": {},
   "outputs": [],
   "source": [
    "from skimage import io\n",
    "import matplotlib.pyplot as plt"
   ]
  },
  {
   "cell_type": "code",
   "execution_count": 78,
   "id": "005e5dd5",
   "metadata": {},
   "outputs": [],
   "source": [
    "img = io.imread(\"./example.png\")"
   ]
  },
  {
   "cell_type": "code",
   "execution_count": 99,
   "id": "e3d9c03a",
   "metadata": {},
   "outputs": [
    {
     "data": {
      "text/plain": [
       "(0, 255)"
      ]
     },
     "execution_count": 99,
     "metadata": {},
     "output_type": "execute_result"
    }
   ],
   "source": [
    "np.min(img), np.max(img)"
   ]
  },
  {
   "cell_type": "code",
   "execution_count": 117,
   "id": "7f586a71",
   "metadata": {},
   "outputs": [],
   "source": [
    "img_short = img[:img.shape[0]//2,:,:]"
   ]
  },
  {
   "cell_type": "code",
   "execution_count": 118,
   "id": "aaf89a2b",
   "metadata": {},
   "outputs": [
    {
     "data": {
      "text/plain": [
       "<matplotlib.image.AxesImage at 0x7fc0945937d0>"
      ]
     },
     "execution_count": 118,
     "metadata": {},
     "output_type": "execute_result"
    },
    {
     "data": {
      "image/png": "[encoded data removed]",
      "text/plain": [
       "<Figure size 432x288 with 1 Axes>"
      ]
     },
     "metadata": {
      "needs_background": "light"
     },
     "output_type": "display_data"
    }
   ],
   "source": [
    "plt.imshow(img_short)"
   ]
  },
  {
   "cell_type": "code",
   "execution_count": 133,
   "id": "a26f26e3",
   "metadata": {},
   "outputs": [
    {
     "data": {
      "text/plain": [
       "4"
      ]
     },
     "execution_count": 133,
     "metadata": {},
     "output_type": "execute_result"
    }
   ],
   "source": [
    "img_red = img[:,:,1]\n",
    "# plt.imshow(img_red)\n",
    "channels = img.shape[2]\n",
    "for i in range(channels):\n",
    "  "
   ]
  },
  {
   "cell_type": "code",
   "execution_count": null,
   "id": "379a90e8",
   "metadata": {},
   "outputs": [],
   "source": []
  },
  {
   "cell_type": "code",
   "execution_count": 123,
   "id": "49253ad8",
   "metadata": {},
   "outputs": [
    {
     "data": {
      "text/plain": [
       "(256, 256, 4)"
      ]
     },
     "execution_count": 123,
     "metadata": {},
     "output_type": "execute_result"
    }
   ],
   "source": [
    "img_red.shape"
   ]
  }
 ],
 "metadata": {
  "interpreter": {
   "hash": "5ce9979c30cd226f0b14f35e63b70d9b0c907d28e2b7acd115312f484ab3602a"
  },
  "kernelspec": {
   "display_name": "Python 3.7.6 64-bit ('base': conda)",
   "language": "python",
   "name": "python3"
  },
  "language_info": {
   "codemirror_mode": {
    "name": "ipython",
    "version": 3
   },
   "file_extension": ".py",
   "mimetype": "text/x-python",
   "name": "python",
   "nbconvert_exporter": "python",
   "pygments_lexer": "ipython3",
   "version": "3.7.6"
  }
 },
 "nbformat": 4,
 "nbformat_minor": 5
}
